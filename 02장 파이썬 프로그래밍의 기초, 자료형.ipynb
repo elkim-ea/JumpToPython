{
 "cells": [
  {
   "cell_type": "markdown",
   "id": "b2ab118d",
   "metadata": {},
   "source": [
    "# 02장 파이썬 프로그래밍의 기초, 자료형\n",
    "---\n",
    "'어떤 프로그래밍 언어이든 그 언어의 자료형을 알고 이해할 수 있다면 이미 그 언어의 절반을 터득한 것이나 다름없다'라는 말이 있다.  \n",
    "자료형이란 프로그래밍을 할 때 쓰이는 숫자, 문자열 등과ㅏ 같이 자료 형태로 사용하는 모든 것을 뜻한다.  \n",
    "프로그램의 기본이자 핵심 단위가 바로 자료형이다.  \n",
    "계산 프로그램을 만들려면 어떤 것을 계산할 것인지부터 알아야 하고 데이터베이스 프로그램을 만들려면 어떤 자료를 저장할 것인지부터 알아야 하는 것처럼 기본 중의 기본이다.  \n",
    "따라서 자료형을 충분히 이해하지 않고 프로그래밍을 시작하려는 것은 기초 공사가 마무리 되지 않은 상ㅌ채에서 빌딩을 세우는 것과 같다.   \n",
    "\n",
    "02장에서는 다음과 같은 파이썬의 자료형을 하나씩 자세하게 알아본다.\n",
    "- 숫자\n",
    "- 문자열\n",
    "- 리스트\n",
    "- 튜플\n",
    "- 딕셔너리\n",
    "- 집합  \n",
    "- 불\n"
   ]
  },
  {
   "cell_type": "markdown",
   "id": "6e9e57da",
   "metadata": {},
   "source": [
    "## 02-1 숫자형\n",
    "---\n",
    "숫자형(Number)이란 숫자 형태로 이루어진 자료형으로, 우리가 이미 잘 알고 있는 것이다.  \n",
    "우리가 흔히 사용하는 숫자들을 생각해 보자.   \n",
    "다음 표는 파이썬에서 숫자를 어떻게 사용하는지 간략하게 보여 준다.   \n",
    "\n",
    "항목    파이썬 사용 예  \n",
    "정수    123, -345, 0  \n",
    "실수    123.45, -1234.5, 3.4e10  \n",
    "8진수   0o34, 0o25  \n",
    "16진수  0x2A, 0xFF  \n",
    "\n",
    "이제 이런숫자를 파이썬에서는 어떻게 만들고 사용하는지 자세히 알아보자.  \n",
    "\n",
    "## 숫자형은 어떻게 만들고 사용할까?\n",
    "---\n",
    "### 정수형\n",
    "정수형(integer)이란 말 그대로 정수를 뜻하는 자료형을 말한다.  \n",
    "다음은 양의 정수와 음의 정수, 숫자 0을 변수 a에 대입하는 예이다.  "
   ]
  },
  {
   "cell_type": "code",
   "execution_count": null,
   "id": "da01ea1f",
   "metadata": {},
   "outputs": [],
   "source": [
    "a = 123\n",
    "a = -178\n",
    "a = 0"
   ]
  },
  {
   "cell_type": "markdown",
   "id": "56926f01",
   "metadata": {},
   "source": [
    "### 실수형\n",
    "파이썬에서 실수형(floating-point)은 소수점이 포함된 숫자를 말한다.   \n",
    "다음은 실수를 변수 a에 대입하는 예이다.  \n",
    "일반적으로 볼 수 있는 실수형의 소수점 표현방식이다.  "
   ]
  },
  {
   "cell_type": "code",
   "execution_count": null,
   "id": "d95ef8e1",
   "metadata": {},
   "outputs": [],
   "source": [
    "a = 1.2\n",
    "a = -3.45"
   ]
  },
  {
   "cell_type": "markdown",
   "id": "a681930f",
   "metadata": {},
   "source": [
    "다음은 '컴퓨터식 지수 표현 방식'으로, 파이썬에서는 4.24e10 또는 4.24E10처럼 표현한다.(e와 E 둘 중 어느 것을 사용해도 된다.)"
   ]
  },
  {
   "cell_type": "code",
   "execution_count": null,
   "id": "ef3c91cc",
   "metadata": {},
   "outputs": [],
   "source": [
    "a = 4.24E10\n",
    "a = 4.24E-10"
   ]
  },
  {
   "cell_type": "markdown",
   "id": "0dd5f1b3",
   "metadata": {},
   "source": [
    "여기서 4.24E10은 4.24 x 10의10승, 4.25e-10은 4.24 x 10의-10을 의미한다.\n",
    "\n",
    "### 8진수와 16진수\n",
    "8진수(octal)를 만들기 위해서는 숫자가 0o(숫자0 + 알파벳 소문자 o 또는 대문자 O)으로 시작한면 된다."
   ]
  },
  {
   "cell_type": "code",
   "execution_count": null,
   "id": "5d612bf2",
   "metadata": {},
   "outputs": [],
   "source": [
    "a = 0o177\n",
    "print(a)"
   ]
  },
  {
   "cell_type": "markdown",
   "id": "7712785a",
   "metadata": {},
   "source": [
    "> 0o177 = 1x8의2승 + 7x8의1승 +7 =127\n",
    "\n",
    " 16진수 (hexadecimal)를 만들기 위해서는 0x로 시작하면 된다."
   ]
  },
  {
   "cell_type": "code",
   "execution_count": 1,
   "id": "7fc4f037",
   "metadata": {},
   "outputs": [
    {
     "name": "stdout",
     "output_type": "stream",
     "text": [
      "2748\n"
     ]
    }
   ],
   "source": [
    "a = 0x8ff\n",
    "b = 0xABC\n",
    "print(b)"
   ]
  },
  {
   "cell_type": "markdown",
   "id": "28ba0d48",
   "metadata": {},
   "source": [
    "> 0xABC = 10 x 16의2승 + 11 x 16의1승 + 12 = 2748 (A:10, B:11, C:12)\n",
    "\n",
    "8진수나 16진수는 파이썬에서 잘 사용하지 않는 형태의 숫자 자료형이므로 간단히 눈으로만 익히고 넘어가자.  \n",
    "\n",
    "## 숫자형을 활용하기 위한 연산자\n",
    "---\n",
    "### 사칙연산\n",
    "프로그래밍을 한 번도 해본적이 없는 독자라도 사직연산(+,-,*,/)은 알고 있을 것이다.   \n",
    "파이썬 역시 계산기와 마찬가지로 다음처럼 연산자를 사용해 사칙 연산을 수행한다.   "
   ]
  },
  {
   "cell_type": "code",
   "execution_count": 6,
   "id": "878318d9",
   "metadata": {},
   "outputs": [
    {
     "data": {
      "text/plain": [
       "7"
      ]
     },
     "execution_count": 6,
     "metadata": {},
     "output_type": "execute_result"
    }
   ],
   "source": [
    "a = 3\n",
    "b = 4\n",
    "a + b"
   ]
  },
  {
   "cell_type": "code",
   "execution_count": 3,
   "id": "be095384",
   "metadata": {},
   "outputs": [
    {
     "data": {
      "text/plain": [
       "-1"
      ]
     },
     "execution_count": 3,
     "metadata": {},
     "output_type": "execute_result"
    }
   ],
   "source": [
    "a - b"
   ]
  },
  {
   "cell_type": "code",
   "execution_count": 4,
   "id": "fc814f27",
   "metadata": {},
   "outputs": [
    {
     "data": {
      "text/plain": [
       "12"
      ]
     },
     "execution_count": 4,
     "metadata": {},
     "output_type": "execute_result"
    }
   ],
   "source": [
    "a * b"
   ]
  },
  {
   "cell_type": "code",
   "execution_count": 5,
   "id": "c9f96945",
   "metadata": {},
   "outputs": [
    {
     "data": {
      "text/plain": [
       "0.75"
      ]
     },
     "execution_count": 5,
     "metadata": {},
     "output_type": "execute_result"
    }
   ],
   "source": [
    "a / b"
   ]
  },
  {
   "cell_type": "markdown",
   "id": "c331dfe1",
   "metadata": {},
   "source": [
    "### x의 y제곱을 나타내는 **연산자\n",
    "다음으로 알아야 할 연산자로 **라는 연산자가 있다.  \n",
    "이 연산자는 x ** y처럼 사용햤을 때 x의 y제곱(x의 y승)값을 반환한다.  \n",
    "다음 예를 통해 알아보자.   "
   ]
  },
  {
   "cell_type": "code",
   "execution_count": 7,
   "id": "fd00c2f7",
   "metadata": {},
   "outputs": [
    {
     "data": {
      "text/plain": [
       "81"
      ]
     },
     "execution_count": 7,
     "metadata": {},
     "output_type": "execute_result"
    }
   ],
   "source": [
    "a = 3\n",
    "b = 4\n",
    "a ** b"
   ]
  },
  {
   "cell_type": "markdown",
   "id": "ab6c86af",
   "metadata": {},
   "source": [
    "### 나눗셈 후 나머지를 반환하는 % 연산자\n",
    "프로그래밍을 처음 접하는 독자라면 % 연산자는 본 적이 없을 것이다.   \n",
    "%는 나눗셈의 나머지 값을 반환하는 연산자이다.  \n",
    "7을 3으로 나누면 나머지는 1,3을 7로 나누면 나머지는 3이 될것이다.    \n",
    "다음 얘로 확인해 보자.   "
   ]
  },
  {
   "cell_type": "code",
   "execution_count": 8,
   "id": "3dfb5910",
   "metadata": {},
   "outputs": [
    {
     "data": {
      "text/plain": [
       "1"
      ]
     },
     "execution_count": 8,
     "metadata": {},
     "output_type": "execute_result"
    }
   ],
   "source": [
    "7 % 3"
   ]
  },
  {
   "cell_type": "code",
   "execution_count": 9,
   "id": "204df3a7",
   "metadata": {},
   "outputs": [
    {
     "data": {
      "text/plain": [
       "3"
      ]
     },
     "execution_count": 9,
     "metadata": {},
     "output_type": "execute_result"
    }
   ],
   "source": [
    "3 % 7"
   ]
  },
  {
   "cell_type": "markdown",
   "id": "89b138da",
   "metadata": {},
   "source": [
    "### 나눗셈 후 몫을 반환하는 // 연산자\n",
    "/ 연사자를 사용하여 7나누기 4를 하면 그 결과는 예상대로 1.75가 된다.  "
   ]
  },
  {
   "cell_type": "code",
   "execution_count": 10,
   "id": "b8534c84",
   "metadata": {},
   "outputs": [
    {
     "data": {
      "text/plain": [
       "1.75"
      ]
     },
     "execution_count": 10,
     "metadata": {},
     "output_type": "execute_result"
    }
   ],
   "source": [
    "7 / 4"
   ]
  },
  {
   "cell_type": "markdown",
   "id": "63a041a7",
   "metadata": {},
   "source": [
    "이번에는 나눗셈 후 몫을 반환하는 // 연산자를 사용한 경우를 살펴보자."
   ]
  },
  {
   "cell_type": "code",
   "execution_count": 11,
   "id": "80360b7a",
   "metadata": {},
   "outputs": [
    {
     "data": {
      "text/plain": [
       "1"
      ]
     },
     "execution_count": 11,
     "metadata": {},
     "output_type": "execute_result"
    }
   ],
   "source": [
    "7 // 4"
   ]
  },
  {
   "cell_type": "markdown",
   "id": "26d3cefd",
   "metadata": {},
   "source": [
    "1.75에서 몫에 해당하는 정숫값 1만 반환하는 것을 확인할 수 있다.\n",
    "\n",
    "### 복합 연산자\n",
    "복합 연사자는 앞서 살펴본 +,-와 같은 산술 연사자와 대입 연산자(=)를 합쳐 놓은 것이다.   \n",
    "복합 연산자가 무엇인지 예를 통해 자세히 알아보자.   \n",
    "먼저 다음과 같이 a에 1이라는 값을 대입해 보자.  "
   ]
  },
  {
   "cell_type": "code",
   "execution_count": 12,
   "id": "7f563eb0",
   "metadata": {},
   "outputs": [],
   "source": [
    "a = 1"
   ]
  },
  {
   "cell_type": "markdown",
   "id": "a4b81b61",
   "metadata": {},
   "source": [
    "이제 a의 값을 1만큼 증가시키려면 다음과 같이 할 수 있다."
   ]
  },
  {
   "cell_type": "code",
   "execution_count": 13,
   "id": "55490467",
   "metadata": {},
   "outputs": [
    {
     "name": "stdout",
     "output_type": "stream",
     "text": [
      "2\n"
     ]
    }
   ],
   "source": [
    "a = a + 1 # a + 1로 계산된 값을 다시 a에 대입한다.  \n",
    "print(a)"
   ]
  },
  {
   "cell_type": "markdown",
   "id": "a8b2b67f",
   "metadata": {},
   "source": [
    "a = a + 1식에 의해 a의 값이 1만큼 증가된다.  \n",
    "a = a + 1과 같은 표현식은 값을 증가시키기 위해 자주 사용한다.   \n",
    "하지만 이 표현식은 다음과 같이 더 간략하게 표현할 수 있다.   "
   ]
  },
  {
   "cell_type": "code",
   "execution_count": 14,
   "id": "30db042a",
   "metadata": {},
   "outputs": [],
   "source": [
    "a += 1"
   ]
  },
  {
   "cell_type": "markdown",
   "id": "dc8af50d",
   "metadata": {},
   "source": [
    "a += 1이라는 표현식은 a = a + 1을 줄여서 표현한 것으로 완전히 동일한 기능을 한다.   \n",
    "여기에서 사용한 +=와 같은 연산자를 **복합 연사자**라 부른다.   \n",
    "만약 a의 값을 1만큼 감소 시키려면 다음과 같은 -=복합 연산자를 사용할 수 있다.  "
   ]
  },
  {
   "cell_type": "code",
   "execution_count": 15,
   "id": "f62e689c",
   "metadata": {},
   "outputs": [
    {
     "name": "stdout",
     "output_type": "stream",
     "text": [
      "0.0\n"
     ]
    }
   ],
   "source": [
    "a = 1\n",
    "a -= 1. # a = a - 1과 같음\n",
    "print(a)"
   ]
  },
  {
   "cell_type": "markdown",
   "id": "89b25cf8",
   "metadata": {},
   "source": [
    "복합 연사자에는 다음과 같은 것들이 있다.   "
   ]
  },
  {
   "cell_type": "markdown",
   "id": "ec7c2c39",
   "metadata": {},
   "source": [
    "\n",
    "+=, -=, *=, /=, //=, %=, **="
   ]
  },
  {
   "cell_type": "markdown",
   "id": "8833ce89",
   "metadata": {},
   "source": [
    "이렇게 복합 연사자를 사용하면 코드를 더욱 간결하고 가독성 있게 작성할 수 있다."
   ]
  },
  {
   "cell_type": "markdown",
   "id": "3f1fcd65",
   "metadata": {},
   "source": [
    "## 02-2 문자열 자료형\n",
    "---\n",
    "문자열(string)이란 연속된 문자들의 나열을 말한다.   \n",
    "예를 들면 다음과 같다.   "
   ]
  },
  {
   "cell_type": "code",
   "execution_count": 17,
   "id": "116be0fb",
   "metadata": {},
   "outputs": [
    {
     "data": {
      "text/plain": [
       "'123'"
      ]
     },
     "execution_count": 17,
     "metadata": {},
     "output_type": "execute_result"
    }
   ],
   "source": [
    "\"Life is too short, You need Python\"\n",
    "\"a\"\n",
    "\"123\""
   ]
  },
  {
   "cell_type": "markdown",
   "id": "b635d380",
   "metadata": {},
   "source": [
    "모든 예문이 큰따옴표(\")로 둘러싸여 있다.    \n",
    "'123은 숫자인데 왜 문자열이지?'라는 의문이 드는 독자도 있을 것이다.  \n",
    "따옴표로 둘러싸여 있으면 모두 문자열이라고 보면 된다.  \n",
    "\n",
    "## 문자열은 어떻게 만들고 사용할까?\n",
    "---\n",
    "앞에서는 문자열을 만들 때 큰따옴표만 사용했지만, 이빡에도 문자열을 만드는 방법은 3가지나 더 있다.  \n",
    "즉, 파이썬에서 문자열을 만드는 방법은 총 4가지 이다.\n",
    "\n",
    "### 1. 큰따옴표로 양쪽 둘러싸기"
   ]
  },
  {
   "cell_type": "code",
   "execution_count": 18,
   "id": "fa0de36d",
   "metadata": {},
   "outputs": [
    {
     "data": {
      "text/plain": [
       "'Hello World'"
      ]
     },
     "execution_count": 18,
     "metadata": {},
     "output_type": "execute_result"
    }
   ],
   "source": [
    "\"Hello World\""
   ]
  },
  {
   "cell_type": "markdown",
   "id": "44e60ede",
   "metadata": {},
   "source": [
    "### 2. 작은따옴표로 양쪽 둘러싸기"
   ]
  },
  {
   "cell_type": "code",
   "execution_count": 19,
   "id": "81c75202",
   "metadata": {},
   "outputs": [
    {
     "data": {
      "text/plain": [
       "'Python is fun'"
      ]
     },
     "execution_count": 19,
     "metadata": {},
     "output_type": "execute_result"
    }
   ],
   "source": [
    "'Python is fun'"
   ]
  },
  {
   "cell_type": "markdown",
   "id": "46989625",
   "metadata": {},
   "source": [
    "### 3. 큰따옴표 3개를 연속으로 써서 양쪽 둘러싸기"
   ]
  },
  {
   "cell_type": "code",
   "execution_count": 20,
   "id": "d88d9338",
   "metadata": {},
   "outputs": [
    {
     "data": {
      "text/plain": [
       "'Life is too short, You need Python'"
      ]
     },
     "execution_count": 20,
     "metadata": {},
     "output_type": "execute_result"
    }
   ],
   "source": [
    "\"\"\"Life is too short, You need Python\"\"\""
   ]
  },
  {
   "cell_type": "markdown",
   "id": "1ca1f659",
   "metadata": {},
   "source": [
    "단순함이 자랑인 파이썬이 문자열을 만드는 방법은 왜 4가지 일까? 그 이유에 대해 알아보자."
   ]
  },
  {
   "cell_type": "markdown",
   "id": "44c2bfb5",
   "metadata": {},
   "source": [
    "## 문자열 안에 작은따옴표나 큰따옴표를 포함시키고 싶을 때\n",
    "---\n",
    "문자열을 만들어 주는 주인공은 작은따옴표(')와 큰따옴표(\")이다.  \n",
    "그런데 문자열 안에도 작은따옴표와 큰따옴표가 들어 있어야 할 경우가 있다.   \n",
    "이때는 좀 더 특별한 기술이 필요하다.   \n",
    "예제를 하나씩 살펴보면서 원리를 익혀 보자.  \n",
    "\n",
    "### 1.문자열 작은따옴표 포함하기"
   ]
  },
  {
   "cell_type": "markdown",
   "id": "121b7697",
   "metadata": {},
   "source": [
    "Python's favorite food is perl"
   ]
  },
  {
   "cell_type": "markdown",
   "id": "f5d9243f",
   "metadata": {},
   "source": [
    "위와 같은 문자열을 food 변수에 저장하고 싶다고 가정해보자.   \n",
    "이 경우에는 문자열을 큰따옴표로 둘러싸야한다.  \n",
    "큰따옴표 안에 들어 있는 작은따옴표는 문자열 나타내기 위한 기호로 인식되지 않는다.   \n",
    "대화형 인터프리터를 열고 같이 입력해보자."
   ]
  },
  {
   "cell_type": "code",
   "execution_count": 1,
   "id": "4ba438ad",
   "metadata": {},
   "outputs": [],
   "source": [
    "food = \"Python's favorite food is perl\""
   ]
  },
  {
   "cell_type": "code",
   "execution_count": 2,
   "id": "80288019",
   "metadata": {},
   "outputs": [
    {
     "data": {
      "text/plain": [
       "\"Python's favorite food is perl\""
      ]
     },
     "execution_count": 2,
     "metadata": {},
     "output_type": "execute_result"
    }
   ],
   "source": [
    "food"
   ]
  },
  {
   "cell_type": "markdown",
   "id": "de9d36d1",
   "metadata": {},
   "source": [
    "시험 삼아 다음과 같이 문자려을 큰따옴표가 아닌 작은따옴표로 둘러싼 후 다시 실해해보자.   \n",
    "'Python'이 문자열로 인식되어 구문오류(SyntaxError)가 바생할 것이다.   "
   ]
  },
  {
   "cell_type": "code",
   "execution_count": 3,
   "id": "d23b3dc8",
   "metadata": {},
   "outputs": [
    {
     "ename": "SyntaxError",
     "evalue": "invalid syntax (3264339671.py, line 1)",
     "output_type": "error",
     "traceback": [
      "\u001b[0;36m  Cell \u001b[0;32mIn[3], line 1\u001b[0;36m\u001b[0m\n\u001b[0;31m    food = 'Python's favorite food is perl'\u001b[0m\n\u001b[0m                   ^\u001b[0m\n\u001b[0;31mSyntaxError\u001b[0m\u001b[0;31m:\u001b[0m invalid syntax\n"
     ]
    }
   ],
   "source": [
    "food = 'Python's favorite food is perl'"
   ]
  },
  {
   "cell_type": "markdown",
   "id": "4d80842f",
   "metadata": {},
   "source": [
    "### 2. 문자열에 큰따옴표 포함하기"
   ]
  },
  {
   "cell_type": "code",
   "execution_count": 4,
   "id": "785c7ae0",
   "metadata": {},
   "outputs": [
    {
     "ename": "SyntaxError",
     "evalue": "invalid syntax (2498016959.py, line 1)",
     "output_type": "error",
     "traceback": [
      "\u001b[0;36m  Cell \u001b[0;32mIn[4], line 1\u001b[0;36m\u001b[0m\n\u001b[0;31m    \"Python is very easy.\" he says.\u001b[0m\n\u001b[0m                           ^\u001b[0m\n\u001b[0;31mSyntaxError\u001b[0m\u001b[0;31m:\u001b[0m invalid syntax\n"
     ]
    }
   ],
   "source": [
    "\"Python is very easy.\" he says."
   ]
  },
  {
   "cell_type": "markdown",
   "id": "8f38a611",
   "metadata": {},
   "source": [
    "위와 같이 큰따옴표가 포함된 문자열이라면 어떻게 해야 큰따옴표가 제대로 표현될까?    \n",
    "문자열을 작은따옴표로 둘러싸면 된다. 다음과 같이 입력해보자.   "
   ]
  },
  {
   "cell_type": "code",
   "execution_count": 5,
   "id": "702ec946",
   "metadata": {},
   "outputs": [],
   "source": [
    "say = '\"Python is very easy.\" he says.'"
   ]
  },
  {
   "cell_type": "markdown",
   "id": "eadf5099",
   "metadata": {},
   "source": [
    "이렇게 작은따옴표 안에 사용된 큰따옴표는 문자열을 만드는 기호로 인식되지 않는다.   \n",
    "\n",
    "### 3. 역슬래시를 사용해서 작은따옴표와 큰따옴표를 문자열에 포함하기"
   ]
  },
  {
   "cell_type": "code",
   "execution_count": 6,
   "id": "8343c062",
   "metadata": {},
   "outputs": [],
   "source": [
    "food = 'Python\\'s favorite food is perl'\n",
    "say = \"\\\"Python is very easy.\\\" he says.\""
   ]
  },
  {
   "cell_type": "markdown",
   "id": "75bd6a4e",
   "metadata": {},
   "source": [
    "작은따롬표나 큰따옴표를 문자열에 포함시키는 또 다른 방법은 역슬래시(\\)를 사용하는 것이다.   \n",
    "죽, 역슬래시를 작은따옴표나 큰따옴표 앞에 삽입하면 역슬래시 뒤의 작은따옴표나 큰따옴표는 문자열을 둘러싸는 기호의 의미가 아니라 '나\" 자체를 뜻하게 된다.   \n",
    "어떤 방법을 사용해서 문자열 안에 작은따옴표(')와 큰따옴표(\")를 포함시킬것인지는 각자의 선택이다.   \n",
    "대화형 인터프리터를 실행 한 후 위 예문을 꼭 직접 작성해보자.   \n",
    "\n",
    "## 여러 줄인 문자열을 변수에 대입하고 싶을 때\n",
    "---\n",
    "문자열이 항상 한 줄짜리만 있는 것은 아니다.   \n",
    "다음과 가은 여러 줄의 문자열을 변수에 대입하려면 어떻게 해야할까?\n",
    "\n",
    "\n",
    "Life is too short.    \n",
    "You need python.  \n",
    "\n",
    "### 1. 줄을 바꾸기 위한 이스케이프 코드 \\n삽입하기"
   ]
  },
  {
   "cell_type": "code",
   "execution_count": 7,
   "id": "2bfbe509",
   "metadata": {},
   "outputs": [],
   "source": [
    "multiline = \"Life is too short\\nYou need python\""
   ]
  },
  {
   "cell_type": "markdown",
   "id": "3359ef56",
   "metadata": {},
   "source": [
    "위 예처럼 줄바꿈 문자인 \\n을 삽입하는 방법이 있지만, 읽기가 불편하고 줄이 길어지는 단점이 있다.   \n",
    "\n",
    "### 2. 연속된 작은따옴표 3개 또는 큰따옴표 3개 사용하기   \n",
    "1번 방법의 단점을 극복하기 위해 파이썬에서는 다음과 같은 작은따옴표3개(''') 또는 큰따옴표 3개(\"\"\")를 사용한다.   \n"
   ]
  },
  {
   "cell_type": "code",
   "execution_count": 9,
   "id": "7d35505a",
   "metadata": {},
   "outputs": [],
   "source": [
    "multiline='''\n",
    "Life is too short\n",
    "You need python\n",
    "'''"
   ]
  },
  {
   "cell_type": "markdown",
   "id": "15c236df",
   "metadata": {},
   "source": [
    "작은따옴표 3개를 사용한 경우"
   ]
  },
  {
   "cell_type": "code",
   "execution_count": 10,
   "id": "29dbf243",
   "metadata": {},
   "outputs": [],
   "source": [
    "multiline=\"\"\"\n",
    "Life is too short\n",
    "You need python\n",
    "\"\"\""
   ]
  },
  {
   "cell_type": "markdown",
   "id": "8b80e768",
   "metadata": {},
   "source": [
    "큰따옴표 3개를 사용한 경우\n",
    "'print(multiline)'을 입력하면 어떻게 출력되는지 확인해보자"
   ]
  },
  {
   "cell_type": "code",
   "execution_count": 11,
   "id": "a8567b1a",
   "metadata": {},
   "outputs": [
    {
     "name": "stdout",
     "output_type": "stream",
     "text": [
      "\n",
      "Life is too short\n",
      "You need python\n",
      "\n"
     ]
    }
   ],
   "source": [
    "print(multiline)"
   ]
  },
  {
   "cell_type": "markdown",
   "id": "64b226e2",
   "metadata": {},
   "source": [
    "두 경우 모두 결과는 동일하다.      \n",
    "위 예에서도 확인할 수 있듯이 문자열이 여러줄인 경우, 이스케이프 코드를 쓰는 것보다 따옴표 3개를 사용하는 것이 훨씬 깔끔하다.      \n",
    "\n",
    "#### 이스케이프 코드란?  \n",
    "문자열 예제에서 여러 줄의 문장을 처리할 때 역슬래시 문자와 소문자 n을 조합한 \\n 이스케이프 코드를 사용했다.        \n",
    "이스케이프(escape)코드란 프로그래밍할 때 사용할 수 있도록 미리 정의해둔 '문자 조합'을 말한다.       \n",
    "주로 출력물을 보기 좋게 정렬하는 용도로 사용한다.   \n",
    "몇 가지 이스케이프 코드를 정리ㅏ면 다음과 같다.        \n",
    "\\n : 문자열 안에서 줄을 바꿀 때 사용    \n",
    "\\t : 문자열 사이에 탭간격을 줄 때 사용   \n",
    "\\\\ : \\를 그대로 표현할 때 사용   \n",
    "\\' : 작은따옴표(')를 그대로 표현할 때 사용   \n",
    "\\\" : 큰따옴표(\")를 그대로 표현할 때 사용\n",
    "\n",
    "## 문자열 연산하기\n",
    "---\n",
    "파이썬에서는 문자열을 더하가ㅓ나 곱할 수 있다.   \n",
    "이는 다른 언어에서는 쉽게 찾아볼 수 없는 재미있는 기능으로, 우리 생각을 그대로 반영해 주는 파이썬만의 장점이라고 할 수 있다.   \n",
    "문자열을 더하거나 곱하는 방법에 대해 알아보자.   \n",
    "\n",
    "### 문자열 더해서 연결하기"
   ]
  },
  {
   "cell_type": "code",
   "execution_count": 12,
   "id": "b324290f",
   "metadata": {},
   "outputs": [
    {
     "data": {
      "text/plain": [
       "'Python is fun!'"
      ]
     },
     "execution_count": 12,
     "metadata": {},
     "output_type": "execute_result"
    }
   ],
   "source": [
    "head = \"Python\"\n",
    "tail = \" is fun!\"\n",
    "head + tail"
   ]
  },
  {
   "cell_type": "markdown",
   "id": "095695ad",
   "metadata": {},
   "source": [
    "위 소스 코드에서 세 번째 줄을 살펴보자.   \n",
    "복잡하게 생각하지말고 눈에 보이는 대로 생각해보자.    \n",
    "\"Python\"이라는 head 변수와 \"is fun!\"이라는 tail 변수를 더하는 것이다.   \n",
    "결과는 'Python is fun!'이다.   \n",
    "즉, head와 tail변수가 +에 의해 합쳐진 것이다.   \n",
    "직접 실행해 보고 결괏값이 제시한 것과 똑같이 나오는지 확인해 보자.   \n",
    "\n",
    "### 문자열 곱하기"
   ]
  },
  {
   "cell_type": "code",
   "execution_count": 13,
   "id": "bcce2ace",
   "metadata": {},
   "outputs": [
    {
     "data": {
      "text/plain": [
       "'pythonpython'"
      ]
     },
     "execution_count": 13,
     "metadata": {},
     "output_type": "execute_result"
    }
   ],
   "source": [
    "a = \"python\"\n",
    "a * 2"
   ]
  },
  {
   "cell_type": "markdown",
   "id": "045d12e3",
   "metadata": {},
   "source": [
    "위 소스코드에 *의 의미는 우리가 일반적으로 사용하는 숫자 곱하기의 의마와는 다른다.     \n",
    "위 소스코드에서 a * 2라는 문장은 a를 2번 반복하라는 뜻이다.   \n",
    "즉, * 는 문자열의 반복을 뜻하는 의미로 사용되었다.   \n",
    "굳이 코드의 의미를 설명할 필요가 없을 정도로 직관적이다.    \n",
    "\n",
    "### 문자열 곱하기를 응용하기\n",
    "문자열 곱하기를 좀 더 응용해 보자.   \n",
    "다음 소스를 IDLE에디터를 영어 작성해보자.   "
   ]
  },
  {
   "cell_type": "code",
   "execution_count": 14,
   "id": "7b9cfef9",
   "metadata": {},
   "outputs": [
    {
     "name": "stdout",
     "output_type": "stream",
     "text": [
      "==================================================\n"
     ]
    }
   ],
   "source": [
    "# multistring.py\n",
    "\n",
    "print(\"=\" * 50)"
   ]
  },
  {
   "cell_type": "code",
   "execution_count": 15,
   "id": "72095def",
   "metadata": {},
   "outputs": [
    {
     "name": "stdout",
     "output_type": "stream",
     "text": [
      "My Program\n"
     ]
    }
   ],
   "source": [
    "print(\"My Program\")"
   ]
  },
  {
   "cell_type": "code",
   "execution_count": 16,
   "id": "0a9b095e",
   "metadata": {},
   "outputs": [
    {
     "name": "stdout",
     "output_type": "stream",
     "text": [
      "==================================================\n"
     ]
    }
   ],
   "source": [
    "print(\"=\" * 50)"
   ]
  },
  {
   "cell_type": "markdown",
   "id": "118daea8",
   "metadata": {},
   "source": [
    "## 문자열 길이 구하기\n",
    "---\n",
    "문자열의 길이는 다음과 같이 len함수를 사용하면 구할 수 있다.    \n",
    "len함수는 print함수처럼 파이썬의 기본 내장 함수로, 별다른 설정 없이 바로 사용할 수 있다.  \n",
    "> 문자열의 길이에는 공백 문자도 포함된다.   "
   ]
  },
  {
   "cell_type": "code",
   "execution_count": 17,
   "id": "ef106a40",
   "metadata": {},
   "outputs": [
    {
     "data": {
      "text/plain": [
       "17"
      ]
     },
     "execution_count": 17,
     "metadata": {},
     "output_type": "execute_result"
    }
   ],
   "source": [
    "a = \"Life is too short\"\n",
    "len (a)"
   ]
  },
  {
   "cell_type": "markdown",
   "id": "67d2eb4e",
   "metadata": {},
   "source": [
    "## 문자열 인데싱과 슬라이싱\n",
    "---\n",
    "인덱싱(indexing)이란 무엇인가를 '가르킨다', 슬라이싱(slicing)은 무엇인가를 '잘라 낸다'라는 의미이다.  \n",
    "이런의미를 생각하면서 다음 내영을 살펴보자.   \n",
    "\n",
    "### 문자열 인덱싱"
   ]
  },
  {
   "cell_type": "code",
   "execution_count": 18,
   "id": "e00d0fc3",
   "metadata": {},
   "outputs": [],
   "source": [
    "a = \"Life is too short, You need Python\""
   ]
  },
  {
   "attachments": {
    "image.png": {
     "image/png": "[encoded data removed]"
    }
   },
   "cell_type": "markdown",
   "id": "db682732",
   "metadata": {},
   "source": [
    "위 코드에서 변수 a에 저장한 문자열의 각 문자마다 번호를 매겨 보면 다음과 같다.   \n",
    "![image.png](attachment:image.png)\n",
    "\"Life is too short, You need Python\" 문자열에서 L은 첫 번째 자리를 뜻하는 숫자 0, i는 1이런 식으로 ㄱ속 번호를 붙인 것이다.   \n",
    "즉, 중감에 있는 short의 s는 12가 된다.    \n",
    "이제 다음 예를 실행해보자.   \n"
   ]
  },
  {
   "cell_type": "code",
   "execution_count": 19,
   "id": "9ce35239",
   "metadata": {},
   "outputs": [
    {
     "data": {
      "text/plain": [
       "'e'"
      ]
     },
     "execution_count": 19,
     "metadata": {},
     "output_type": "execute_result"
    }
   ],
   "source": [
    "a = \"Life is too short, You need Python\"\n",
    "a[3]"
   ]
  },
  {
   "cell_type": "markdown",
   "id": "6d65f070",
   "metadata": {},
   "source": [
    "a[3]이 듯하는 것은 a라는 문자열의 네번째 문자 e를 말한다.   \n",
    "프로그래밍을 처음 접하는 독자라면 a[3]에서 숫자 3이 왜 네번째 문자를 뜻하는지 의아할 수도 있다.   \n",
    "사실 이부분이 헷갈릴 수 있는 부분인데, 다음과 같이 생각하면 쉽게 알 수 있을 것이다.   \n",
    "\n",
    "\"파이썬은 0부터 숫자를 센다.\"\n",
    "따라서 파이썬은 위 문자열을 다음과 같이 바라보고 있다."
   ]
  },
  {
   "cell_type": "markdown",
   "id": "33705aac",
   "metadata": {},
   "source": [
    "a[0]:'L', a[1]:'i', a[2]:'f', a[3]:'e', a[4]: ' ', ...."
   ]
  },
  {
   "cell_type": "markdown",
   "id": "701cb1ef",
   "metadata": {},
   "source": [
    "0부터 숫자를 센다는 것이 처음에는 익숙하지 않겠지만, 계속 사용하다보면 자연스러워질 것이다.   \n",
    "위 예에서 볼 수 있듯이 a[번호]는 문자열 안의 특정한 값을 뽑아 내는 역할을 한다.   \n",
    "이러한 작업을 '인덱싱'이라고 한다.\n",
    "\n",
    "### 문자열 인덱싱 활용하기  \n",
    "인덱싱의 예를 몇 가지 더 살펴보자.   "
   ]
  },
  {
   "cell_type": "code",
   "execution_count": 20,
   "id": "8f963361",
   "metadata": {},
   "outputs": [
    {
     "data": {
      "text/plain": [
       "'L'"
      ]
     },
     "execution_count": 20,
     "metadata": {},
     "output_type": "execute_result"
    }
   ],
   "source": [
    "a = \"Life is too short, You need Python\"\n",
    "a[0]"
   ]
  },
  {
   "cell_type": "code",
   "execution_count": 21,
   "id": "ea9d69a5",
   "metadata": {},
   "outputs": [
    {
     "data": {
      "text/plain": [
       "'s'"
      ]
     },
     "execution_count": 21,
     "metadata": {},
     "output_type": "execute_result"
    }
   ],
   "source": [
    "a[12]"
   ]
  },
  {
   "cell_type": "code",
   "execution_count": 22,
   "id": "346d506f",
   "metadata": {},
   "outputs": [
    {
     "data": {
      "text/plain": [
       "'n'"
      ]
     },
     "execution_count": 22,
     "metadata": {},
     "output_type": "execute_result"
    }
   ],
   "source": [
    "a[-1]"
   ]
  },
  {
   "cell_type": "markdown",
   "id": "52089d68",
   "metadata": {},
   "source": [
    "앞의a[0]과 a[12]는 쉽게 이해할 수 있는데, 마지막의 a[-1]이 뜻하는 것은 뭘까?   \n",
    "눈치 빠른 독자는 이미 알아챘겠지만, 문자열을 뒤에서부터 읽기 위해 -(빼기) 기호를 붙인 것이다.     \n",
    "즉, a[-1]은 뒤에서부터 세어 첫번째가 되는 문자를 말한다.    \n",
    "a의 값은 \"Life is too short, You need Python\" 문자열이므로 뒤에서부터 첫번째 문자는 가장 마지막 문자'n'이다.    \n",
    "뒤에서부터 첫 번째 문자를 표시하 때도 0부터 세어 'a[-0]이라고 해야 하지 않을까'라는 의문이 들 수도 있겟지만, 잘 생각해 보자.   \n",
    "0과 -0은 똑같은 것이기 때문에 a[-0]은 a[0]과 똑같은 값을 보여준다.  "
   ]
  },
  {
   "cell_type": "code",
   "execution_count": 23,
   "id": "8a321ca7",
   "metadata": {},
   "outputs": [
    {
     "data": {
      "text/plain": [
       "'L'"
      ]
     },
     "execution_count": 23,
     "metadata": {},
     "output_type": "execute_result"
    }
   ],
   "source": [
    "a[-0]"
   ]
  },
  {
   "cell_type": "code",
   "execution_count": 25,
   "id": "3a15b324",
   "metadata": {},
   "outputs": [
    {
     "data": {
      "text/plain": [
       "'o'"
      ]
     },
     "execution_count": 25,
     "metadata": {},
     "output_type": "execute_result"
    }
   ],
   "source": [
    "a[-2]"
   ]
  },
  {
   "cell_type": "code",
   "execution_count": 26,
   "id": "c66828ee",
   "metadata": {},
   "outputs": [
    {
     "data": {
      "text/plain": [
       "'y'"
      ]
     },
     "execution_count": 26,
     "metadata": {},
     "output_type": "execute_result"
    }
   ],
   "source": [
    "a[-5]"
   ]
  },
  {
   "cell_type": "markdown",
   "id": "66270f79",
   "metadata": {},
   "source": [
    "첫 번째 에는 뒤에서부터 두 번째 문자, 두번째 예는 뒤에서부터 다섯번째 문자를 가리키는 것이다.\n",
    "\n",
    "### 문자열 슬라이싱\n",
    "그렇다면 \"Life is too short, You need Python\" 문자열에서 단순히 한 문자만 뽑아내는 것이 아니라 'Life' 또는 'You'와 같은 단어를 뽑아 내는 방법을 없을까?   \n",
    " \n",
    "다음과 같이 하면 된다.\n"
   ]
  },
  {
   "cell_type": "code",
   "execution_count": 27,
   "id": "37cbdd8f",
   "metadata": {},
   "outputs": [
    {
     "data": {
      "text/plain": [
       "'Life'"
      ]
     },
     "execution_count": 27,
     "metadata": {},
     "output_type": "execute_result"
    }
   ],
   "source": [
    "a = \"Life is too short, You need Python\"\n",
    "b = a[0] + a[1] + a[2] + a[3]\n",
    "b "
   ]
  },
  {
   "cell_type": "markdown",
   "id": "3d1f8c9f",
   "metadata": {},
   "source": [
    "위와 같이 단순하게 접근할 수도 있지만 파이썬에서는 더 좋은 방법을 제공한다.   \n",
    "바로 슬라이싱(slicing)기법이다.  \n",
    "위 예는 슬라이싱 기법으로 다음과 같이 간단하게 처리할 수 있다.  \n",
    "> 인덱싱 기법과 슬라이싱 기법은 뒤에서 배울 자료형인 리스트나 튜플에서도 사용할 수 있다.   "
   ]
  },
  {
   "cell_type": "code",
   "execution_count": 28,
   "id": "ca31c390",
   "metadata": {},
   "outputs": [
    {
     "data": {
      "text/plain": [
       "'Life'"
      ]
     },
     "execution_count": 28,
     "metadata": {},
     "output_type": "execute_result"
    }
   ],
   "source": [
    "a = \"Life is too short, You need Python\"\n",
    "a[0:4]"
   ]
  },
  {
   "cell_type": "markdown",
   "id": "f8473c1e",
   "metadata": {},
   "source": [
    "a[0:4]는 a문자열, 즉\"Life is too short, You need Python\" 문자열에서 자리 번호 0부터 4까지의 문자를 뽑아 낸다는 뜻이다.    \n",
    "하지만 'a[0]은 L, a[1]은i, a[2]는f, a[3]은e이므로 a[0:3]으로도 Life라는 단어를 뽑아낼 수 있지 않을까?' 라는 의문이 생길 것이다.   \n",
    "다음 예로 확인해보자.   "
   ]
  },
  {
   "cell_type": "code",
   "execution_count": 29,
   "id": "53337f4e",
   "metadata": {},
   "outputs": [
    {
     "data": {
      "text/plain": [
       "'Lif'"
      ]
     },
     "execution_count": 29,
     "metadata": {},
     "output_type": "execute_result"
    }
   ],
   "source": [
    "a[0:3]"
   ]
  },
  {
   "cell_type": "markdown",
   "id": "b8c2d13c",
   "metadata": {},
   "source": [
    "이렇게 되는 이유는 슬라이싱 기법으로 a[시작_번로:끝_번호]를 지정할 때 끝 번호에 해당하는 문자는 포함하지 않기 때문이다.  \n",
    "즉, a[0:3]을 수식으로 나타내면 다음과 같다.  "
   ]
  },
  {
   "cell_type": "code",
   "execution_count": 30,
   "id": "372449b5",
   "metadata": {},
   "outputs": [
    {
     "ename": "TypeError",
     "evalue": "'<=' not supported between instances of 'int' and 'str'",
     "output_type": "error",
     "traceback": [
      "\u001b[0;31m---------------------------------------------------------------------------\u001b[0m",
      "\u001b[0;31mTypeError\u001b[0m                                 Traceback (most recent call last)",
      "Cell \u001b[0;32mIn[30], line 1\u001b[0m\n\u001b[0;32m----> 1\u001b[0m \u001b[38;5;241m0\u001b[39m \u001b[38;5;241m<\u001b[39m\u001b[38;5;241m=\u001b[39m a \u001b[38;5;241m<\u001b[39m \u001b[38;5;241m3\u001b[39m\n",
      "\u001b[0;31mTypeError\u001b[0m: '<=' not supported between instances of 'int' and 'str'"
     ]
    }
   ],
   "source": [
    "0 <= a < 3"
   ]
  },
  {
   "cell_type": "markdown",
   "id": "fd5b2dbd",
   "metadata": {},
   "source": [
    "이 수식을 만족하는 것은 a[0], a[1], a[2]이다.   \n",
    "따라서 a[0:3]은 'Lif',a[0:4]는 'Life'가 되는 것이다.   \n",
    "이 부분이 문자열 연산에서 가장 혼동하기 쉬운 부분이므로 02장의 마지막 부분에 있는 되새김 문제를 많이 풀어 보면서 몸에 익히기 바란다.   \n",
    "\n",
    "### 문자열을 슬라이싱하는 방법\n",
    "슬라이싱의 예를 좀 더 살펴보자.   "
   ]
  },
  {
   "cell_type": "code",
   "execution_count": 31,
   "id": "c4dff8fe",
   "metadata": {},
   "outputs": [
    {
     "data": {
      "text/plain": [
       "'Life '"
      ]
     },
     "execution_count": 31,
     "metadata": {},
     "output_type": "execute_result"
    }
   ],
   "source": [
    "a[0:5]"
   ]
  },
  {
   "cell_type": "markdown",
   "id": "f5ffe2cb",
   "metadata": {},
   "source": [
    "위의 예는 a[0] + a[1] + a[2] + a[3] + a[4]와 동일하다.   \n",
    "a[4]는 공백문자이기 때문에 'Life'가 아닌 'Life'가 출력된다.   \n",
    "공백 문자 역시 L,i,f,e와 같은 문자와 동일하게 취급되는 것을 잊지 말자.    \n",
    "'Life'와 'Life'는 완전히 다른 문자열이다.   \n",
    "\n",
    "슬라이싱할 때 항상 시작 번호가 0일 필요는 없다.   "
   ]
  },
  {
   "cell_type": "code",
   "execution_count": 33,
   "id": "1bd7a338",
   "metadata": {},
   "outputs": [
    {
     "data": {
      "text/plain": [
       "'Li'"
      ]
     },
     "execution_count": 33,
     "metadata": {},
     "output_type": "execute_result"
    }
   ],
   "source": [
    "a[0:2]"
   ]
  },
  {
   "cell_type": "code",
   "execution_count": 34,
   "id": "898dc7a5",
   "metadata": {},
   "outputs": [
    {
     "data": {
      "text/plain": [
       "'is'"
      ]
     },
     "execution_count": 34,
     "metadata": {},
     "output_type": "execute_result"
    }
   ],
   "source": [
    "a[5:7]"
   ]
  },
  {
   "cell_type": "code",
   "execution_count": 35,
   "id": "5010eb11",
   "metadata": {},
   "outputs": [
    {
     "data": {
      "text/plain": [
       "'short'"
      ]
     },
     "execution_count": 35,
     "metadata": {},
     "output_type": "execute_result"
    }
   ],
   "source": [
    "a[12:17]"
   ]
  },
  {
   "cell_type": "markdown",
   "id": "47c01dc8",
   "metadata": {},
   "source": [
    "a[시작_번호:끝_번호]에서 끝 번호 부분을 생략하면 시작 번호부터 그 문자열의 끝까지 뽑아 낸다."
   ]
  },
  {
   "cell_type": "code",
   "execution_count": 37,
   "id": "7846c54e",
   "metadata": {},
   "outputs": [
    {
     "data": {
      "text/plain": [
       "'You need Python'"
      ]
     },
     "execution_count": 37,
     "metadata": {},
     "output_type": "execute_result"
    }
   ],
   "source": [
    "a[19:]"
   ]
  },
  {
   "cell_type": "markdown",
   "id": "7a87de8c",
   "metadata": {},
   "source": [
    "a[시작_번호:끝_번호]에서 시작 번호를 생략하면서 문자열의 처음부터 끝 번호까지 뽑아 낸다."
   ]
  },
  {
   "cell_type": "code",
   "execution_count": 40,
   "id": "58c7310e",
   "metadata": {},
   "outputs": [
    {
     "data": {
      "text/plain": [
       "'Life is too short'"
      ]
     },
     "execution_count": 40,
     "metadata": {},
     "output_type": "execute_result"
    }
   ],
   "source": [
    "a[:17]"
   ]
  },
  {
   "cell_type": "markdown",
   "id": "93cb756f",
   "metadata": {},
   "source": [
    "a[시작_번호:끝_번호]에서 시작 번호와 끝 번호를 생략하면 문자열의 처음부터 끝까지 뽑아 낸다."
   ]
  },
  {
   "cell_type": "code",
   "execution_count": 41,
   "id": "b0b42915",
   "metadata": {},
   "outputs": [
    {
     "data": {
      "text/plain": [
       "'Life is too short, You need Python'"
      ]
     },
     "execution_count": 41,
     "metadata": {},
     "output_type": "execute_result"
    }
   ],
   "source": [
    "a[:]"
   ]
  },
  {
   "cell_type": "markdown",
   "id": "b02170ef",
   "metadata": {},
   "source": [
    "슬라이싱에서도 인덱싱과 마찬가지로 -(빼기) 기호를 사용할 수 있다."
   ]
  },
  {
   "cell_type": "code",
   "execution_count": 42,
   "id": "4b952fbb",
   "metadata": {},
   "outputs": [
    {
     "data": {
      "text/plain": [
       "'You need'"
      ]
     },
     "execution_count": 42,
     "metadata": {},
     "output_type": "execute_result"
    }
   ],
   "source": [
    "a[19:-7]"
   ]
  },
  {
   "cell_type": "markdown",
   "id": "19c5ac14",
   "metadata": {},
   "source": [
    "a[19:-7]은 a[19]에서 a[-8]까지를 의미한다.   \n",
    "이때에도 a[-7]은 포함하지 않는다.   \n",
    "\n",
    "### 슬라이싱으로 문자열 나누기\n",
    "다음은 자주 사용하는 슬라이싱 기법 중 하나이다."
   ]
  },
  {
   "cell_type": "code",
   "execution_count": 47,
   "id": "55773ba8",
   "metadata": {},
   "outputs": [],
   "source": [
    "a = \"20230332Rainy\"\n",
    "date = a[:8]\n",
    "weather = a[8:]"
   ]
  },
  {
   "cell_type": "code",
   "execution_count": 48,
   "id": "2f29e206",
   "metadata": {},
   "outputs": [
    {
     "data": {
      "text/plain": [
       "'20230332'"
      ]
     },
     "execution_count": 48,
     "metadata": {},
     "output_type": "execute_result"
    }
   ],
   "source": [
    "date"
   ]
  },
  {
   "cell_type": "code",
   "execution_count": 49,
   "id": "29bbb659",
   "metadata": {},
   "outputs": [
    {
     "data": {
      "text/plain": [
       "'Rainy'"
      ]
     },
     "execution_count": 49,
     "metadata": {},
     "output_type": "execute_result"
    }
   ],
   "source": [
    "weather"
   ]
  },
  {
   "cell_type": "markdown",
   "id": "f0f700f6",
   "metadata": {},
   "source": [
    "위 예는 문자열 a를 두 부분으로 나누는 기법이다.   \n",
    "숫자 8을 기준으로 문자열 a를 양쪽으로 한 번씩 슬라이싱했다.   \n",
    "a[:8]은 a[8]을 포함하지 않고 a[8:]은 a[8]을 포함하기 때문에 8을 기준으로 해서 두 부분으로 나눌 수 있는 것이다.   \n",
    "위 예에서는 \"20230331Rainy\" 문자열을 날짜를 나타내는 부분인 '20230331'과 날씨를 나타내는 부분인 'Rainy'로 나누는 방법을 보여준다.   \n",
    "\"20230331Rainy\"를 연도인 2023, 월과 일을 나타내는 0331, 날씨를 나타내는 Rainy까지 세 부분으로 나누는 방법은 다음과 같다.    "
   ]
  },
  {
   "cell_type": "code",
   "execution_count": 50,
   "id": "fa1a12cf",
   "metadata": {},
   "outputs": [],
   "source": [
    "a = \"20230331Rainy\"\n",
    "year = a[:4]\n",
    "day =a[4:8]\n",
    "weather = a[8:]"
   ]
  },
  {
   "cell_type": "code",
   "execution_count": 51,
   "id": "06123b39",
   "metadata": {},
   "outputs": [
    {
     "data": {
      "text/plain": [
       "'2023'"
      ]
     },
     "execution_count": 51,
     "metadata": {},
     "output_type": "execute_result"
    }
   ],
   "source": [
    "year"
   ]
  },
  {
   "cell_type": "code",
   "execution_count": 52,
   "id": "f9cc3351",
   "metadata": {},
   "outputs": [
    {
     "data": {
      "text/plain": [
       "'0331'"
      ]
     },
     "execution_count": 52,
     "metadata": {},
     "output_type": "execute_result"
    }
   ],
   "source": [
    "day"
   ]
  },
  {
   "cell_type": "code",
   "execution_count": 53,
   "id": "3713de00",
   "metadata": {},
   "outputs": [
    {
     "data": {
      "text/plain": [
       "'Rainy'"
      ]
     },
     "execution_count": 53,
     "metadata": {},
     "output_type": "execute_result"
    }
   ],
   "source": [
    "weather"
   ]
  },
  {
   "cell_type": "markdown",
   "id": "04e0edf2",
   "metadata": {},
   "source": [
    "위 예는 숫자 4와 8로 \"20230331Rainy\" 문자열을 세 부분으로 나누는 방법을 보여 준다.   \n",
    "지금가지 인덱싱과 슬라이싱에 대해서 사펴보았다.    \n",
    "인덱싱과 슬라이싱은 프로그래밍할 때 자주 사용하는 기법이므로 꼭 반복해서 연습해 두자.  \n",
    "\n",
    "#### Pithon 문자열을 Python으로 바꾸려면?\n",
    "Pithon 문자열을 Python으로 바꾸려면 이떻게 해야 할까?  \n",
    "가장 먼저 떠오르는 생각은 다음과 같을 것이다.    "
   ]
  },
  {
   "cell_type": "code",
   "execution_count": 57,
   "id": "7821e941",
   "metadata": {},
   "outputs": [
    {
     "data": {
      "text/plain": [
       "'i'"
      ]
     },
     "execution_count": 57,
     "metadata": {},
     "output_type": "execute_result"
    }
   ],
   "source": [
    "a = \"Pithon\"\n",
    "a[1]"
   ]
  },
  {
   "cell_type": "code",
   "execution_count": 58,
   "id": "6ffe3998",
   "metadata": {},
   "outputs": [
    {
     "ename": "TypeError",
     "evalue": "'str' object does not support item assignment",
     "output_type": "error",
     "traceback": [
      "\u001b[0;31m---------------------------------------------------------------------------\u001b[0m",
      "\u001b[0;31mTypeError\u001b[0m                                 Traceback (most recent call last)",
      "Cell \u001b[0;32mIn[58], line 1\u001b[0m\n\u001b[0;32m----> 1\u001b[0m \u001b[43ma\u001b[49m\u001b[43m[\u001b[49m\u001b[38;5;241;43m1\u001b[39;49m\u001b[43m]\u001b[49m \u001b[38;5;241m=\u001b[39m\u001b[38;5;124m'\u001b[39m\u001b[38;5;124my\u001b[39m\u001b[38;5;124m'\u001b[39m\n",
      "\u001b[0;31mTypeError\u001b[0m: 'str' object does not support item assignment"
     ]
    }
   ],
   "source": [
    "a[1] ='y'"
   ]
  },
  {
   "cell_type": "markdown",
   "id": "f0794499",
   "metadata": {},
   "source": [
    "즉, a변수에 \"Pithon\"문자열을 대입하고 a[1]의 값이 i이므로 a[1]을 y로 바꾸어 준다는 생각이다.   \n",
    "하지만 결과는 어떻게 나올까? 당연히 오류가 나온다. 문자열의 요솟값은 바꿀 수 있는 값이 아니기 때문이다.(그래서 문자열을 '변경불가능한(immutable)자료형'이라고 부른다.)\n",
    "\n",
    "하지만 앞에서 배운 슬라이싱 기법을 사용하면 Pithon 문자열을 사용해 Python 문자열을 만들 수 있다.   \n",
    "다음 예를 살펴보자.   "
   ]
  },
  {
   "cell_type": "code",
   "execution_count": 1,
   "id": "199323ac",
   "metadata": {},
   "outputs": [
    {
     "data": {
      "text/plain": [
       "'P'"
      ]
     },
     "execution_count": 1,
     "metadata": {},
     "output_type": "execute_result"
    }
   ],
   "source": [
    "a = \"Pithon\"\n",
    "a[:1]"
   ]
  },
  {
   "cell_type": "code",
   "execution_count": 2,
   "id": "f2e50ccc",
   "metadata": {},
   "outputs": [
    {
     "data": {
      "text/plain": [
       "'thon'"
      ]
     },
     "execution_count": 2,
     "metadata": {},
     "output_type": "execute_result"
    }
   ],
   "source": [
    "a[2:]"
   ]
  },
  {
   "cell_type": "code",
   "execution_count": 3,
   "id": "2fdca511",
   "metadata": {},
   "outputs": [
    {
     "data": {
      "text/plain": [
       "'Python'"
      ]
     },
     "execution_count": 3,
     "metadata": {},
     "output_type": "execute_result"
    }
   ],
   "source": [
    "a[:1] + 'y' + a[2:]"
   ]
  },
  {
   "cell_type": "markdown",
   "id": "701bd8c2",
   "metadata": {},
   "source": [
    "슬라이싱을 사용하면 \"Pithon\" 문자열을 'P' 부분과 'thon'부분으로 나눌 수 있고, 그 사이에 'y' 문자를 추가하면 'Python'이라는 새로운 문자열을 만들 수 있다.   \n",
    "\n",
    "## 문자열 포매팅이란?\n",
    "---\n",
    "문자열에서 또 하나 알아야 할 것으로 '문자열 포매팅(string formatting)이 있다.   \n",
    "문자열 포매팅을 공부하기 전에 다음과 같은 문자열을 출력하는 프로그램을 작성했다고 가정해보자."
   ]
  },
  {
   "cell_type": "markdown",
   "id": "38c1461f",
   "metadata": {},
   "source": [
    "\"현재 온도는 18도 입니다.\""
   ]
  },
  {
   "cell_type": "markdown",
   "id": "8f46a524",
   "metadata": {},
   "source": [
    "시간이 지나서 20도가 되면 다음 문장을 출력한다."
   ]
  },
  {
   "cell_type": "markdown",
   "id": "ab827ab4",
   "metadata": {},
   "source": [
    "\"현재 온도는 20도 입니다.\""
   ]
  },
  {
   "cell_type": "markdown",
   "id": "0c051a06",
   "metadata": {},
   "source": [
    "두 문자열은 모두 같은데 20이라는 숫자와 18이라는 숫자만 다르다.  \n",
    "이렇게 문자열 안의 특정한 값을 바꿔야 할 경우가 있을 때 이것을 가능하게 해 주는 것이 바로 문자열 포매팅이다.   \n",
    "쉽게 말해 문자열 포매팅이란 문자열 안에 어떤 값을 삽입하는 방법이다.   \n",
    "다음 예를 직접 실행해 보면서 그 사용법을 알아보자.  \n",
    "\n",
    "## 문자열 포매팅 따라 하기\n",
    "---\n",
    "### 1. 숫자 바로 대입"
   ]
  },
  {
   "cell_type": "code",
   "execution_count": 4,
   "id": "c86f897a",
   "metadata": {},
   "outputs": [
    {
     "data": {
      "text/plain": [
       "'I eat 3 apples.'"
      ]
     },
     "execution_count": 4,
     "metadata": {},
     "output_type": "execute_result"
    }
   ],
   "source": [
    "\"I eat %d apples.\" % 3"
   ]
  },
  {
   "cell_type": "markdown",
   "id": "05562372",
   "metadata": {},
   "source": [
    "결괏값을 보면 알겠지만, 위 예제는 문자열 안에 정수 3을 삽입하는 방법을 보여 준다.   \n",
    "문자열 안의 숫자를 넣고 싶은 자리에 %d문자를 넣어 주고 삽입할 숫자 3은 가장 뒤에 있는 %문자 다음에 써 넣었다.   \n",
    "여기서 %d는 '문자열 포맷 코드' 라고 부른다.   \n",
    "\n",
    "### 2. 문자열 바로 대입\n",
    "문자열 안에 또 다른 문자열을 삽입하기 위해 앞에서 사용한 문자열 포맷 코드 %d가 아닌 %s를 썻다.    \n",
    "어쩌면 눈치 빠른 독자는 숫자를 넣기 위해서는 %d, 문자열을 넣기ㅣ 위해서 %s를 써야 한다는 사실을 눈치챘을 것이다.   \n",
    "> 앞에서 배운것처럼 문자열을 대입할 때는 반드시 큰따옴표나 작은따옴표를 써야한다.  \n",
    "\n",
    "### 3. 숫자값을 나타낸는 변수 대입"
   ]
  },
  {
   "cell_type": "code",
   "execution_count": 5,
   "id": "f5e0b9cf",
   "metadata": {},
   "outputs": [
    {
     "data": {
      "text/plain": [
       "' I eat 3 apple.'"
      ]
     },
     "execution_count": 5,
     "metadata": {},
     "output_type": "execute_result"
    }
   ],
   "source": [
    "number = 3\n",
    "\" I eat %d apple.\" % number"
   ]
  },
  {
   "cell_type": "markdown",
   "id": "6aef2136",
   "metadata": {},
   "source": [
    "1번처럼 숫자를 바로 대입하든, 위 예제처럼 숫자 값을 나타내는 변수를 대입하든 결과는 같다.\n",
    "\n",
    "### 4. 2개 이상의 값 넣기\n",
    "그렇다면 문자열 안에 1개가 아닌 여러 개의 값을 넣고 싶을 때는 어떻게 해야 할까?"
   ]
  },
  {
   "cell_type": "code",
   "execution_count": 6,
   "id": "7d0144a0",
   "metadata": {},
   "outputs": [
    {
     "data": {
      "text/plain": [
       "'I ate 10 apples. so I was sick for three days.'"
      ]
     },
     "execution_count": 6,
     "metadata": {},
     "output_type": "execute_result"
    }
   ],
   "source": [
    "number =10\n",
    "day = \"three\"\n",
    "\"I ate %d apples. so I was sick for %s days.\" % (number, day)"
   ]
  },
  {
   "cell_type": "markdown",
   "id": "8f1fc836",
   "metadata": {},
   "source": [
    "2개 이상의 값을 넣으려면 마지막 % 다음 괄호 안에 쉼표(,)로 구분하여 각각의 값을 넣어 주면 된다.\n",
    "\n",
    "## 문자열 포맷 코드\n",
    "---\n",
    "문자열 포매팅 예제에서는 대입해 넣는 자료형으로 정수와 문자열을 사용했지만, 이 밖에도 다양한 것을 대입할 수 있다.  \n",
    "문자열 포맷 코드의 종류는 다음과 같다.  \n",
    "%s : 문자열(String)    \n",
    "%c : 문자 1개(character)    \n",
    "%d : 정수(Integer)   \n",
    "%f : 부동소수(floating-point)    \n",
    "%o : 8진수    \n",
    "%x : 16진수   \n",
    "%% : Literal % (문자 % 자체)   \n",
    "여기에서 재미있는 것은 %s 포맷 코드인데, 이 코드에는 어떤 형태의 값이든 변환해 넣을 수 있다.   \n",
    "무슨말인지 예를 통해 확인해 보자.   \n"
   ]
  },
  {
   "cell_type": "code",
   "execution_count": 7,
   "id": "9bfbeffe",
   "metadata": {},
   "outputs": [
    {
     "data": {
      "text/plain": [
       "'I have 3 apples'"
      ]
     },
     "execution_count": 7,
     "metadata": {},
     "output_type": "execute_result"
    }
   ],
   "source": [
    "\"I have %s apples\" % 3"
   ]
  },
  {
   "cell_type": "code",
   "execution_count": 8,
   "id": "264d5dca",
   "metadata": {},
   "outputs": [
    {
     "data": {
      "text/plain": [
       "'rate is 3.234'"
      ]
     },
     "execution_count": 8,
     "metadata": {},
     "output_type": "execute_result"
    }
   ],
   "source": [
    "\"rate is %s\" % 3.234"
   ]
  },
  {
   "cell_type": "markdown",
   "id": "90837a42",
   "metadata": {},
   "source": [
    "3을 문자열 안에 삽입하려면 %d를 사용해야 하고 3.234를 tkqdlqgkfuaus %f를 사용해야한다.    \n",
    "하지만 %s를 사용하면 %s는 자동으로 %뒤에 있는 3이나 3.234와 같은 값을 문자열로 바꾸어 대입하기 때문에 이런 것을 생각하지 않아도 된다.   \n",
    "\n",
    "#### 포매팅 연산자 %d와 %를 같이 쓸 때는 %%를 쓴다."
   ]
  },
  {
   "cell_type": "code",
   "execution_count": 9,
   "id": "878c71c7",
   "metadata": {},
   "outputs": [
    {
     "ename": "ValueError",
     "evalue": "incomplete format",
     "output_type": "error",
     "traceback": [
      "\u001b[0;31m---------------------------------------------------------------------------\u001b[0m",
      "\u001b[0;31mValueError\u001b[0m                                Traceback (most recent call last)",
      "Cell \u001b[0;32mIn[9], line 1\u001b[0m\n\u001b[0;32m----> 1\u001b[0m \u001b[38;5;124;43m\"\u001b[39;49m\u001b[38;5;124;43mError is \u001b[39;49m\u001b[38;5;132;43;01m%d\u001b[39;49;00m\u001b[38;5;124;43m%\u001b[39;49m\u001b[38;5;124;43m.\u001b[39;49m\u001b[38;5;124;43m\"\u001b[39;49m\u001b[43m \u001b[49m\u001b[38;5;241;43m%\u001b[39;49m\u001b[43m \u001b[49m\u001b[38;5;241;43m98\u001b[39;49m\n",
      "\u001b[0;31mValueError\u001b[0m: incomplete format"
     ]
    }
   ],
   "source": [
    "\"Error is %d%.\" % 98"
   ]
  },
  {
   "cell_type": "markdown",
   "id": "0490b772",
   "metadata": {},
   "source": [
    "결괏값으로 당연히 \"Error is 98%\"가 출력될 것이라고 예상했겠지만, 파이썬은 '형식이 불완전하다'라는 오류 메세지를 보여준다.   \n",
    "그 이유는 '문자열 포맷 코드인 %d와 %가 같은 문자열 안에 존재하는 경우, %를 나타내려면 반드시 %%를 써야한다'라는 법칙이 있기 때문이다.   \n",
    "이 점은 꼭 기억해 두어야한다.    \n",
    "하지만 문자열 안에 %d와 같은 포매팅 연산자가 없으면 %는 홀로 쓰여도 상관없다.   \n",
    "따라서 위 예를 제대로 실행하려면 다음과 같이 작성해야한다.    "
   ]
  },
  {
   "cell_type": "code",
   "execution_count": 10,
   "id": "5a66df7f",
   "metadata": {},
   "outputs": [
    {
     "data": {
      "text/plain": [
       "'Error is 98%.'"
      ]
     },
     "execution_count": 10,
     "metadata": {},
     "output_type": "execute_result"
    }
   ],
   "source": [
    "\"Error is %d%%.\" % 98"
   ]
  },
  {
   "cell_type": "markdown",
   "id": "acfc1fe8",
   "metadata": {},
   "source": [
    "## 포맷 코드와 숫자와 함께 사용하기\n",
    "---\n",
    "앞에서 살펴보았듯이 %d, %s 등과 같은 포맷코드는 문자열 안에 어떤 값을 삽입할때 사용한다.   \n",
    "하지만 포맷 코드를 숫자와 함께 사용하면 더 유용하다.   \n",
    "다음 예를 따라해보자.   \n",
    "\n",
    "### 1. 정렬과 공백\n"
   ]
  },
  {
   "cell_type": "code",
   "execution_count": 11,
   "id": "e1565bf7",
   "metadata": {},
   "outputs": [
    {
     "data": {
      "text/plain": [
       "'        hi'"
      ]
     },
     "execution_count": 11,
     "metadata": {},
     "output_type": "execute_result"
    }
   ],
   "source": [
    "\"%10s\" % \"hi\""
   ]
  },
  {
   "attachments": {
    "image.png": {
     "image/png": "[encoded data removed]"
    }
   },
   "cell_type": "markdown",
   "id": "ff5c8f6c",
   "metadata": {},
   "source": [
    "%10s는 천제 길이가 10개인 문자열 공간에서 대입되는 값을 오른쪽으로 정렬하고 그 앞의 나머지는 공백으로 남겨 두라는 의미이다.   \n",
    "\n",
    "![image.png](attachment:image.png)\n",
    "\n",
    "그렇다면 반대쪽인 왼쪽 정렬은 %10s가 될것이다.  "
   ]
  },
  {
   "cell_type": "code",
   "execution_count": 12,
   "id": "029f33d0",
   "metadata": {},
   "outputs": [
    {
     "data": {
      "text/plain": [
       "'h1        jane.'"
      ]
     },
     "execution_count": 12,
     "metadata": {},
     "output_type": "execute_result"
    }
   ],
   "source": [
    "\"%-10sjane.\" % 'h1'"
   ]
  },
  {
   "attachments": {
    "image.png": {
     "image/png": "[encoded data removed]"
    }
   },
   "cell_type": "markdown",
   "id": "c30b7ae5",
   "metadata": {},
   "source": [
    "hi를 왼쪽으로 정렬하고 나머지는 공백으로 채웠다는 것을 알 수 있다.   \n",
    "\n",
    "![](attachment:image.png)\n",
    "\n",
    "### 2.소수점 표현하기   "
   ]
  },
  {
   "cell_type": "code",
   "execution_count": 13,
   "id": "02e8f147",
   "metadata": {},
   "outputs": [
    {
     "data": {
      "text/plain": [
       "'3.4213'"
      ]
     },
     "execution_count": 13,
     "metadata": {},
     "output_type": "execute_result"
    }
   ],
   "source": [
    "\"%0.4f\" % 3.42134234"
   ]
  },
  {
   "cell_type": "markdown",
   "id": "7aa92181",
   "metadata": {},
   "source": [
    "3.42134234를 소수점 네 번째 자리까지만 나타내고 싶은 경우에는 위와 같이 작성한다.   \n",
    "%0.4f에서 '.'는 소수점 포인트, 그 뒤의 숫자 4는 소수점 뒤에 나올 숫자의 개수를 말한다.    \n",
    "소수점 포인트 앞의 숫자는 문자열의 전체 길이를 의미하는데, %0.4f에서 사용한 숫자 0은 길이에 상관하지 않겠다는 의미이다.  \n",
    "> %0.4는 0을 생략하여 %.4f처럼 사용하기도 한다.\n",
    "\n",
    "다음예를 살펴보자.  "
   ]
  },
  {
   "cell_type": "code",
   "execution_count": 1,
   "id": "4b8d4677",
   "metadata": {},
   "outputs": [
    {
     "data": {
      "text/plain": [
       "'    3.4213'"
      ]
     },
     "execution_count": 1,
     "metadata": {},
     "output_type": "execute_result"
    }
   ],
   "source": [
    "\"%10.4f\" % 3.42134234"
   ]
  },
  {
   "cell_type": "markdown",
   "id": "81832c67",
   "metadata": {},
   "source": [
    "## format 함수를 사용한 포매팅\n",
    "---\n",
    "문자열의 format함수를 사용하면 좀 더 발전된 스타일로 문자열 포맷을 지정할 수 있다.     \n",
    "앞에서 살펴본 문자열 포매팅 예제를 format 함수를 사용해서 바꾸면 다음과 같다.    \n",
    "\n",
    "### 숫자 바로 대입하기"
   ]
  },
  {
   "cell_type": "code",
   "execution_count": 3,
   "id": "faeb8655",
   "metadata": {},
   "outputs": [
    {
     "data": {
      "text/plain": [
       "'I eat 3 apples'"
      ]
     },
     "execution_count": 3,
     "metadata": {},
     "output_type": "execute_result"
    }
   ],
   "source": [
    "\"I eat {0} apples\".format(3)"
   ]
  },
  {
   "cell_type": "markdown",
   "id": "789456c6",
   "metadata": {},
   "source": [
    "\" I eat {0} apples\" 문자열 중 {0}부분이 숫자 3으로 바뀌었다.   \n",
    "\n",
    "### 문자열 바로 대입하기"
   ]
  },
  {
   "cell_type": "code",
   "execution_count": 4,
   "id": "82afe24f",
   "metadata": {},
   "outputs": [
    {
     "data": {
      "text/plain": [
       "'I eat five apples'"
      ]
     },
     "execution_count": 4,
     "metadata": {},
     "output_type": "execute_result"
    }
   ],
   "source": [
    "\"I eat {0} apples\".format(\"five\")"
   ]
  },
  {
   "cell_type": "markdown",
   "id": "64d2d3aa",
   "metadata": {},
   "source": [
    "### 숫자 값을 가진 변수로 대입하기"
   ]
  },
  {
   "cell_type": "code",
   "execution_count": 6,
   "id": "1222a65d",
   "metadata": {},
   "outputs": [
    {
     "data": {
      "text/plain": [
       "'I eat 3 apples'"
      ]
     },
     "execution_count": 6,
     "metadata": {},
     "output_type": "execute_result"
    }
   ],
   "source": [
    "number = 3\n",
    "\"I eat {0} apples\".format(number)"
   ]
  },
  {
   "cell_type": "markdown",
   "id": "2e9eae3c",
   "metadata": {},
   "source": [
    "문자열의 {0} 항목이 number 변수의 값인 3으로 바뀌었다.   \n",
    "\n",
    "### 2개 이상의 값 넣기"
   ]
  },
  {
   "cell_type": "code",
   "execution_count": 9,
   "id": "6b0ea3b9",
   "metadata": {},
   "outputs": [
    {
     "data": {
      "text/plain": [
       "'I ate 10 apples. so I was sick for three days'"
      ]
     },
     "execution_count": 9,
     "metadata": {},
     "output_type": "execute_result"
    }
   ],
   "source": [
    "number = 10\n",
    "day = \"three\"\n",
    "\"I ate {0} apples. so I was sick for {1} days\".format(number,day)"
   ]
  },
  {
   "cell_type": "markdown",
   "id": "3b46d4f9",
   "metadata": {},
   "source": [
    "2개 이상의 값을 넣을 경우, 문자열의 {0}, {1}과 같은 인덱스 항목이 format함수의 입력값으로 순서에 맞게 바뀐다.   \n",
    "위 예에서 {0}은 format함수의 첫번째 입력값인 number,{1}은 format함수의 두번째 입력값인 day로 바뀐다.    \n",
    "\n",
    "### 이름으로 넣기"
   ]
  },
  {
   "cell_type": "code",
   "execution_count": 10,
   "id": "3b671dac",
   "metadata": {},
   "outputs": [
    {
     "data": {
      "text/plain": [
       "'I ate 10 apples. so I was sick for 3 days.'"
      ]
     },
     "execution_count": 10,
     "metadata": {},
     "output_type": "execute_result"
    }
   ],
   "source": [
    "\"I ate {number} apples. so I was sick for {day} days.\".format(number=10, day=3)"
   ]
  },
  {
   "cell_type": "markdown",
   "id": "818bd6d1",
   "metadata": {},
   "source": [
    "{0},{1}과 같은 인덱스 항목 대신 더 편리한 {name} 형태를 사용하는 방법도 있다.    \n",
    "{name}형태를 사용할 경우, format함수에는 반드시 name=value와 같은 형태의 입력값이 있어야 한다.   \n",
    "위 예는 문자열의 {number},{day}가 format함수의 입력값인 number=10, day=3 값으로 각각 바귀는 것을 보여주고 있다.   \n",
    "\n",
    "### 인덱스와 이름을 혼용해서 넣기"
   ]
  },
  {
   "cell_type": "code",
   "execution_count": 11,
   "id": "8a517aaf",
   "metadata": {},
   "outputs": [
    {
     "data": {
      "text/plain": [
       "'I ate 10 apples. so I was sick for 3 days.'"
      ]
     },
     "execution_count": 11,
     "metadata": {},
     "output_type": "execute_result"
    }
   ],
   "source": [
    "\"I ate {0} apples. so I was sick for {day} days.\".format(10, day=3)"
   ]
  },
  {
   "cell_type": "markdown",
   "id": "bf90e32c",
   "metadata": {},
   "source": [
    "인덱스 항목과 name=value 형태로 혼용하는 것도 가능하다.   \n",
    "\n",
    "### 왼쪽 정렬"
   ]
  },
  {
   "cell_type": "code",
   "execution_count": 13,
   "id": "43f09d64",
   "metadata": {},
   "outputs": [
    {
     "data": {
      "text/plain": [
       "'hi        '"
      ]
     },
     "execution_count": 13,
     "metadata": {},
     "output_type": "execute_result"
    }
   ],
   "source": [
    "\"{0:<10}\".format(\"hi\")"
   ]
  },
  {
   "cell_type": "markdown",
   "id": "a1f51514",
   "metadata": {},
   "source": [
    ":<10 표현식을 사용하면 치환되는 문자열을 왼쪽으로 정렬하고 문자열의 총 자릿수를 10으로 맞출 수 있다.\n",
    "\n",
    "### 오른쪽 정렬"
   ]
  },
  {
   "cell_type": "code",
   "execution_count": 14,
   "id": "1bdfef27",
   "metadata": {},
   "outputs": [
    {
     "data": {
      "text/plain": [
       "'        hi'"
      ]
     },
     "execution_count": 14,
     "metadata": {},
     "output_type": "execute_result"
    }
   ],
   "source": [
    "\"{0:>10}\".format(\"hi\")"
   ]
  },
  {
   "cell_type": "markdown",
   "id": "6c2ce772",
   "metadata": {},
   "source": [
    "오른쪽 정렬은 :< 대신 :> 을 사용하면된다.   \n",
    "화살표의 방향을 생각하면서 어느 쪽으로 정렬되는지를 바로 알 수 있을 것이다.  \n",
    "\n",
    "### 가운데 정렬"
   ]
  },
  {
   "cell_type": "code",
   "execution_count": 16,
   "id": "81d04b94",
   "metadata": {},
   "outputs": [
    {
     "data": {
      "text/plain": [
       "'    hi    '"
      ]
     },
     "execution_count": 16,
     "metadata": {},
     "output_type": "execute_result"
    }
   ],
   "source": [
    "\"{0:^10}\".format(\"hi\")"
   ]
  },
  {
   "cell_type": "markdown",
   "id": "e2da153e",
   "metadata": {},
   "source": [
    ":^를 사용하면 가운데 정렬도 가능하다.   \n",
    "\n",
    "### 공백 채우기"
   ]
  },
  {
   "cell_type": "code",
   "execution_count": 17,
   "id": "644fe314",
   "metadata": {},
   "outputs": [
    {
     "data": {
      "text/plain": [
       "'====hi===='"
      ]
     },
     "execution_count": 17,
     "metadata": {},
     "output_type": "execute_result"
    }
   ],
   "source": [
    "\"{0:=^10}\".format(\"hi\")"
   ]
  },
  {
   "cell_type": "code",
   "execution_count": 18,
   "id": "8b0ce311",
   "metadata": {},
   "outputs": [
    {
     "data": {
      "text/plain": [
       "'hi!!!!!!!!'"
      ]
     },
     "execution_count": 18,
     "metadata": {},
     "output_type": "execute_result"
    }
   ],
   "source": [
    "\"{0:!<10}\".format(\"hi\")"
   ]
  },
  {
   "cell_type": "markdown",
   "id": "d1bbf256",
   "metadata": {},
   "source": [
    "정렬할 때 공백문자 대신 지정한 문자 값으로 채워 넣을 수도 있다.   \n",
    "채워 넣을 문자 값은 정렬 문자 <,>,^ 바로 앞에 넣어야 한다.    \n",
    "위 예에서 첫번째 예제는 가운데(^)로 정렬하고 빈 공간을 =로 채웠고, 두 번째 예제는 왼쪽(<)으로 정렬하고 빈 공간을 !로 채웠다.    \n",
    "\n",
    "### 소수점 표현하기"
   ]
  },
  {
   "cell_type": "code",
   "execution_count": 20,
   "id": "6609f35b",
   "metadata": {},
   "outputs": [
    {
     "data": {
      "text/plain": [
       "'3.4212'"
      ]
     },
     "execution_count": 20,
     "metadata": {},
     "output_type": "execute_result"
    }
   ],
   "source": [
    "y = 3.421234234\n",
    "\"{0:0.4f}\".format(y)"
   ]
  },
  {
   "cell_type": "markdown",
   "id": "92466f4e",
   "metadata": {},
   "source": [
    "위는 format함수를 사용해 소수점을 4자리까지만 표현하는 방법을 보여준다.   \n",
    "앞에서 살펴보았던 표현식 0.4f를 그대로 사용한 것을 알 수 있다.    "
   ]
  },
  {
   "cell_type": "code",
   "execution_count": 21,
   "id": "d5a3bd08",
   "metadata": {},
   "outputs": [
    {
     "data": {
      "text/plain": [
       "'    3.4212'"
      ]
     },
     "execution_count": 21,
     "metadata": {},
     "output_type": "execute_result"
    }
   ],
   "source": [
    "\"{0:10.4f}\".format(y)"
   ]
  },
  {
   "cell_type": "markdown",
   "id": "04544866",
   "metadata": {},
   "source": [
    "위와 같이 자릿수 10으로 맞출 수도 있다.    \n",
    "이 똫한 앞에서 살펴본 10.4f의 표현식을 그대로 사용한 것을 알 수 있다.   \n",
    "\n",
    "### {또는} 문자 표현하기"
   ]
  },
  {
   "cell_type": "code",
   "execution_count": 22,
   "id": "ec80eb75",
   "metadata": {},
   "outputs": [
    {
     "data": {
      "text/plain": [
       "'{ and }'"
      ]
     },
     "execution_count": 22,
     "metadata": {},
     "output_type": "execute_result"
    }
   ],
   "source": [
    "\"{{ and }}\".format()"
   ]
  },
  {
   "cell_type": "markdown",
   "id": "d586a5d7",
   "metadata": {},
   "source": [
    "format함수를 사용해 문자열을 포매팅할 경우, {}와 같은 중괄호 문자를 포매팅 문자가 아닌 문자 그대로 사용하고 싶은 경우에는 위 예의 {{}}처럼 2개를 연속해서 사용하면 된다.   \n",
    "\n",
    "## f문자열 포매팅\n",
    "---\n",
    "파이썬 3.6버전부터 f문자열 포매팅 기능을 사용할 수 있다.   \n",
    "파이썬 3.6미만 버전에서는 사용할 수 없는 기능이므로 주의해야한다.   \n",
    "\n",
    "다음ㄷ과 같이 문자열 앞에 f접두사를 붙이면 f문자열 포매팅 기능을 사용할 수 있다.    "
   ]
  },
  {
   "cell_type": "code",
   "execution_count": 23,
   "id": "91ecb23a",
   "metadata": {},
   "outputs": [
    {
     "data": {
      "text/plain": [
       "'나의 이름은 홍길동입낟, 나이는 30입니다.'"
      ]
     },
     "execution_count": 23,
     "metadata": {},
     "output_type": "execute_result"
    }
   ],
   "source": [
    "name = '홍길동'\n",
    "age = 30\n",
    "f'나의 이름은 {name}입낟, 나이는 {age}입니다.'"
   ]
  },
  {
   "cell_type": "markdown",
   "id": "83c4ceae",
   "metadata": {},
   "source": [
    "f 문자열 포매팅은 위와 같이 name, age와 같은 변숫값을 생성한 후에 그 값을 차모할 수 있다.    \n",
    "또한 f문자열 포매팅은 표현식을 지원하기 때문에 다음과 같은 것도 가능하다.    \n",
    "> 표현식이란 중괄호 안의 변수를 계산식과 함께 사용하는 것을 말한다.   "
   ]
  },
  {
   "cell_type": "code",
   "execution_count": 24,
   "id": "b730bc8d",
   "metadata": {},
   "outputs": [
    {
     "data": {
      "text/plain": [
       "'나는 내년이면 31살이 된다.'"
      ]
     },
     "execution_count": 24,
     "metadata": {},
     "output_type": "execute_result"
    }
   ],
   "source": [
    "age = 30\n",
    "f'나는 내년이면 {age +1}살이 된다.'"
   ]
  },
  {
   "cell_type": "markdown",
   "id": "51de62b1",
   "metadata": {},
   "source": [
    "딕셔너리는 f문자열 포매팅에서 다음과 같이 사용할 수 있다."
   ]
  },
  {
   "cell_type": "code",
   "execution_count": 26,
   "id": "e866d49c",
   "metadata": {},
   "outputs": [
    {
     "data": {
      "text/plain": [
       "'나의 이름은 홍길동 입니다. 나이는 30 입니다.'"
      ]
     },
     "execution_count": 26,
     "metadata": {},
     "output_type": "execute_result"
    }
   ],
   "source": [
    "d = {'name': '홍길동', 'age': 30}\n",
    "f'나의 이름은 {d[\"name\"]} 입니다. 나이는 {d[\"age\"]} 입니다.'"
   ]
  },
  {
   "cell_type": "markdown",
   "id": "daa163f0",
   "metadata": {},
   "source": [
    "> 딕셔너리는 Key와 Value라는 것을 한쌍으로 가지는 자료형이다.02-5에서 자세히 알아본다.   \n",
    "\n",
    "정렬은 다음과 같이 할 수 있다.   "
   ]
  },
  {
   "cell_type": "code",
   "execution_count": 1,
   "id": "c913d31a",
   "metadata": {},
   "outputs": [
    {
     "data": {
      "text/plain": [
       "'hi        '"
      ]
     },
     "execution_count": 1,
     "metadata": {},
     "output_type": "execute_result"
    }
   ],
   "source": [
    "f'{\"hi\":<10}' # 왼쪽 정렬\n"
   ]
  },
  {
   "cell_type": "code",
   "execution_count": 2,
   "id": "aa2888fb",
   "metadata": {},
   "outputs": [
    {
     "data": {
      "text/plain": [
       "'        hi'"
      ]
     },
     "execution_count": 2,
     "metadata": {},
     "output_type": "execute_result"
    }
   ],
   "source": [
    "f'{\"hi\":>10}' # 오른쪽 정렬"
   ]
  },
  {
   "cell_type": "code",
   "execution_count": 3,
   "id": "b7113a1f",
   "metadata": {},
   "outputs": [
    {
     "data": {
      "text/plain": [
       "'    hi    '"
      ]
     },
     "execution_count": 3,
     "metadata": {},
     "output_type": "execute_result"
    }
   ],
   "source": [
    "\n",
    "f'{\"hi\":^10}' # 가운데 정렬"
   ]
  },
  {
   "cell_type": "markdown",
   "id": "62016bad",
   "metadata": {},
   "source": [
    "공백 채우기는 다음과 같이 할 수 있다.   "
   ]
  },
  {
   "cell_type": "code",
   "execution_count": 4,
   "id": "27a51ad1",
   "metadata": {},
   "outputs": [
    {
     "data": {
      "text/plain": [
       "'====hi===='"
      ]
     },
     "execution_count": 4,
     "metadata": {},
     "output_type": "execute_result"
    }
   ],
   "source": [
    "f'{\"hi\":=^10}' # 가운데 정렬하고 '=' 문자로 공백 채우기"
   ]
  },
  {
   "cell_type": "code",
   "execution_count": 5,
   "id": "cc021170",
   "metadata": {},
   "outputs": [
    {
     "data": {
      "text/plain": [
       "'hi!!!!!!!!'"
      ]
     },
     "execution_count": 5,
     "metadata": {},
     "output_type": "execute_result"
    }
   ],
   "source": [
    "f'{\"hi\":!<10}' # 왼쪽 정렬하고 '!' 문자로 공백 채우기"
   ]
  },
  {
   "cell_type": "markdown",
   "id": "7b30642d",
   "metadata": {},
   "source": [
    "소수점은 다음과 같이 표현할 수 있다.   "
   ]
  },
  {
   "cell_type": "code",
   "execution_count": 6,
   "id": "05a24925",
   "metadata": {},
   "outputs": [
    {
     "data": {
      "text/plain": [
       "'3.4213'"
      ]
     },
     "execution_count": 6,
     "metadata": {},
     "output_type": "execute_result"
    }
   ],
   "source": [
    "y = 3.42134234\n",
    "f'{y:0.4f}' # 소수점 4자리까지만 표현"
   ]
  },
  {
   "cell_type": "code",
   "execution_count": 8,
   "id": "20eb710d",
   "metadata": {},
   "outputs": [
    {
     "data": {
      "text/plain": [
       "'    3.4213'"
      ]
     },
     "execution_count": 8,
     "metadata": {},
     "output_type": "execute_result"
    }
   ],
   "source": [
    "f'{y:10.4f}' # 소수점 4자리까지 표현하고 총 자리스를 10으로 맞춤"
   ]
  },
  {
   "cell_type": "markdown",
   "id": "f547e366",
   "metadata": {},
   "source": [
    "f 문자열에서 {}를 문자 그대로 표시하려면 다음과 같이 2개를 동시에 사용해야 한다."
   ]
  },
  {
   "cell_type": "code",
   "execution_count": 9,
   "id": "79e9cde8",
   "metadata": {},
   "outputs": [
    {
     "data": {
      "text/plain": [
       "'{ and }'"
      ]
     },
     "execution_count": 9,
     "metadata": {},
     "output_type": "execute_result"
    }
   ],
   "source": [
    "f'{{ and }}'"
   ]
  },
  {
   "cell_type": "markdown",
   "id": "4cfb2534",
   "metadata": {},
   "source": [
    "#### f문자열을 사용하면 금액에 콤마(,) 삽입하기.   \n",
    "다음 문장을 살펴보자  \n",
    "\n",
    "> \"난 1500000원이 필요해\".  \n",
    "\n",
    "이 문장에서 1500000(백오십만)원에 해당하는 금액 부분은 콤마가 없어서 읽기가 쉽지 않다.    \n",
    "이때, f문자열을 활요하면 숫자에 자동으로 콤마(,)를 삽입하여 가독성을 높일 수 있다.   \n",
    "\n"
   ]
  },
  {
   "cell_type": "code",
   "execution_count": 11,
   "id": "2a14d809",
   "metadata": {},
   "outputs": [
    {
     "data": {
      "text/plain": [
       "'난 1,500,000원이 필요해'"
      ]
     },
     "execution_count": 11,
     "metadata": {},
     "output_type": "execute_result"
    }
   ],
   "source": [
    "f\"난 {1500000:,}원이 필요해\""
   ]
  },
  {
   "cell_type": "markdown",
   "id": "c90e8c27",
   "metadata": {},
   "source": [
    "출력 결과를 보면 1,500,000처럼 숫사 사이에 콤마가 삽입되어 금액을 더 쉽게 읽을 수 있다.    \n",
    "\n",
    "지금까지는 문자열을 가지고 할 수 있는 기본적인 것에 대해 알아보았다.   \n",
    "이제부터는 문자열을 좀 더 자유자재로 다루기 위해 공부해야 할 것을 설명한다.    \n",
    "\n",
    "## 문자열 관련 함수들\n",
    "---\n",
    "문자열 자료형은 자체적으로 함수를 가지고 있다.   \n",
    "이들 함수를 다른 말로 '문자열 내장 함수' 라고 한다.   \n",
    "이 내장 함수를 사용하려면 문자열 변수 이름 뒤에 ','를 붙인 후. 함수 이름을 써 주면 된다.   \n",
    "이제 문자열 내장 핢수에 대해서 알아보자.    \n",
    "\n",
    "### 문자 개수 세기 - count"
   ]
  },
  {
   "cell_type": "code",
   "execution_count": 12,
   "id": "576aa426",
   "metadata": {},
   "outputs": [
    {
     "data": {
      "text/plain": [
       "2"
      ]
     },
     "execution_count": 12,
     "metadata": {},
     "output_type": "execute_result"
    }
   ],
   "source": [
    "a = \"hobby\"\n",
    "a.count('b')"
   ]
  },
  {
   "cell_type": "markdown",
   "id": "fb95fd63",
   "metadata": {},
   "source": [
    "count 함수로 문자열 중 문자 b의 개수를 반환했다.   \n",
    "\n",
    "### 위치 알려 주기 1 - find"
   ]
  },
  {
   "cell_type": "code",
   "execution_count": 13,
   "id": "dcc55dd9",
   "metadata": {},
   "outputs": [
    {
     "data": {
      "text/plain": [
       "8"
      ]
     },
     "execution_count": 13,
     "metadata": {},
     "output_type": "execute_result"
    }
   ],
   "source": [
    "a = \"Life is too short\"\n",
    "a.index('t')"
   ]
  },
  {
   "cell_type": "code",
   "execution_count": 14,
   "id": "80ed472a",
   "metadata": {},
   "outputs": [
    {
     "ename": "ValueError",
     "evalue": "substring not found",
     "output_type": "error",
     "traceback": [
      "\u001b[0;31m---------------------------------------------------------------------------\u001b[0m",
      "\u001b[0;31mValueError\u001b[0m                                Traceback (most recent call last)",
      "Cell \u001b[0;32mIn[14], line 1\u001b[0m\n\u001b[0;32m----> 1\u001b[0m \u001b[43ma\u001b[49m\u001b[38;5;241;43m.\u001b[39;49m\u001b[43mindex\u001b[49m\u001b[43m(\u001b[49m\u001b[38;5;124;43m'\u001b[39;49m\u001b[38;5;124;43mk\u001b[39;49m\u001b[38;5;124;43m'\u001b[39;49m\u001b[43m)\u001b[49m\n",
      "\u001b[0;31mValueError\u001b[0m: substring not found"
     ]
    }
   ],
   "source": [
    "a.index('k')"
   ]
  },
  {
   "cell_type": "markdown",
   "id": "9a9fb887",
   "metadata": {},
   "source": [
    "index 함수로 문자열 중 문자 t가 맨 처음으로 나온 위치를 반환했다.      \n",
    "만약 찾는 문자나 문자열이 존재하지 않는다면 오류가 발생한다.   \n",
    "앞의 find 함수와 다른 점은 문자열 안에 존재하지 않는 문자를 찾으면 오류가 발생한다는 것이다.          \n",
    "\n",
    "### 문자열 삽입 - join"
   ]
  },
  {
   "cell_type": "code",
   "execution_count": 15,
   "id": "0230014f",
   "metadata": {},
   "outputs": [
    {
     "data": {
      "text/plain": [
       "'a,b,c,d'"
      ]
     },
     "execution_count": 15,
     "metadata": {},
     "output_type": "execute_result"
    }
   ],
   "source": [
    "\",\".join('abcd')"
   ]
  },
  {
   "cell_type": "markdown",
   "id": "6f73e763",
   "metadata": {},
   "source": [
    "join함수로 abcd 문자열의 각각의 문자 사이에 ','를 삽입했다.   \n",
    "join함수는 문자열 뿐만 아니라 앞으로 배울 리스트나 튜플도 입력으로 사용할 수 있다.(리스트와 튜플은 곧 배울 내용이므로 요기에서는 잠시 눈으로만 살펴보자.).   \n",
    "join 함수의 입력으로 리스트를 사용하는 예는 다음과 같다.     \n",
    "   \n"
   ]
  },
  {
   "cell_type": "code",
   "execution_count": 16,
   "id": "a00bfb47",
   "metadata": {},
   "outputs": [
    {
     "data": {
      "text/plain": [
       "'a,b,c,d'"
      ]
     },
     "execution_count": 16,
     "metadata": {},
     "output_type": "execute_result"
    }
   ],
   "source": [
    "\",\".join(['a', 'b', 'c', 'd'])"
   ]
  },
  {
   "cell_type": "code",
   "execution_count": 17,
   "id": "3b9401fb",
   "metadata": {},
   "outputs": [
    {
     "data": {
      "text/plain": [
       "'HI'"
      ]
     },
     "execution_count": 17,
     "metadata": {},
     "output_type": "execute_result"
    }
   ],
   "source": [
    "### 소문자를 대붐자로 바꾸기 - upper\n",
    "a = \"hi\"\n",
    "a.upper()"
   ]
  },
  {
   "cell_type": "markdown",
   "id": "8861d311",
   "metadata": {},
   "source": [
    "upper 함수는 소문자를 대문자로 바꾸어 준다.    \n",
    "만약 문자열이 이미 대문자라면 아무런 변화도 일어나지 않을 것이다.   \n",
    "\n",
    "### 대문자를 소문자로 바꾸기 - lower"
   ]
  },
  {
   "cell_type": "code",
   "execution_count": 18,
   "id": "9dfeee1b",
   "metadata": {},
   "outputs": [
    {
     "data": {
      "text/plain": [
       "'hi'"
      ]
     },
     "execution_count": 18,
     "metadata": {},
     "output_type": "execute_result"
    }
   ],
   "source": [
    "a = \"HI\"\n",
    "a.lower()"
   ]
  },
  {
   "cell_type": "markdown",
   "id": "a3890bc3",
   "metadata": {},
   "source": [
    "lower 함수는 대문자를 소문자로 바꾸어 준다.    \n",
    "\n",
    "### 왼쪽 공백 지우기 - lstrip"
   ]
  },
  {
   "cell_type": "code",
   "execution_count": 20,
   "id": "32ef49bd",
   "metadata": {},
   "outputs": [
    {
     "data": {
      "text/plain": [
       "'hi '"
      ]
     },
     "execution_count": 20,
     "metadata": {},
     "output_type": "execute_result"
    }
   ],
   "source": [
    "a = \" hi \"\n",
    "a.lstrip()"
   ]
  },
  {
   "cell_type": "markdown",
   "id": "41739075",
   "metadata": {},
   "source": [
    "lstrip함수는 문자열 중 가장 왼쪽에 있는 한 칸 이상의 연속된 공백들을 모두 지운다.    \n",
    "lstrip에서 l은 left를 의미한다.   \n",
    "\n",
    "### 양쪽 공백 지우기 - strip"
   ]
  },
  {
   "cell_type": "code",
   "execution_count": 21,
   "id": "073e0809",
   "metadata": {},
   "outputs": [
    {
     "data": {
      "text/plain": [
       "'hi'"
      ]
     },
     "execution_count": 21,
     "metadata": {},
     "output_type": "execute_result"
    }
   ],
   "source": [
    "a = \" hi \"\n",
    "a.strip() "
   ]
  },
  {
   "cell_type": "markdown",
   "id": "33f8ec68",
   "metadata": {},
   "source": [
    "strip함수는 문자열 양쪽에 있는 한 칸 이상의 연속된 공백을 모두 지운다.   \n",
    "\n",
    "### 문자열 바꾸기 - replace"
   ]
  },
  {
   "cell_type": "code",
   "execution_count": 22,
   "id": "4463cb07",
   "metadata": {},
   "outputs": [
    {
     "data": {
      "text/plain": [
       "'Your leg is too short'"
      ]
     },
     "execution_count": 22,
     "metadata": {},
     "output_type": "execute_result"
    }
   ],
   "source": [
    "a = \"Life is too short\"\n",
    "a.replace(\"Life\", \"Your leg\")"
   ]
  },
  {
   "cell_type": "markdown",
   "id": "94f0c471",
   "metadata": {},
   "source": [
    "replace함수는 replace(바뀔_문자열,바꿀_문자열)처럼 사용해서 문자열 안의 특정한 값을 다른 값으로 치환해 준다.   \n",
    "\n",
    "### 문자열 나누기 - split"
   ]
  },
  {
   "cell_type": "code",
   "execution_count": 23,
   "id": "072f3fc6",
   "metadata": {},
   "outputs": [
    {
     "data": {
      "text/plain": [
       "['Life', 'is', 'too', 'short']"
      ]
     },
     "execution_count": 23,
     "metadata": {},
     "output_type": "execute_result"
    }
   ],
   "source": [
    "a = \"Life is too short\"\n",
    "a.split()"
   ]
  },
  {
   "cell_type": "code",
   "execution_count": 25,
   "id": "cd7a43c7",
   "metadata": {},
   "outputs": [
    {
     "data": {
      "text/plain": [
       "['a', 'b', 'c', 'd']"
      ]
     },
     "execution_count": 25,
     "metadata": {},
     "output_type": "execute_result"
    }
   ],
   "source": [
    "b = \"a:b:c:d\"\n",
    "b.split(':')"
   ]
  },
  {
   "cell_type": "markdown",
   "id": "ec6b676f",
   "metadata": {},
   "source": [
    "split함수는 a.split()처럼 괄호 안에 아무 값도 넣어 주지 않으면 공백([Space], [Tab], [Enter])을 기준으로 문자열을 나누어 준다.   \n",
    "만약 b.split(':')처럼 괄호 안에 특정 값이 있을 경우에는 괄호 안의 값을 구분자로 해서 문자열을 나누어 준다.   \n",
    "이렇게 나눈 값을 리스트에 하나씩 들어간다. ['Life', 'is', 'too', 'short']나 ['a', 'b', 'c', 'd']가 리스트인데, 02-3에서 자세히 알아볼 것이므로 여기에서는 너무 신경 쓰지 않아도 된다.   \n",
    "\n",
    "### 문지열 알파벳으로만 구성되어 있는지 확인하기 - isalpha"
   ]
  },
  {
   "cell_type": "code",
   "execution_count": 26,
   "id": "7234e813",
   "metadata": {},
   "outputs": [
    {
     "data": {
      "text/plain": [
       "True"
      ]
     },
     "execution_count": 26,
     "metadata": {},
     "output_type": "execute_result"
    }
   ],
   "source": [
    "s = \"Python\"\n",
    "s.isalpha()"
   ]
  },
  {
   "cell_type": "code",
   "execution_count": 27,
   "id": "11cc0c7d",
   "metadata": {},
   "outputs": [
    {
     "data": {
      "text/plain": [
       "False"
      ]
     },
     "execution_count": 27,
     "metadata": {},
     "output_type": "execute_result"
    }
   ],
   "source": [
    "s = \"Python3\"\n",
    "s.isalpha()"
   ]
  },
  {
   "cell_type": "code",
   "execution_count": 28,
   "id": "45847e38",
   "metadata": {},
   "outputs": [
    {
     "data": {
      "text/plain": [
       "False"
      ]
     },
     "execution_count": 28,
     "metadata": {},
     "output_type": "execute_result"
    }
   ],
   "source": [
    "s = \"Hello World\"\n",
    "s.isalpha()"
   ]
  },
  {
   "cell_type": "markdown",
   "id": "888f36ba",
   "metadata": {},
   "source": [
    "isalpha 함수는 문자열이 알파벳 문자로만 이루어져 있는지 검사한다.    \n",
    "영문 알파벳만 포함되어 있는 경우에만 True를 반환하며, 공백이나 숫자,특수 문자가 포함되어 있으면 False를 반환한다.    \n",
    "\n",
    "\"Python3\"의 경우 숫자가 포함되어 있어서 False를 반환하고, \"Hello World\"의 경우 공백 문자가 포함되어 있어 False를 반환한다.   \n",
    "\n",
    "### 문자열이 숫자로만 구성되어 있는지 확인하기 - isdigit"
   ]
  },
  {
   "cell_type": "code",
   "execution_count": 29,
   "id": "f09d1687",
   "metadata": {},
   "outputs": [
    {
     "data": {
      "text/plain": [
       "True"
      ]
     },
     "execution_count": 29,
     "metadata": {},
     "output_type": "execute_result"
    }
   ],
   "source": [
    "s = \"12345\"\n",
    "s.isdigit()"
   ]
  },
  {
   "cell_type": "code",
   "execution_count": 30,
   "id": "3103feb2",
   "metadata": {},
   "outputs": [
    {
     "data": {
      "text/plain": [
       "False"
      ]
     },
     "execution_count": 30,
     "metadata": {},
     "output_type": "execute_result"
    }
   ],
   "source": [
    "s = \"1234a\"\n",
    "s.isdigit()"
   ]
  },
  {
   "cell_type": "code",
   "execution_count": 31,
   "id": "9e4f550e",
   "metadata": {},
   "outputs": [
    {
     "data": {
      "text/plain": [
       "False"
      ]
     },
     "execution_count": 31,
     "metadata": {},
     "output_type": "execute_result"
    }
   ],
   "source": [
    "s = \"12 34\"\n",
    "s.isdigit()"
   ]
  },
  {
   "cell_type": "markdown",
   "id": "ac87dc61",
   "metadata": {},
   "source": [
    "isdigit 함수는 문자열이 숫자(0~9)로만 이루어져 있는지를 검사한다.   \n",
    "문자열의 모든 문자가 숫자일 경우 True를 반환하고, 하나라도 숫자가 아닌 문자가 포함되어 있으면 False를 반환한다.      \n",
    "\n",
    "예를 들어 \"1234a\"는 알파벳 a가 포함되어 있어 False를 반환하며, \"12 34\"는 숫자 사이에 공백이 있으므로 False를 반환한다.   \n",
    "\n",
    "### 문자열이 특정 문자(열)로 시작하는지 확인하기 - startswith"
   ]
  },
  {
   "cell_type": "code",
   "execution_count": 32,
   "id": "f1205bee",
   "metadata": {},
   "outputs": [
    {
     "data": {
      "text/plain": [
       "True"
      ]
     },
     "execution_count": 32,
     "metadata": {},
     "output_type": "execute_result"
    }
   ],
   "source": [
    "s = \"Life is too short\"\n",
    "s.startswith(\"Life\")"
   ]
  },
  {
   "cell_type": "code",
   "execution_count": 33,
   "id": "9d22de13",
   "metadata": {},
   "outputs": [
    {
     "data": {
      "text/plain": [
       "False"
      ]
     },
     "execution_count": 33,
     "metadata": {},
     "output_type": "execute_result"
    }
   ],
   "source": [
    "s.startswith(\"short\")"
   ]
  },
  {
   "cell_type": "markdown",
   "id": "8f545c26",
   "metadata": {},
   "source": [
    "startswith 함수는 문자아ㅕㄹ이 지정한 문자(열)로 시작하는지를 검사한다.      \n",
    "지정한 문자열로 시작하면 True를 반환하고, 그렇지 않으면 False를 반환한다.    \n",
    "\n",
    "\n",
    "### 문자열 특정 문자(열)로 끝나는지 확인하기 - endswith"
   ]
  },
  {
   "cell_type": "code",
   "execution_count": 34,
   "id": "63539b31",
   "metadata": {},
   "outputs": [
    {
     "data": {
      "text/plain": [
       "True"
      ]
     },
     "execution_count": 34,
     "metadata": {},
     "output_type": "execute_result"
    }
   ],
   "source": [
    "s = \"Life is too short\"\n",
    "s.endswith(\"short\")"
   ]
  },
  {
   "cell_type": "code",
   "execution_count": 35,
   "id": "3fd8c343",
   "metadata": {},
   "outputs": [
    {
     "data": {
      "text/plain": [
       "False"
      ]
     },
     "execution_count": 35,
     "metadata": {},
     "output_type": "execute_result"
    }
   ],
   "source": [
    "s.endswith(\"too\")"
   ]
  },
  {
   "cell_type": "markdown",
   "id": "f5bd40b8",
   "metadata": {},
   "source": [
    "endswith 함수는 문자열이 지정한 문자(열)로 끝나는지를 검사한다.     \n",
    "지정한 문자열로 끝나면 True를 반환하고, 그렇지 않으면 False를 반환한다.     \n",
    "앞에서 소개한 문자열 관련 함수는 문자열 처리에서 사용 빈도가 매우 높고 유용하다.     \n",
    "이 빡에도 몇가지가 더 있지만 자주 사용하지는 않는다.      \n",
    "\n",
    "#### 착각하기 쉬운 문자열 함수\n",
    "소문자를 대문자로 바꾸어 주는 다음의 예를 보자.    \n"
   ]
  },
  {
   "cell_type": "code",
   "execution_count": 36,
   "id": "63c2e87b",
   "metadata": {},
   "outputs": [
    {
     "data": {
      "text/plain": [
       "' HI '"
      ]
     },
     "execution_count": 36,
     "metadata": {},
     "output_type": "execute_result"
    }
   ],
   "source": [
    "a = ' hi '\n",
    "a.upper()"
   ]
  },
  {
   "cell_type": "markdown",
   "id": "00cfe356",
   "metadata": {},
   "source": [
    "이와 같이 실행한 후 a 변수의 값은 'HI'로 변했을까? 아니면 'hi'값을 유지할까? 다음과 같이 확인해보자.    "
   ]
  },
  {
   "cell_type": "code",
   "execution_count": 37,
   "id": "24fb55e9",
   "metadata": {},
   "outputs": [
    {
     "data": {
      "text/plain": [
       "' hi '"
      ]
     },
     "execution_count": 37,
     "metadata": {},
     "output_type": "execute_result"
    }
   ],
   "source": [
    "a"
   ]
  },
  {
   "cell_type": "markdown",
   "id": "a273084e",
   "metadata": {},
   "source": [
    "a.upper()를 수향하더라도 a변수의 값은 변하지 않았다.    \n",
    "왜냐하면 a.upper()를 실행하면 upper 함수는 a 변수의 값 자체를 변경하는 것이 아니라 대문자로 바꾼 값을 반환하기 때문이다.     \n",
    "문자열은 이전에도 잠깐 언급했지만 자체의 값을 변경할 수 없는 immutable 자료형이다.    \n",
    "따라서 aRKQTDMF 'HI'로 바꾸고 싶다ㅏ면 다음과 같이 대입문을 사용해야 한다.   "
   ]
  },
  {
   "cell_type": "code",
   "execution_count": 38,
   "id": "9210a3b3",
   "metadata": {},
   "outputs": [
    {
     "data": {
      "text/plain": [
       "' HI '"
      ]
     },
     "execution_count": 38,
     "metadata": {},
     "output_type": "execute_result"
    }
   ],
   "source": [
    "a = a.upper()\n",
    "a"
   ]
  },
  {
   "cell_type": "markdown",
   "id": "b787a5c8",
   "metadata": {},
   "source": [
    "upper 뿐만 아니라 lower, join, lstrip, rstrip, replace, split 함수는 모두 이와 같은 규칙이 적용되어 문자열 자체의 값이 변경되는 것이 아니라 변경된 값이 반환한다는 사실에 주의하자.    "
   ]
  },
  {
   "cell_type": "markdown",
   "id": "83d20834",
   "metadata": {},
   "source": [
    "## 02-3 리스트 자료형\n",
    "---\n",
    "\n",
    "지금까지 우리는 숫자와 문자열에 대해서 알아보았다.   \n",
    "하지만, 숫자와 문자열만으로 프로그래밍을 하기에는 부족한 점이 많다.    \n",
    "예를 들어 1부터 10까지의 숫자 중 홀수의 모음인 1,3,5,7,9의 집합을 생각해 보자.    \n",
    "이런 숫자의 모음을 숫자나 문자열로 표현하기는 어렵다.   \n",
    "파이썬에는 이러한 불편함을 해소할 수 있는 자료형이 존재한다.   \n",
    "이것이 바로 지금부터 공부할 리스트(list)이다.   \n",
    "\n",
    "## 리스트는 어떻게 만들고 사용할까?\n",
    "---\n",
    "리스트를 사용하면 1,3,5,7,9의 숫자 모음을 다음과 같이 간단하게 표현할 수 있다.   "
   ]
  },
  {
   "cell_type": "code",
   "execution_count": 39,
   "id": "4ad36e2d",
   "metadata": {},
   "outputs": [],
   "source": [
    "odd =[1,3,5,7,9]"
   ]
  },
  {
   "cell_type": "markdown",
   "id": "e740a148",
   "metadata": {},
   "source": [
    "리스트를 만들 때는 위에서 보는것과 같이 대괄호([])로 감싸 주고 각 요솟값은 쉽표(,)로 구분해 준다.    \n",
    "리스트명 = [요소1, 요소2, 요소3, ...]       \n",
    "여러가지 리스트의 생김새는 다음과 같다.     "
   ]
  },
  {
   "cell_type": "code",
   "execution_count": 40,
   "id": "54164396",
   "metadata": {},
   "outputs": [],
   "source": [
    "a = []\n",
    "b = [1,2,3]\n",
    "c = ['Life', 'is', 'too', 'short']\n",
    "d = [1, 2, 'Life', 'is']\n",
    "e = [1, 2, ['Life', 'is']]\n"
   ]
  },
  {
   "cell_type": "markdown",
   "id": "0f994e62",
   "metadata": {},
   "source": [
    "> 비어 있는 리스트 a = list()로 생성할 수 있다.    \n",
    "리스트는 a처럼 아무것도 포함하지 않아 비어 있는 리스트 ([])일 수도 있고, b처럼 숫자를 요솟값으로 가질 수도 있으며, c처럼 문자열을 요솟값으로 가질 수도 있다.    \n",
    "또한 d처럼 숫장롸 문자열을 함께 요솟값으로 가질 수도 있고, e처럼 리스트 요솟값으로 가질 수도 있다.   \n",
    "즉, 리스트 안에는 어떠한 자료형도 포함할 수 있다.   \n",
    "\n",
    "## 리스트의 인덱싱과 슬라이싱\n",
    "---\n",
    "리스트도 문자열처럼 인뎃싱과 슬라이싱이 가능하다.    \n",
    "말로 설명하는 것보다 직접 예를 실행해 보면서 리스트의 기본 구조를 이해하는 것이 쉽다.    \n",
    "대화형 인터프리터로 따라 하면서 확실하게 이해하자.      \n",
    "\n",
    "## 리스트의 인덱싱    \n",
    "리스트 역시 문자열처럼 인덱싱을 적용할 수 있다.     \n",
    "먼저 a변수에 [1,2,3]값을 설정한다.   "
   ]
  },
  {
   "cell_type": "code",
   "execution_count": 41,
   "id": "4530115a",
   "metadata": {},
   "outputs": [
    {
     "data": {
      "text/plain": [
       "[1, 2, 3]"
      ]
     },
     "execution_count": 41,
     "metadata": {},
     "output_type": "execute_result"
    }
   ],
   "source": [
    "a = [1,2,3]\n",
    "a "
   ]
  },
  {
   "cell_type": "markdown",
   "id": "d14c8fb2",
   "metadata": {},
   "source": [
    "a[0]은 리스트 a의 첫 번째 요솟값을 말한다.    "
   ]
  },
  {
   "cell_type": "code",
   "execution_count": 42,
   "id": "b2764d93",
   "metadata": {},
   "outputs": [
    {
     "data": {
      "text/plain": [
       "1"
      ]
     },
     "execution_count": 42,
     "metadata": {},
     "output_type": "execute_result"
    }
   ],
   "source": [
    "a[0]"
   ]
  },
  {
   "cell_type": "markdown",
   "id": "2e490762",
   "metadata": {},
   "source": [
    "다음 예는 리스트의 첫 번째 요소인 a[0]과 세 번째 요소인 a[2]의 값을 더한 것이다.    "
   ]
  },
  {
   "cell_type": "code",
   "execution_count": 43,
   "id": "a30aa542",
   "metadata": {},
   "outputs": [
    {
     "data": {
      "text/plain": [
       "4"
      ]
     },
     "execution_count": 43,
     "metadata": {},
     "output_type": "execute_result"
    }
   ],
   "source": [
    "a[0] + a[2]"
   ]
  },
  {
   "cell_type": "markdown",
   "id": "d2f3a657",
   "metadata": {},
   "source": [
    "이것은 1 + 3으로 해석되어 값 4를 출력한다.     \n",
    "문자열을 공부할 때 이미 살펴보았지만, 파이썬은 숫자를 0부터 세기 때문에 a[1]이 리스트 a의 첫 번째 요소가 아니라 a[0]이 리스트 a의 첫 번째 요소라는 것을 명심하자.    \n",
    "a[-1]은 문자열에서와 마찬가지로 리스트 a의 마지막 요솟값을 말한다.     \n"
   ]
  },
  {
   "cell_type": "code",
   "execution_count": 44,
   "id": "948a9a69",
   "metadata": {},
   "outputs": [
    {
     "data": {
      "text/plain": [
       "3"
      ]
     },
     "execution_count": 44,
     "metadata": {},
     "output_type": "execute_result"
    }
   ],
   "source": [
    "a[-1]"
   ]
  },
  {
   "cell_type": "markdown",
   "id": "b3135b73",
   "metadata": {},
   "source": [
    "이번에는 다음 예처럼 리스트 a를 숫자 1,2,3과 또 다른 리스트인 ['a','b','c']를 포함하도록 만들어 보자.   "
   ]
  },
  {
   "cell_type": "code",
   "execution_count": 49,
   "id": "b94a8e4c",
   "metadata": {},
   "outputs": [],
   "source": [
    "a = [1,2,3,['a','b','c']]"
   ]
  },
  {
   "cell_type": "markdown",
   "id": "c1a0687c",
   "metadata": {},
   "source": [
    "그리고 다음 예를 따라 해 보자."
   ]
  },
  {
   "cell_type": "code",
   "execution_count": 50,
   "id": "341e5195",
   "metadata": {},
   "outputs": [
    {
     "data": {
      "text/plain": [
       "1"
      ]
     },
     "execution_count": 50,
     "metadata": {},
     "output_type": "execute_result"
    }
   ],
   "source": [
    "a[0]"
   ]
  },
  {
   "cell_type": "code",
   "execution_count": 51,
   "id": "cbee6cfd",
   "metadata": {},
   "outputs": [
    {
     "data": {
      "text/plain": [
       "['a', 'b', 'c']"
      ]
     },
     "execution_count": 51,
     "metadata": {},
     "output_type": "execute_result"
    }
   ],
   "source": [
    "a[-1]"
   ]
  },
  {
   "cell_type": "code",
   "execution_count": 52,
   "id": "1c4c1101",
   "metadata": {},
   "outputs": [
    {
     "data": {
      "text/plain": [
       "['a', 'b', 'c']"
      ]
     },
     "execution_count": 52,
     "metadata": {},
     "output_type": "execute_result"
    }
   ],
   "source": [
    "a[3]"
   ]
  },
  {
   "cell_type": "markdown",
   "id": "79847147",
   "metadata": {},
   "source": [
    "예상한 대로a[-1]은 마지막 요솟값['a','b','c']를 나태낸다.    \n",
    "a[3]은 리스트 a의 네 번째 요소를 나태내기 때문에 마지막 요소를 나태낸는 a[-1]과 동일한 결괏값을 보여 준다.   \n",
    "\n",
    "그렇다면 리스트 a에 포함된 ['a','b','c'] 리스트에서 'a' 값을 인덱싱을 사용해 끄집어 낼 수 있는 방법은 없을까?    \n",
    "다음예를 살펴보자.   "
   ]
  },
  {
   "cell_type": "code",
   "execution_count": 53,
   "id": "c0bd36d6",
   "metadata": {},
   "outputs": [
    {
     "data": {
      "text/plain": [
       "'a'"
      ]
     },
     "execution_count": 53,
     "metadata": {},
     "output_type": "execute_result"
    }
   ],
   "source": [
    "a[-1][0]"
   ]
  },
  {
   "cell_type": "markdown",
   "id": "584f8d40",
   "metadata": {},
   "source": [
    "위와 같이 하면 'a'를 끄집어 낼 수 있다. a[-1]이 ['a','b','c'] 리스트라는 것은 이미 설명했다.    \n",
    "바로 이 리스트에서 첫 번째 요소를 불러오기 위해 [0]을 붙여 준 것이다.     \n",
    "\n",
    "다음에 예도 마찬가지 경우이미르 어렵집 않게 이해할 수 있을 것이다.    "
   ]
  },
  {
   "cell_type": "code",
   "execution_count": 54,
   "id": "0a33777f",
   "metadata": {},
   "outputs": [
    {
     "data": {
      "text/plain": [
       "'b'"
      ]
     },
     "execution_count": 54,
     "metadata": {},
     "output_type": "execute_result"
    }
   ],
   "source": [
    "a[-1][1]"
   ]
  },
  {
   "cell_type": "code",
   "execution_count": 55,
   "id": "f9c51a9f",
   "metadata": {},
   "outputs": [
    {
     "data": {
      "text/plain": [
       "'c'"
      ]
     },
     "execution_count": 55,
     "metadata": {},
     "output_type": "execute_result"
    }
   ],
   "source": [
    "a[-1][2]"
   ]
  },
  {
   "cell_type": "markdown",
   "id": "92acb1aa",
   "metadata": {},
   "source": [
    "#### 삼중 리스트에서 인덱싱하기\n",
    "\n",
    "조금 복잡하지만, 리스트를 다음과 같이 작성할 수도 있다.    "
   ]
  },
  {
   "cell_type": "code",
   "execution_count": 56,
   "id": "11b05130",
   "metadata": {},
   "outputs": [],
   "source": [
    "a = [1,2,['a','b',['Life','is']]]"
   ]
  },
  {
   "cell_type": "markdown",
   "id": "7330148e",
   "metadata": {},
   "source": [
    "리스트 a 안에 ['a','b',['Life','is']]리스트가 포함되어 있고 그 리스트 안에 다시 ['Life','is']리스트가 포함되어 있다.    \n",
    "즉, 삼중 구조의 리스트인 것이다.     \n",
    "\n",
    "이 경우, 'Life'문자열만 끄집어 내려면 다음과 같이 해야한다."
   ]
  },
  {
   "cell_type": "code",
   "execution_count": 57,
   "id": "1230ea67",
   "metadata": {},
   "outputs": [
    {
     "data": {
      "text/plain": [
       "'Life'"
      ]
     },
     "execution_count": 57,
     "metadata": {},
     "output_type": "execute_result"
    }
   ],
   "source": [
    "a[2][2][0]"
   ]
  },
  {
   "cell_type": "markdown",
   "id": "bc9e3774",
   "metadata": {},
   "source": [
    "위 예는 리스트 a의 세 번째 요소인 리스트['a','b',['Life','is']]에서 세번째 요소인 리스트인['Life','is]의 첫 번째 요소를 나타낸다.     \n",
    "리스트를 다중으로 중첩해서 사용하는 것은 혼란스럽기 때문에 자주 사용하지는 않는다.    \n",
    "\n",
    "### 리스트의 슬라이싱\n",
    "\n",
    "문자열과 마찬가지로 리스트에서도 슬라이싱 기법을 적용할 수 있다.     \n",
    "슬라이싱은 '잘라 낸다'라는 뜻이라고 했다.    \n",
    "리스트의 슬라이싱에 대해서 살펴보자.    "
   ]
  },
  {
   "cell_type": "code",
   "execution_count": 58,
   "id": "ceb775e4",
   "metadata": {},
   "outputs": [
    {
     "data": {
      "text/plain": [
       "[1, 2]"
      ]
     },
     "execution_count": 58,
     "metadata": {},
     "output_type": "execute_result"
    }
   ],
   "source": [
    "a = [1,2,3,4,5]\n",
    "a[0:2]"
   ]
  },
  {
   "cell_type": "markdown",
   "id": "ad446b3c",
   "metadata": {},
   "source": [
    "앞의 예를 문자열에서 슬라이싱했던 예와 비교햐보자.   "
   ]
  },
  {
   "cell_type": "code",
   "execution_count": 59,
   "id": "dbe57c08",
   "metadata": {},
   "outputs": [
    {
     "data": {
      "text/plain": [
       "'12'"
      ]
     },
     "execution_count": 59,
     "metadata": {},
     "output_type": "execute_result"
    }
   ],
   "source": [
    "a = \"12345\"\n",
    "a[0:2]"
   ]
  },
  {
   "cell_type": "markdown",
   "id": "338e0ae4",
   "metadata": {},
   "source": [
    "2가지가 완전히 동일하게 사용되었다는 것을 눈치챘을 것이다.       \n",
    "문자열에서 했던 것과 사용법이 완전히 동일하다.     \n",
    "몇가지 예를 살펴보자.     "
   ]
  },
  {
   "cell_type": "code",
   "execution_count": 60,
   "id": "309ed044",
   "metadata": {},
   "outputs": [],
   "source": [
    "a = [1,2,3,4,5]\n",
    "b = a[:2]\n",
    "c = a[2:] "
   ]
  },
  {
   "cell_type": "code",
   "execution_count": 61,
   "id": "580515ec",
   "metadata": {},
   "outputs": [
    {
     "data": {
      "text/plain": [
       "[1, 2]"
      ]
     },
     "execution_count": 61,
     "metadata": {},
     "output_type": "execute_result"
    }
   ],
   "source": [
    "b"
   ]
  },
  {
   "cell_type": "code",
   "execution_count": 62,
   "id": "5ee9af54",
   "metadata": {},
   "outputs": [
    {
     "data": {
      "text/plain": [
       "[3, 4, 5]"
      ]
     },
     "execution_count": 62,
     "metadata": {},
     "output_type": "execute_result"
    }
   ],
   "source": [
    "c"
   ]
  },
  {
   "cell_type": "markdown",
   "id": "48c8797c",
   "metadata": {},
   "source": [
    "b 변수는 리스트 a의 첫 번째 요소부터 두 번째 요소인 a[1]까지 나타낸는 리스트이다.    \n",
    "물론 a[2] 값인 3은 포함되지 않는다.     \n",
    "c라는 변수는 리스트 a의 세 번째 요소부터 끝까지 나타내는 리스트이다.     \n",
    "\n",
    "#### 중접된 리스트에서 슬라이싱하기\n",
    "\n",
    "리스트가 포함된 중첩 리스트 역시 슬라이싱 방법은 똑같이 적용된다.   \n"
   ]
  },
  {
   "cell_type": "code",
   "execution_count": 64,
   "id": "74a5ad30",
   "metadata": {},
   "outputs": [],
   "source": [
    "a = [1,2,3,['a','b','c'],4,5]"
   ]
  },
  {
   "cell_type": "code",
   "execution_count": 65,
   "id": "f26e2e93",
   "metadata": {},
   "outputs": [
    {
     "data": {
      "text/plain": [
       "[3, ['a', 'b', 'c'], 4]"
      ]
     },
     "execution_count": 65,
     "metadata": {},
     "output_type": "execute_result"
    }
   ],
   "source": [
    "a[2:5]"
   ]
  },
  {
   "cell_type": "code",
   "execution_count": 66,
   "id": "c878f846",
   "metadata": {},
   "outputs": [
    {
     "data": {
      "text/plain": [
       "['a', 'b']"
      ]
     },
     "execution_count": 66,
     "metadata": {},
     "output_type": "execute_result"
    }
   ],
   "source": [
    "a[3][:2]"
   ]
  },
  {
   "cell_type": "markdown",
   "id": "e0f19c9b",
   "metadata": {},
   "source": [
    "위 예에서 a[3]은 ['a','b','c']를 나타낸다.    \n",
    "따라서 a[3][:2]는 ['a','b','c']의 첫 번째 요소부터 세 번째 요소 직전까지의 값, 즉['a','b']를 나타내는 리스트가 된다.     \n",
    "\n",
    "## 리스트 연산하기\n",
    "---\n",
    "리스트 역시 +를 사용해서 더할 수 있고 *를 사용해서 반복할 수 있다.    \n",
    "문자열과 마찬가지로 리스트에서도 되는지 직접 확인해 보자.     \n",
    "\n",
    "### 리스트 더하기(+)"
   ]
  },
  {
   "cell_type": "code",
   "execution_count": 67,
   "id": "d2f2aba8",
   "metadata": {},
   "outputs": [
    {
     "data": {
      "text/plain": [
       "[1, 2, 3, 4, 5, 6]"
      ]
     },
     "execution_count": 67,
     "metadata": {},
     "output_type": "execute_result"
    }
   ],
   "source": [
    "a = [1,2,3]\n",
    "b = [4,5,6]\n",
    "a + b"
   ]
  },
  {
   "cell_type": "markdown",
   "id": "84d433d4",
   "metadata": {},
   "source": [
    "리스트 사이에서는 +는 2개의 리스트를 합차는 기능을 한다.     \n",
    "문자열에서 \"abc\" + \"def\" + \"abcdef\"가 되는 것과 같은 이치이다.     \n",
    "\n",
    "### 리스트 반복하기(*)"
   ]
  },
  {
   "cell_type": "code",
   "execution_count": 68,
   "id": "dfa1a32e",
   "metadata": {},
   "outputs": [
    {
     "data": {
      "text/plain": [
       "[1, 2, 3, 1, 2, 3, 1, 2, 3]"
      ]
     },
     "execution_count": 68,
     "metadata": {},
     "output_type": "execute_result"
    }
   ],
   "source": [
    "a = [1,2,3]\n",
    "a * 3"
   ]
  },
  {
   "cell_type": "markdown",
   "id": "c20a6fc9",
   "metadata": {},
   "source": [
    "위에서 볼 수 있듯이[1,2,3] 리스트가 세 번 반복되어 새로운 리스트를 만들어 낸다.    \n",
    "문자열에서 \"abc\" * 3 = \"abcabcabc\"가 되는 것과 같은 이치이다.    \n",
    "\n",
    "### 리스트 길이 구하기\n",
    "리스트 길이를 구하기 위해서는 다음처럼 len함수를 사용해야한다.   "
   ]
  },
  {
   "cell_type": "code",
   "execution_count": 69,
   "id": "af6bc3e2",
   "metadata": {},
   "outputs": [
    {
     "data": {
      "text/plain": [
       "3"
      ]
     },
     "execution_count": 69,
     "metadata": {},
     "output_type": "execute_result"
    }
   ],
   "source": [
    "a = [1,2,3]\n",
    "len(a)"
   ]
  },
  {
   "cell_type": "markdown",
   "id": "4ca309b9",
   "metadata": {},
   "source": [
    "len은 문자열, 리스트외에 앞으로 배울 듀플과 딕셔너리에도 사용할 수 있는 함수이다.     \n",
    "실습에서 자주 사용하므로 잘 기억해 두자.   \n",
    "\n",
    "#### 초보자가 범하기 쉬운 리스트 연산 오류\n",
    "\n",
    "다음 소스 코드를 입력했을 때 결괏값을 어떻게 나올까?"
   ]
  },
  {
   "cell_type": "code",
   "execution_count": 70,
   "id": "51306380",
   "metadata": {},
   "outputs": [
    {
     "ename": "TypeError",
     "evalue": "unsupported operand type(s) for +: 'int' and 'str'",
     "output_type": "error",
     "traceback": [
      "\u001b[0;31m---------------------------------------------------------------------------\u001b[0m",
      "\u001b[0;31mTypeError\u001b[0m                                 Traceback (most recent call last)",
      "Cell \u001b[0;32mIn[70], line 2\u001b[0m\n\u001b[1;32m      1\u001b[0m a \u001b[38;5;241m=\u001b[39m [\u001b[38;5;241m1\u001b[39m,\u001b[38;5;241m2\u001b[39m,\u001b[38;5;241m3\u001b[39m]\n\u001b[0;32m----> 2\u001b[0m \u001b[43ma\u001b[49m\u001b[43m[\u001b[49m\u001b[38;5;241;43m2\u001b[39;49m\u001b[43m]\u001b[49m\u001b[43m \u001b[49m\u001b[38;5;241;43m+\u001b[39;49m\u001b[43m \u001b[49m\u001b[38;5;124;43m\"\u001b[39;49m\u001b[38;5;124;43mhi\u001b[39;49m\u001b[38;5;124;43m\"\u001b[39;49m\n",
      "\u001b[0;31mTypeError\u001b[0m: unsupported operand type(s) for +: 'int' and 'str'"
     ]
    }
   ],
   "source": [
    "a = [1,2,3]\n",
    "a[2] + \"hi\""
   ]
  },
  {
   "cell_type": "markdown",
   "id": "4e1ce66f",
   "metadata": {},
   "source": [
    "a[2]의 값인 3과 문자열 hi가 더해져서 3hi가 출력될 것이라고 생각할 수 있다.    \n",
    "하지만 다음 결과를 살펴보니 오류가 발생했다.    \n",
    "오류의 원인은 무엇일까?\n",
    "\n",
    "a[2]에 저장된 값은 3이라는 정수인데 \"hi\"는 문자열이다.    \n",
    "정수와 문자열은 당연히 서로 더할 수 없기 때문에 오류가 발생할 것이다.    \n",
    "만약 숫자와 문자열을 더해서 '3hi'를 만들고 싶다면 다음처럼 숫자 3을 문자 '3'으로 바꾸어야 한다.    "
   ]
  },
  {
   "cell_type": "code",
   "execution_count": 71,
   "id": "427d909c",
   "metadata": {},
   "outputs": [
    {
     "data": {
      "text/plain": [
       "'3hi'"
      ]
     },
     "execution_count": 71,
     "metadata": {},
     "output_type": "execute_result"
    }
   ],
   "source": [
    "str(a[2]) + \"hi\""
   ]
  },
  {
   "cell_type": "markdown",
   "id": "a83bbee5",
   "metadata": {},
   "source": [
    "str은 정수나 실수를 문자열로 바꾸어 주는 파이썬의 내장 함수이다.   \n",
    "\n",
    "## 리스트의 수정과 삭제\n",
    "---\n",
    "리스트는 값을 수정하거나 삭제할 수 있다.\n",
    "\n",
    "### 리스트의 값 수정하기"
   ]
  },
  {
   "cell_type": "code",
   "execution_count": 72,
   "id": "8c5d0a41",
   "metadata": {},
   "outputs": [
    {
     "data": {
      "text/plain": [
       "[1, 2, 4]"
      ]
     },
     "execution_count": 72,
     "metadata": {},
     "output_type": "execute_result"
    }
   ],
   "source": [
    "a = [1,2,3]\n",
    "a[2] = 4\n",
    "a"
   ]
  },
  {
   "cell_type": "markdown",
   "id": "51e7357a",
   "metadata": {},
   "source": [
    "a[2]의 요솟값 3이 4로 바뀌었다.   \n",
    "\n",
    "### del 함수를 사용해 리스트 요소 삭제하기"
   ]
  },
  {
   "cell_type": "code",
   "execution_count": 73,
   "id": "52bc6c4f",
   "metadata": {},
   "outputs": [
    {
     "data": {
      "text/plain": [
       "[1, 3]"
      ]
     },
     "execution_count": 73,
     "metadata": {},
     "output_type": "execute_result"
    }
   ],
   "source": [
    "a = [1,2,3]\n",
    "del a [1]\n",
    "a"
   ]
  },
  {
   "cell_type": "markdown",
   "id": "09d042d0",
   "metadata": {},
   "source": [
    "del a[x]는 x번째 요솟값을 삭제한다.     \n",
    "위에서는 a 리스트에서 a [1]을 삭제했다.    \n",
    "del함수는 파이썬이 자체적으로 가지고 있는 삭제 함수이며 다음과 같이 사용한다.     \n",
    "\n",
    "\n",
    "del 객체\n",
    "> 객체란 파이썬에서 사용되는 모든 자료형을 말한다.    \n",
    "\n",
    "다음초럼 슬라이싱 기법을 사용하여 리스트의 요소 여려 개를 한꺼번에 삭제할 수도 있다.    "
   ]
  },
  {
   "cell_type": "code",
   "execution_count": 74,
   "id": "91fbc939",
   "metadata": {},
   "outputs": [
    {
     "data": {
      "text/plain": [
       "[1, 2]"
      ]
     },
     "execution_count": 74,
     "metadata": {},
     "output_type": "execute_result"
    }
   ],
   "source": [
    "a = [1,2,3,4,5]\n",
    "del a [2:]\n",
    "a "
   ]
  },
  {
   "cell_type": "markdown",
   "id": "e02fdb11",
   "metadata": {},
   "source": [
    "a[2:]에 해당하는 리스트의 요소들이 삭제되었다.     \n",
    "리스트의 요소를 삭제하는 방법에는 2가지가 더 있다.    \n",
    "바로 리스트의 remove와 pop함수를 사용하는 것인데, 이는 리스트 관련 함수에서 설명한다.   \n",
    "\n",
    "## 리스트 관련 함수\n",
    "---\n",
    "문자열과 마찬가지로 리스트 변수 이름 뒤에 ','를 붙여 여러 가지 리스트 관련 함수를 사용할 수 있다.    \n",
    "유용하게 사용하는 리스트 관련 함수 몇 가지만 알아보자.    \n",
    "\n",
    "### 리스트에 요소 추가하기 = append\n",
    "append의 사전적 의미를 '덧붙이다,첨부하다'이다.    \n",
    "이 뜻을 안다면 다음 예가 바로 이해될 것이다.     \n",
    "append(x)는 리스트의 맨 마지막에 x를 추가하는 함수이다.    "
   ]
  },
  {
   "cell_type": "code",
   "execution_count": 75,
   "id": "9db399bf",
   "metadata": {},
   "outputs": [
    {
     "data": {
      "text/plain": [
       "[1, 2, 3, 4]"
      ]
     },
     "execution_count": 75,
     "metadata": {},
     "output_type": "execute_result"
    }
   ],
   "source": [
    "a = [1,2,3]\n",
    "a.append(4)\n",
    "a"
   ]
  },
  {
   "cell_type": "markdown",
   "id": "99595506",
   "metadata": {},
   "source": [
    "리스트 안에는 어떤 자료형도 추가할 수 있다.    \n",
    "다음 예는 리스트에 다시 리스트를 추가한 결과이다.   "
   ]
  },
  {
   "cell_type": "code",
   "execution_count": 76,
   "id": "4def97b6",
   "metadata": {},
   "outputs": [
    {
     "data": {
      "text/plain": [
       "[1, 2, 3, 4, [5, 6]]"
      ]
     },
     "execution_count": 76,
     "metadata": {},
     "output_type": "execute_result"
    }
   ],
   "source": [
    "a.append([5,6])\n",
    "a"
   ]
  },
  {
   "cell_type": "markdown",
   "id": "d94c398c",
   "metadata": {},
   "source": [
    "#### 리스트 정렬 - sort\n",
    "\n",
    "sort함수는 리스트의 요소를 순서대로 정렬해 준다."
   ]
  },
  {
   "cell_type": "code",
   "execution_count": 77,
   "id": "51968e1a",
   "metadata": {},
   "outputs": [
    {
     "data": {
      "text/plain": [
       "[1, 2, 3, 4]"
      ]
     },
     "execution_count": 77,
     "metadata": {},
     "output_type": "execute_result"
    }
   ],
   "source": [
    "a = [1,4,3,2]\n",
    "a.sort()\n",
    "a"
   ]
  },
  {
   "cell_type": "markdown",
   "id": "7d0d7145",
   "metadata": {},
   "source": [
    "문자 역시 알파벳 순서로 정렬할 수 있다."
   ]
  },
  {
   "cell_type": "code",
   "execution_count": 78,
   "id": "e21ef76b",
   "metadata": {},
   "outputs": [
    {
     "data": {
      "text/plain": [
       "['a', 'b', 'c']"
      ]
     },
     "execution_count": 78,
     "metadata": {},
     "output_type": "execute_result"
    }
   ],
   "source": [
    "a = ['a','b','c']\n",
    "a.sort()\n",
    "a"
   ]
  },
  {
   "cell_type": "markdown",
   "id": "d1527032",
   "metadata": {},
   "source": [
    "#### 리스트 뒤집기 - reverse\n",
    "\n",
    "reverse함수는 리스트를 역순으로 뒤집어 준다.     \n",
    "이때 리스트 요소들을 순서대로 정렬한 다음 다시 역순으로 정렬하는 것이 아니라 현재의 리스트를 그대로 거꾸로 뒤집는다.    "
   ]
  },
  {
   "cell_type": "code",
   "execution_count": 80,
   "id": "94fac5c0",
   "metadata": {},
   "outputs": [
    {
     "data": {
      "text/plain": [
       "['c', 'b', 'a']"
      ]
     },
     "execution_count": 80,
     "metadata": {},
     "output_type": "execute_result"
    }
   ],
   "source": [
    "a = ['a','b','c']\n",
    "a.reverse()\n",
    "a"
   ]
  },
  {
   "cell_type": "markdown",
   "id": "05d8c88f",
   "metadata": {},
   "source": [
    "### 인덱스 반환 - index\n",
    "\n",
    "index(x)함수는 리스트에 x값이 있으면 x의 인덱스 값(위칫값)을 리턴한다.    "
   ]
  },
  {
   "cell_type": "code",
   "execution_count": null,
   "id": "df54c1b6",
   "metadata": {},
   "outputs": [
    {
     "data": {
      "text/plain": [
       "[1, 2, 3]"
      ]
     },
     "execution_count": 81,
     "metadata": {},
     "output_type": "execute_result"
    }
   ],
   "source": [
    "a = [1,2,3]"
   ]
  },
  {
   "cell_type": "code",
   "execution_count": 82,
   "id": "2eb80466",
   "metadata": {},
   "outputs": [
    {
     "data": {
      "text/plain": [
       "2"
      ]
     },
     "execution_count": 82,
     "metadata": {},
     "output_type": "execute_result"
    }
   ],
   "source": [
    "a.index(3)\n"
   ]
  },
  {
   "cell_type": "code",
   "execution_count": 83,
   "id": "08585a71",
   "metadata": {},
   "outputs": [
    {
     "data": {
      "text/plain": [
       "0"
      ]
     },
     "execution_count": 83,
     "metadata": {},
     "output_type": "execute_result"
    }
   ],
   "source": [
    "a.index(1)"
   ]
  },
  {
   "cell_type": "markdown",
   "id": "11196815",
   "metadata": {},
   "source": [
    "위 예에서 리스트 a에 있는 숫자 3의 위치는 a[2]이므로 2, 숫자 1의 위치는 a[0]이므로 0을 리턴한다.    \n",
    "다음 예에서 값 0은 a리스트에 존재하지 않기 때문에 오루가 발생한다.    "
   ]
  },
  {
   "cell_type": "code",
   "execution_count": 84,
   "id": "b7cf4c08",
   "metadata": {},
   "outputs": [
    {
     "ename": "ValueError",
     "evalue": "0 is not in list",
     "output_type": "error",
     "traceback": [
      "\u001b[0;31m---------------------------------------------------------------------------\u001b[0m",
      "\u001b[0;31mValueError\u001b[0m                                Traceback (most recent call last)",
      "Cell \u001b[0;32mIn[84], line 1\u001b[0m\n\u001b[0;32m----> 1\u001b[0m \u001b[43ma\u001b[49m\u001b[38;5;241;43m.\u001b[39;49m\u001b[43mindex\u001b[49m\u001b[43m(\u001b[49m\u001b[38;5;241;43m0\u001b[39;49m\u001b[43m)\u001b[49m\n",
      "\u001b[0;31mValueError\u001b[0m: 0 is not in list"
     ]
    }
   ],
   "source": [
    "a.index(0)"
   ]
  },
  {
   "cell_type": "markdown",
   "id": "7dfcee9b",
   "metadata": {},
   "source": [
    "### 리스트에 요소 삽인 - insert\n",
    "\n",
    "insert(a,b)는 리스트의 a번째 위치에 b를 삽입하는 함수이다.     \n",
    "파이썬은 숫자를 0부터 센다는 것을 반드시 기억하자.   "
   ]
  },
  {
   "cell_type": "code",
   "execution_count": 85,
   "id": "be32dd10",
   "metadata": {},
   "outputs": [
    {
     "data": {
      "text/plain": [
       "[4, 1, 2, 3]"
      ]
     },
     "execution_count": 85,
     "metadata": {},
     "output_type": "execute_result"
    }
   ],
   "source": [
    "a = [1,2,3]\n",
    "a.insert(0,4)\n",
    "a"
   ]
  },
  {
   "cell_type": "markdown",
   "id": "e5d23dc7",
   "metadata": {},
   "source": [
    "위 예는 0번째 자리, 즉 첫 번째 요소인 a[0] 위치에 값 4를 삽입하라는 뜻이다.    "
   ]
  },
  {
   "cell_type": "code",
   "execution_count": 86,
   "id": "312b8696",
   "metadata": {},
   "outputs": [
    {
     "data": {
      "text/plain": [
       "[4, 1, 2, 5, 3]"
      ]
     },
     "execution_count": 86,
     "metadata": {},
     "output_type": "execute_result"
    }
   ],
   "source": [
    "a.insert(3,5)\n",
    "a"
   ]
  },
  {
   "cell_type": "markdown",
   "id": "7a7ebaaa",
   "metadata": {},
   "source": [
    "위 예는 리스트 a의 a[3], 즉 네 번째 요소 위치에 값 5를 삽입하라는 뜻이다.      \n",
    "\n",
    "### 리스트 요소 제거 - remove\n",
    "\n",
    "remove(x)는 리스트에서 첫번째로 나오는 x를 삭제하는 함수이다.    "
   ]
  },
  {
   "cell_type": "code",
   "execution_count": 87,
   "id": "6679a06e",
   "metadata": {},
   "outputs": [
    {
     "data": {
      "text/plain": [
       "[1, 2, 1, 2, 3]"
      ]
     },
     "execution_count": 87,
     "metadata": {},
     "output_type": "execute_result"
    }
   ],
   "source": [
    "a = [1,2,3,1,2,3]\n",
    "a.remove(3)\n",
    "a"
   ]
  },
  {
   "cell_type": "markdown",
   "id": "fa3608d3",
   "metadata": {},
   "source": [
    "a가 3이라는 값을 2개 가지고 있을 경우, 첫번째 3만 제거되는 것을 알 수 있다.     "
   ]
  },
  {
   "cell_type": "code",
   "execution_count": 88,
   "id": "bc06b6d4",
   "metadata": {},
   "outputs": [
    {
     "data": {
      "text/plain": [
       "[1, 2, 1, 2]"
      ]
     },
     "execution_count": 88,
     "metadata": {},
     "output_type": "execute_result"
    }
   ],
   "source": [
    "a.remove(3)\n",
    "a"
   ]
  },
  {
   "cell_type": "markdown",
   "id": "ce2116ec",
   "metadata": {},
   "source": [
    "remove(3)을 한 번 더 실행하면 다시 3이 삭제된다.   \n",
    "\n",
    "### 리스트 요소 끄집어 내기 - pop\n",
    "pop()은 리스트의 맨 마지막 요소를 리턴하고 그 요소는 삭제한다.    "
   ]
  },
  {
   "cell_type": "code",
   "execution_count": 93,
   "id": "246400e8",
   "metadata": {},
   "outputs": [],
   "source": [
    "a = [1,2,3]"
   ]
  },
  {
   "cell_type": "code",
   "execution_count": 94,
   "id": "c64c4485",
   "metadata": {},
   "outputs": [
    {
     "data": {
      "text/plain": [
       "3"
      ]
     },
     "execution_count": 94,
     "metadata": {},
     "output_type": "execute_result"
    }
   ],
   "source": [
    "a.pop()"
   ]
  },
  {
   "cell_type": "code",
   "execution_count": 95,
   "id": "cd7fcfa0",
   "metadata": {},
   "outputs": [
    {
     "data": {
      "text/plain": [
       "[1, 2]"
      ]
     },
     "execution_count": 95,
     "metadata": {},
     "output_type": "execute_result"
    }
   ],
   "source": [
    "a"
   ]
  },
  {
   "cell_type": "markdown",
   "id": "7dfe5002",
   "metadata": {},
   "source": [
    "a 리스트를 다시 보면 [1,2,3]에서 3을 끄지버어 내고 최종적으로 [1,2]만 남는 것을 확인할 수 있다.     \n",
    "pop(x)는 리스트의 x번째 요소를 리턴하고 그 요소는 삭제한다.     "
   ]
  },
  {
   "cell_type": "code",
   "execution_count": 96,
   "id": "35583898",
   "metadata": {},
   "outputs": [],
   "source": [
    "a = [1,2,3]"
   ]
  },
  {
   "cell_type": "code",
   "execution_count": 97,
   "id": "0adb06b9",
   "metadata": {},
   "outputs": [
    {
     "data": {
      "text/plain": [
       "2"
      ]
     },
     "execution_count": 97,
     "metadata": {},
     "output_type": "execute_result"
    }
   ],
   "source": [
    "a.pop(1)"
   ]
  },
  {
   "cell_type": "code",
   "execution_count": 98,
   "id": "83b34f5c",
   "metadata": {},
   "outputs": [
    {
     "data": {
      "text/plain": [
       "[1, 3]"
      ]
     },
     "execution_count": 98,
     "metadata": {},
     "output_type": "execute_result"
    }
   ],
   "source": [
    "a"
   ]
  },
  {
   "cell_type": "markdown",
   "id": "c7d35ff0",
   "metadata": {},
   "source": [
    "a.pop(1)은 a[1]의 값을 끄집어 내어 리턴한다.     \n",
    "다시 a를 출력해 보면 끄자ㅣㅂ어 낸 값이 삭제된 것을 확인할 수 있다.   \n",
    "\n",
    "### 리스트에 포함된 요소 x의 개수 세기 - count\n",
    "count(x)는 리스트 안에 x가 몇 개 있는지 조사하여 그 개수를 리턴하는 함수이다.   "
   ]
  },
  {
   "cell_type": "code",
   "execution_count": 99,
   "id": "254e999c",
   "metadata": {},
   "outputs": [
    {
     "data": {
      "text/plain": [
       "2"
      ]
     },
     "execution_count": 99,
     "metadata": {},
     "output_type": "execute_result"
    }
   ],
   "source": [
    "a = [1,2,3,1]\n",
    "a.count(1)"
   ]
  },
  {
   "cell_type": "markdown",
   "id": "bc2e361f",
   "metadata": {},
   "source": [
    "1이라는 값이 리스트 a에 2개 들어 있으므로 2를 리턴한다.     \n",
    "\n",
    "### 리스트 확장 - extend\n",
    "\n",
    "extend(x)에서 x에는 리스트만 올 수 있으며 원래의 a 리스트에 x 리스트를 더하게 된다.    "
   ]
  },
  {
   "cell_type": "code",
   "execution_count": 100,
   "id": "f9c64099",
   "metadata": {},
   "outputs": [],
   "source": [
    "a = [1,2,3]\n",
    "a.extend([4,5])"
   ]
  },
  {
   "cell_type": "code",
   "execution_count": 101,
   "id": "ace3ffbe",
   "metadata": {},
   "outputs": [
    {
     "data": {
      "text/plain": [
       "[1, 2, 3, 4, 5]"
      ]
     },
     "execution_count": 101,
     "metadata": {},
     "output_type": "execute_result"
    }
   ],
   "source": [
    "a"
   ]
  },
  {
   "cell_type": "code",
   "execution_count": 102,
   "id": "286c7419",
   "metadata": {},
   "outputs": [],
   "source": [
    "b = [6,7] "
   ]
  },
  {
   "cell_type": "code",
   "execution_count": 103,
   "id": "21056ad1",
   "metadata": {},
   "outputs": [],
   "source": [
    "a.extend(b)"
   ]
  },
  {
   "cell_type": "code",
   "execution_count": 104,
   "id": "0416b423",
   "metadata": {},
   "outputs": [
    {
     "data": {
      "text/plain": [
       "[1, 2, 3, 4, 5, 6, 7]"
      ]
     },
     "execution_count": 104,
     "metadata": {},
     "output_type": "execute_result"
    }
   ],
   "source": [
    "a"
   ]
  },
  {
   "cell_type": "markdown",
   "id": "dec9a15b",
   "metadata": {},
   "source": [
    "a.extend([4,5])는 a += [4,5]와 동일하다.    \n",
    "\n",
    "> a += [4,5]는 a = a + [4,5]와 동일한 표현식이다.    \n",
    "\n",
    "## 02-4 튜플 자료형\n",
    "---\n",
    "튜플(tuple)은 몇 가지 점을 제와하곤 리스트와 거의 비슷하며 리스트와 다른 점은 다음과 같다.   \n",
    "\n",
    "- 리스트 [], 튜플()으로 둘러싼다.   \n",
    "- 리스트는 요솟값의 생성, 삭제, 수정이 가능하지만, 튜플은 요솟값을 바꿀 수 없다.   \n",
    "\n",
    "## 튜플은 어떻게 만들까?\n",
    "---\n",
    "튜플은 다음과 같이 여러 가지 모습으로 생성할 수 있다.   \n",
    "\n",
    "t1 = ()        \n",
    "t2 = (1,)       \n",
    "t3 = (1,2,3)     \n",
    "t4 = 1,2,3     \n",
    "t5 = ('a', 'b', ('ab', 'cd'))    \n",
    "\n",
    "모습은 리스트와 거의 비슷하지만, 튜플에서는 리스트와 다른 2가지 차이점을 찾아볼 수 있다.   \n",
    "t2 = (1,)처럼 단지 1개의 요소만을 가질 때는 요소 뒤에 쉼표(,)를 반드시 붙여야 한다는 것과 t4 =1,2,3처럼 소괄호(())를 생략해도 된다는 점이다.      \n",
    "얼핏 보면 튜플과 리스트는 비숫한 역할을 하지만, 프로그래맹을 할 때 튜플과 리스트는 구별해서 사용하는 것이 유리하다.   \n",
    "튜플과 리스트의 가장 큰 차이는 요솟값을 변환시킬 수 있는지의 여부이다.    \n",
    "즉, 리스트의 요솟값은 변화가 가능하고 튜플의 요솟값은 변화가 불가능하다.     \n",
    "따라서 프로그램이 실행되는 동안 요솟값이 항상 변하지 않기를 바란다거나 값이 바뀔까 걱정하고 싶지 않다면 주저하지 말고 튜플을 사용해야한다.   \n",
    "이와 반대로 수시로 그 값을 변화시켜야할 경우라면 리스트를 사용해야 한다.    \n",
    "실제 프로그램에서는 값이 변경되는 현태의 변수가 훨씬 많기 때문에 평균적으로 튜플보다 리스트를 더 많이 사용한다.  \n",
    "\n",
    "## 튜플의 요솟값을 지우거나 변경하려고 하면 어떻게 될까?\n",
    "---\n",
    "앞에서 설명했듯이 튜플의 요솟값은 한번 정하면 지우거나 변경할 수 없다.   \n",
    "다음에 소개하는 두 예를 살펴보면 무슨 말인지 알 수 있을 것이다.    \n",
    "\n",
    "### 1. 튜플 요솟값을 삭제하려 할때\n",
    "\n",
    "\n"
   ]
  },
  {
   "cell_type": "code",
   "execution_count": 1,
   "id": "d7e5e3a4",
   "metadata": {},
   "outputs": [
    {
     "ename": "TypeError",
     "evalue": "'tuple' object doesn't support item deletion",
     "output_type": "error",
     "traceback": [
      "\u001b[0;31m---------------------------------------------------------------------------\u001b[0m",
      "\u001b[0;31mTypeError\u001b[0m                                 Traceback (most recent call last)",
      "Cell \u001b[0;32mIn[1], line 2\u001b[0m\n\u001b[1;32m      1\u001b[0m t1 \u001b[38;5;241m=\u001b[39m (\u001b[38;5;241m1\u001b[39m,\u001b[38;5;241m2\u001b[39m,\u001b[38;5;124m'\u001b[39m\u001b[38;5;124ma\u001b[39m\u001b[38;5;124m'\u001b[39m,\u001b[38;5;124m'\u001b[39m\u001b[38;5;124mb\u001b[39m\u001b[38;5;124m'\u001b[39m)\n\u001b[0;32m----> 2\u001b[0m \u001b[38;5;28;01mdel\u001b[39;00m t1[\u001b[38;5;241m0\u001b[39m]\n",
      "\u001b[0;31mTypeError\u001b[0m: 'tuple' object doesn't support item deletion"
     ]
    }
   ],
   "source": [
    "t1 = (1,2,'a','b')\n",
    "del t1[0]"
   ]
  },
  {
   "cell_type": "markdown",
   "id": "5689ebc9",
   "metadata": {},
   "source": [
    "튜플의 요소를 리스트처럼 del함수로 지우려고 한 예이다.   \n",
    "튜플은 요솟값을 지울 수 없다는 어류 메세지를 확인 할 수 있다.    \n",
    "\n",
    "### 2. 튜플 요솟값을 변경하려 할 때"
   ]
  },
  {
   "cell_type": "code",
   "execution_count": 2,
   "id": "d04793df",
   "metadata": {},
   "outputs": [
    {
     "ename": "TypeError",
     "evalue": "'tuple' object does not support item assignment",
     "output_type": "error",
     "traceback": [
      "\u001b[0;31m---------------------------------------------------------------------------\u001b[0m",
      "\u001b[0;31mTypeError\u001b[0m                                 Traceback (most recent call last)",
      "Cell \u001b[0;32mIn[2], line 2\u001b[0m\n\u001b[1;32m      1\u001b[0m t1 \u001b[38;5;241m=\u001b[39m (\u001b[38;5;241m1\u001b[39m,\u001b[38;5;241m2\u001b[39m,\u001b[38;5;124m'\u001b[39m\u001b[38;5;124ma\u001b[39m\u001b[38;5;124m'\u001b[39m,\u001b[38;5;124m'\u001b[39m\u001b[38;5;124mb\u001b[39m\u001b[38;5;124m'\u001b[39m)\n\u001b[0;32m----> 2\u001b[0m \u001b[43mt1\u001b[49m\u001b[43m[\u001b[49m\u001b[38;5;241;43m0\u001b[39;49m\u001b[43m]\u001b[49m \u001b[38;5;241m=\u001b[39m \u001b[38;5;124m'\u001b[39m\u001b[38;5;124mc\u001b[39m\u001b[38;5;124m'\u001b[39m\n",
      "\u001b[0;31mTypeError\u001b[0m: 'tuple' object does not support item assignment"
     ]
    }
   ],
   "source": [
    "t1 = (1,2,'a','b')\n",
    "t1[0] = 'c'"
   ]
  },
  {
   "cell_type": "markdown",
   "id": "e3bd6042",
   "metadata": {},
   "source": [
    "튜플의 요솟값을 변경하려고 해도 오류가 발생하는 것을 확인할 수 있다.\n",
    "\n",
    "## 튜플 다루기\n",
    "---\n",
    "튜플은 요솟값을 변화시킬 수 없다는 점만 제외하면 리스트와 완전히 동일하므로 간단하게만 살펴보자.   \n",
    "다음 예제는 서로 연관되어 있으므로 차례대로 수행해 보기 바란다.   \n",
    "\n",
    "### 인덱싱하기"
   ]
  },
  {
   "cell_type": "code",
   "execution_count": 4,
   "id": "180c66e6",
   "metadata": {},
   "outputs": [],
   "source": [
    "t1 =(1,2,'a','b')"
   ]
  },
  {
   "cell_type": "code",
   "execution_count": 5,
   "id": "15409917",
   "metadata": {},
   "outputs": [
    {
     "data": {
      "text/plain": [
       "1"
      ]
     },
     "execution_count": 5,
     "metadata": {},
     "output_type": "execute_result"
    }
   ],
   "source": [
    "t1[0]"
   ]
  },
  {
   "cell_type": "code",
   "execution_count": 6,
   "id": "366bb85b",
   "metadata": {},
   "outputs": [
    {
     "data": {
      "text/plain": [
       "'b'"
      ]
     },
     "execution_count": 6,
     "metadata": {},
     "output_type": "execute_result"
    }
   ],
   "source": [
    "t1[3]"
   ]
  },
  {
   "cell_type": "markdown",
   "id": "61f9af86",
   "metadata": {},
   "source": [
    "문자열, 리스트와 마찬가지로 t1[0], t1[3]처럼 인덱싱이 가능하다.    \n",
    "\n",
    "### 슬라이싱하기\n",
    "\n"
   ]
  },
  {
   "cell_type": "code",
   "execution_count": 7,
   "id": "4023390d",
   "metadata": {},
   "outputs": [
    {
     "data": {
      "text/plain": [
       "(2, 'a', 'b')"
      ]
     },
     "execution_count": 7,
     "metadata": {},
     "output_type": "execute_result"
    }
   ],
   "source": [
    "t1 = (1,2,'a','b')\n",
    "t1[1:]"
   ]
  },
  {
   "cell_type": "markdown",
   "id": "995f611e",
   "metadata": {},
   "source": [
    "tl[1]부터 튜플의 마지막 요소까지 슬라이싱하는 예이다.     \n",
    "\n",
    "### 튜플 더하기"
   ]
  },
  {
   "cell_type": "code",
   "execution_count": 8,
   "id": "0a32ad30",
   "metadata": {},
   "outputs": [],
   "source": [
    "t1 = (1,2,'a','b')\n",
    "t2 = (3,4)\n",
    "t3 = t1 + t2"
   ]
  },
  {
   "cell_type": "code",
   "execution_count": 9,
   "id": "ed1e712a",
   "metadata": {},
   "outputs": [
    {
     "data": {
      "text/plain": [
       "(1, 2, 'a', 'b', 3, 4)"
      ]
     },
     "execution_count": 9,
     "metadata": {},
     "output_type": "execute_result"
    }
   ],
   "source": [
    "t3"
   ]
  },
  {
   "cell_type": "markdown",
   "id": "01950837",
   "metadata": {},
   "source": [
    "튜플을 더하는 방법을 보여주는 예이다.    \n",
    "이때도 t1,t2튜플의 요솟값이 바뀌는 것은 아니다.    \n",
    "다만, t1,t2튜플을 더하여 새로운 튜플 t3를 생성한 것이다.   \n",
    "\n",
    "### 튜플 곱하기"
   ]
  },
  {
   "cell_type": "code",
   "execution_count": 10,
   "id": "0313aa66",
   "metadata": {},
   "outputs": [
    {
     "data": {
      "text/plain": [
       "(3, 4, 3, 4, 3, 4)"
      ]
     },
     "execution_count": 10,
     "metadata": {},
     "output_type": "execute_result"
    }
   ],
   "source": [
    "t2 = (3,4)\n",
    "t3 = t2 * 3\n",
    "t3"
   ]
  },
  {
   "cell_type": "markdown",
   "id": "b5952bac",
   "metadata": {},
   "source": [
    "튜플의 곱하기(반복) 예를 보여 준다.\n",
    "\n",
    "### 튜플 길이 구하기"
   ]
  },
  {
   "cell_type": "code",
   "execution_count": 11,
   "id": "e243fb67",
   "metadata": {},
   "outputs": [
    {
     "data": {
      "text/plain": [
       "4"
      ]
     },
     "execution_count": 11,
     "metadata": {},
     "output_type": "execute_result"
    }
   ],
   "source": [
    "t1 = (1,2,'a','b')\n",
    "len(t1)"
   ]
  },
  {
   "cell_type": "markdown",
   "id": "62ee1f69",
   "metadata": {},
   "source": [
    "튜플의 길이를 구하는 예이다.   \n",
    "> 튜플은 요솟값을 변경할 수 없기 때문에 sort,insert,remove,pop과 같은 내장 함수가 없다.\n",
    "\n",
    "## 02-5 딕셔너리 자료형\n",
    "---\n",
    "사람은 누구든지 \"이름\" = \"홍길동\",\"생일\" = \"몇월 며칠\" 등과 같은 방식을 그 사람이 가진 정보를 나타낼 수 있다.  \n",
    "파이썬은 영리하게도 이러한 대응 관계를 나타낼 수 있는 딕셔너리(dictionary)자료형을 가지고 있다.     \n",
    "이번에는 이 자료형에 대해 알아보자.    \n",
    "\n",
    "> 요즘 사용하는 대부분의 언어도 이러한 대응 관계를 나타내는 자료형을 가지고 있는데 ㅇ이를 딕셔너리라고 하고, '연관 배열(associative array)' 또는 '해시(hash)'라고도 한다.    \n",
    "\n",
    "### 딕셔너리란?\n",
    "---\n",
    "딕셔너리는 단어 그대로 '사전'이라는 뜻이다.   \n",
    "즉 \"people\"이라는 단어에 \"사람\",\"baseball\"이라는 단어에 \"야구\"라는 뜻이 부합되듯이 딕셔너리는 Key와 Value를 한 쌍으로 가지는 자료형이다.     \n",
    "예컨대 Key가 \"baseball\"이라면 Value는 \"야구\"가 될 것이다.      \n",
    "딕셔너리는 리스트나 튜플처럼 순차적으로(sequential) 해당 요솟값을 구하지 않고 Key를 통해 Value를 얻는다.     \n",
    "이것이 바로 딕셔너리의 가장 큰 특징이다.    \n",
    "baseball이라는 단어의 뜻을 찾기 위해 사전의 내용을 순차적으로 모두 검색하는 거시 아니라 baseball이라는 단어가 있는 곳만 펼쳐 보는 것이다.   \n",
    "\n",
    "### 딕셔너리는 어떻게 만들까?\n",
    "---\n",
    "다음은 딕셔너리의 기본 모습이다.   \n",
    "{Key1 : Value1, Key2 : Value2, Key3 : Value3...}     \n",
    "\n",
    "Key와 Value의 쌍 여려 개가 {}로 둘러싸여 있다.     \n",
    "각각의 요소는 Key:Value형태로 이루어져 있고 쉼표(,)로 구분되어 있다.   \n",
    "\n",
    "다음 딕셔너리의 예를 살펴보자.   \n",
    "dic ={'name': 'pey', 'phone': '010-9999-1234', 'birth': '1118 }       \n",
    "위에서 Key는 각각 'name', 'phone', 'birth', 각각의 Key에 해당하는 Value는 'pey','010-9999-1234', '1118'이 된다.       \n",
    "\n",
    "다음은 Key로 정숫값 1, Value로 문자열 'hi'를 사용한 예이다.    "
   ]
  },
  {
   "cell_type": "code",
   "execution_count": 12,
   "id": "43ed0af6",
   "metadata": {},
   "outputs": [],
   "source": [
    "a = {1: 'h1'}"
   ]
  },
  {
   "cell_type": "markdown",
   "id": "996bb5d3",
   "metadata": {},
   "source": [
    "또한 다음 예처럼 Value에 리스트도 넣을 수 있다.   "
   ]
  },
  {
   "cell_type": "code",
   "execution_count": 13,
   "id": "277eed78",
   "metadata": {},
   "outputs": [],
   "source": [
    "a = {'a': [1,2,3]}"
   ]
  },
  {
   "cell_type": "markdown",
   "id": "0a6fb932",
   "metadata": {},
   "source": [
    "## 딕셔너리 쌍 추가, 삭제하기\n",
    "---\n",
    "딕셔너리 쌍을 추가 또는 삭제하는 방법을 살펴보자.   \n",
    "먼저 딕셔너리에 상을 추가해보자.   \n",
    "\n",
    "### 딕셔너리 쌍 추가하기\n"
   ]
  },
  {
   "cell_type": "code",
   "execution_count": 14,
   "id": "811146fe",
   "metadata": {},
   "outputs": [
    {
     "data": {
      "text/plain": [
       "{1: 'a', 2: 'b'}"
      ]
     },
     "execution_count": 14,
     "metadata": {},
     "output_type": "execute_result"
    }
   ],
   "source": [
    "a = {1:'a'}\n",
    "a[2] = 'b'\n",
    "a"
   ]
  },
  {
   "cell_type": "markdown",
   "id": "589d3cab",
   "metadata": {},
   "source": [
    "{1:'a'}딕셔너리에 a[2]='b'와 같이 입력하면 딕셔너리 a에 Key와 Value가 각각 2와 'b'인 {2:'b'} 딕셔너리 쌍이 추가된다.     "
   ]
  },
  {
   "cell_type": "code",
   "execution_count": 16,
   "id": "c56ac516",
   "metadata": {},
   "outputs": [
    {
     "data": {
      "text/plain": [
       "{1: 'a', 2: 'b', 'name': 'pey'}"
      ]
     },
     "execution_count": 16,
     "metadata": {},
     "output_type": "execute_result"
    }
   ],
   "source": [
    "a['name'] ='pey'\n",
    "a"
   ]
  },
  {
   "cell_type": "markdown",
   "id": "17bee55a",
   "metadata": {},
   "source": [
    "닥셔너리 a에 {'name',:'pey'} 쌍이 추가되었다.    "
   ]
  },
  {
   "cell_type": "code",
   "execution_count": 17,
   "id": "95e02df2",
   "metadata": {},
   "outputs": [
    {
     "data": {
      "text/plain": [
       "{1: 'a', 2: 'b', 'name': 'pey', 3: [1, 2, 3]}"
      ]
     },
     "execution_count": 17,
     "metadata": {},
     "output_type": "execute_result"
    }
   ],
   "source": [
    "a[3] =[1,2,3]\n",
    "a"
   ]
  },
  {
   "cell_type": "markdown",
   "id": "5b8bd826",
   "metadata": {},
   "source": [
    "Key는 3, Value는 [1,2,3]을 가지는 한 쌍이 또 추가되었다.    \n",
    "\n",
    "### 딕셔너리 요소 삭제하기"
   ]
  },
  {
   "cell_type": "code",
   "execution_count": 18,
   "id": "124ddbab",
   "metadata": {},
   "outputs": [
    {
     "data": {
      "text/plain": [
       "{2: 'b', 'name': 'pey', 3: [1, 2, 3]}"
      ]
     },
     "execution_count": 18,
     "metadata": {},
     "output_type": "execute_result"
    }
   ],
   "source": [
    "del a[1]\n",
    "a"
   ]
  },
  {
   "cell_type": "markdown",
   "id": "eebe2929",
   "metadata": {},
   "source": [
    "위 예제는 딕셔너리 요소를 지우는 방법을 보여준다.    \n",
    "del함수를 사용해서 del a [key]를 입력하면 지정한 Key에 해당하는 {Key:Value}쌍이 삭제 된다.    \n",
    "\n",
    "## 딕셔너리 사용하는 방법\n",
    "---\n",
    "'딕셔너리는 주로 어떤 것을 표현하는 데 사용할까?'라는 의문이 들 것이다.    \n",
    "예를 들어 4명의 사람이 있다고 가정하고 각자의 특기를 표현할 수 있는 좋은 방법에 대해서 생각해보자.    \n",
    "리스트나 문자열로는 표현하기 매우 까다로울 것이다.     \n",
    "하지만 파이썬의 딧셔너리를 사용하면 이 상황을 표현하기가 정말 쉽다.\n",
    "\n",
    "다음 예를 살펴보자.  \n",
    "{\"김연아\" : \"피겨스케이팅\", '류현진\" : \"야구\", \"손흥민\" : \"축구\", \"귀도\" : \"파이썬\"}\n",
    "사람 이름과 특기를 한쌍으로 묶은 딕셔너리이다. 정말 간편하지 않은가?     \n",
    "\n",
    "지금껏 우리는 딕셔너리를 만드는 방법만 살펴보았는데, 딕셔너리를 제대로 활요하기 위해 알아야 할 것이 더 있다.    \n",
    "지금부터 하나씩 알아보자.    \n",
    "\n",
    "### 딕셔너리에서 Key를 사용해 Value 얻기"
   ]
  },
  {
   "cell_type": "code",
   "execution_count": 20,
   "id": "0d68acfd",
   "metadata": {},
   "outputs": [],
   "source": [
    "grade ={'pey' : 10, 'julliet' : 99}\n"
   ]
  },
  {
   "cell_type": "code",
   "execution_count": 21,
   "id": "134b597e",
   "metadata": {},
   "outputs": [
    {
     "data": {
      "text/plain": [
       "10"
      ]
     },
     "execution_count": 21,
     "metadata": {},
     "output_type": "execute_result"
    }
   ],
   "source": [
    "grade['pey']"
   ]
  },
  {
   "cell_type": "code",
   "execution_count": 22,
   "id": "03fd7274",
   "metadata": {},
   "outputs": [
    {
     "data": {
      "text/plain": [
       "99"
      ]
     },
     "execution_count": 22,
     "metadata": {},
     "output_type": "execute_result"
    }
   ],
   "source": [
    "grade['julliet']"
   ]
  },
  {
   "cell_type": "markdown",
   "id": "7d846475",
   "metadata": {},
   "source": [
    "리스트나 튜플, 문자열은 요솟값을 얻고자 할 때 인뎃싱이나 슬라이싱 기봅 중 하나를 사용했다.   \n",
    "하지만 딕셔너라는 단 1가지 방법뿐이다.   \n",
    "그것은 바로 Key를 사용해서 Value를 구하는 방법이다.     \n",
    "위 예에서 'pey'라는 Key의 Value를 얻기 위해 grade['pey']를 사용한 것처럼 어떤 Key의 Value를 억기 위해서는 '딕셔너리_변수_이름[Key]를 사용해야한다.   \n",
    "몇 가지 예를 더 살펴보자."
   ]
  },
  {
   "cell_type": "code",
   "execution_count": 24,
   "id": "1236d0fb",
   "metadata": {},
   "outputs": [],
   "source": [
    "a = {1:'a', 2:'b'}"
   ]
  },
  {
   "cell_type": "code",
   "execution_count": 25,
   "id": "8d7c1b88",
   "metadata": {},
   "outputs": [
    {
     "data": {
      "text/plain": [
       "'a'"
      ]
     },
     "execution_count": 25,
     "metadata": {},
     "output_type": "execute_result"
    }
   ],
   "source": [
    "a[1]"
   ]
  },
  {
   "cell_type": "code",
   "execution_count": 26,
   "id": "fcf789ac",
   "metadata": {},
   "outputs": [
    {
     "data": {
      "text/plain": [
       "'b'"
      ]
     },
     "execution_count": 26,
     "metadata": {},
     "output_type": "execute_result"
    }
   ],
   "source": [
    "a[2]"
   ]
  },
  {
   "cell_type": "markdown",
   "id": "8bea6af6",
   "metadata": {},
   "source": [
    "먼저 a 변수에 {1:'a',2:'b'} 딕셔너리를 대입하였다.   \n",
    "위 예에서 볼 수 있듯이 a[1]은 'a'값을 리턴한다.   \n",
    "여기에서 a[1]이 의미하는 것은 리스트나 튜플의 a[1]과는 전혀 다르다.   \n",
    "딕셔너리 변수에서 []안의 숫자 1은 두 번째 요소를 나타내는 것이 아니라 Key에 해당하는 1을 나타낸다.     \n",
    "앞에서도 말했듯이 딕셔너리는 리스트나 튜플에 있는 인덱싱 방법을 적용할 수 없다.    \n",
    "따라서 a[1]은 딕셔너리 {1:'a', 2:'b'}에서 Key가 1인 것의 Value인 'a'를 리턴한다.  \n",
    "a[2] 마찬가지이다.     \n",
    "\n",
    "이번에는 a라는 변수에 앞의 예에서 사용한 딕셔너리의 Key와 Value를 뒤집어 높은 딕셔너리를 대입해보자.   \n"
   ]
  },
  {
   "cell_type": "code",
   "execution_count": 27,
   "id": "b8bf30f2",
   "metadata": {},
   "outputs": [],
   "source": [
    "a = {'a':1, 'b':2}"
   ]
  },
  {
   "cell_type": "code",
   "execution_count": 28,
   "id": "b13d8e69",
   "metadata": {},
   "outputs": [
    {
     "data": {
      "text/plain": [
       "1"
      ]
     },
     "execution_count": 28,
     "metadata": {},
     "output_type": "execute_result"
    }
   ],
   "source": [
    "a['a']"
   ]
  },
  {
   "cell_type": "code",
   "execution_count": 29,
   "id": "46d9f688",
   "metadata": {},
   "outputs": [
    {
     "data": {
      "text/plain": [
       "2"
      ]
     },
     "execution_count": 29,
     "metadata": {},
     "output_type": "execute_result"
    }
   ],
   "source": [
    "a['b']"
   ]
  },
  {
   "cell_type": "markdown",
   "id": "9e599ae8",
   "metadata": {},
   "source": [
    "역시 a['a'],a['b']처럼 Key를 사용해서 Value를 얻을 수 있다.   \n",
    "정리하면, 딕셔너리 a는 a[Key]로 Key에 해당하는 Value를 얻는다.    \n",
    "\n",
    "다음 예는 이전에 한 번 언급한 딕셔너리인데, Key를 사용해서 Value를 얻는 방법을 잘 보여준다.   "
   ]
  },
  {
   "cell_type": "code",
   "execution_count": 30,
   "id": "6a1c6d67",
   "metadata": {},
   "outputs": [],
   "source": [
    "dic = {'name':'pey', 'phone':'010-9999-1234', 'birth': '1118'}"
   ]
  },
  {
   "cell_type": "code",
   "execution_count": 31,
   "id": "b0ecdb39",
   "metadata": {},
   "outputs": [
    {
     "data": {
      "text/plain": [
       "'pey'"
      ]
     },
     "execution_count": 31,
     "metadata": {},
     "output_type": "execute_result"
    }
   ],
   "source": [
    "dic['name']"
   ]
  },
  {
   "cell_type": "code",
   "execution_count": 32,
   "id": "0f9f7266",
   "metadata": {},
   "outputs": [
    {
     "data": {
      "text/plain": [
       "'010-9999-1234'"
      ]
     },
     "execution_count": 32,
     "metadata": {},
     "output_type": "execute_result"
    }
   ],
   "source": [
    "dic['phone']"
   ]
  },
  {
   "cell_type": "code",
   "execution_count": 35,
   "id": "a031f422",
   "metadata": {},
   "outputs": [
    {
     "data": {
      "text/plain": [
       "'1118'"
      ]
     },
     "execution_count": 35,
     "metadata": {},
     "output_type": "execute_result"
    }
   ],
   "source": [
    "dic['birth']"
   ]
  },
  {
   "cell_type": "markdown",
   "id": "18cf8d0a",
   "metadata": {},
   "source": [
    "### 딕셔너리 만들 때 주의할 사항\n",
    "\n",
    "딕셔너리에서 Key는 고유한 값이므로 중복되는 Key값을 설정해 놓으면 하나를 제외한 나머지 것들이 모두 무시된다는 점에 주의해야한다.   \n",
    "다음 예에서 볼 수 있듯이 동일한 Key가 2개 존재할 경우, 1:'a'쌍이 무시된다.    "
   ]
  },
  {
   "cell_type": "code",
   "execution_count": 36,
   "id": "0d24548e",
   "metadata": {},
   "outputs": [
    {
     "data": {
      "text/plain": [
       "{1: 'b'}"
      ]
     },
     "execution_count": 36,
     "metadata": {},
     "output_type": "execute_result"
    }
   ],
   "source": [
    "a = {1: 'a', 1:'b'}\n",
    "a"
   ]
  },
  {
   "cell_type": "markdown",
   "id": "089cb379",
   "metadata": {},
   "source": [
    "이렇게 Key가 중복되었을 때 1개를 제외한 나머지 Key:Value 값이 모두 무시되는 이유는 Key를 통해서 Value를 얻는 딕셔너리의 특징 때문이다.      \n",
    "즉, 딕셔너리에는 동일한 Key가 중복으로 존재할 수 없다.    \n",
    "\n",
    "또, 1가지 주의해야 할 점은 Key에 리스트는 쓸 수 없다는 것이다.    \n",
    "하지만 튜플은 Key로 쓸수 있다.  \n",
    "딕셔너리의 Key로 쓸 수 있느냐, 없는냐는 Key가 변하는(mutable)값인지, 변하지 않는(immutable)값인지에 달려 있다.    \n",
    "리스트는 그 값이 변할 수 있기 때문에 Key로 쓸 수 없다.     \n",
    "다음 예처럼 리스트를 Key로 설명하면 리스트를 키 값으로 사용할 수 없ㄷ다는 오류가 발생한다.     "
   ]
  },
  {
   "cell_type": "code",
   "execution_count": 37,
   "id": "6efaaae1",
   "metadata": {},
   "outputs": [
    {
     "ename": "TypeError",
     "evalue": "unhashable type: 'list'",
     "output_type": "error",
     "traceback": [
      "\u001b[0;31m---------------------------------------------------------------------------\u001b[0m",
      "\u001b[0;31mTypeError\u001b[0m                                 Traceback (most recent call last)",
      "Cell \u001b[0;32mIn[37], line 1\u001b[0m\n\u001b[0;32m----> 1\u001b[0m a \u001b[38;5;241m=\u001b[39m{[\u001b[38;5;241m1\u001b[39m,\u001b[38;5;241m2\u001b[39m]: \u001b[38;5;124m'\u001b[39m\u001b[38;5;124mhi\u001b[39m\u001b[38;5;124m'\u001b[39m}\n",
      "\u001b[0;31mTypeError\u001b[0m: unhashable type: 'list'"
     ]
    }
   ],
   "source": [
    "a ={[1,2]: 'hi'}"
   ]
  },
  {
   "cell_type": "markdown",
   "id": "61f276ea",
   "metadata": {},
   "source": [
    "단, Value에는 변하는 값이든, 변하지 않는 값이든 아무 값이나 넣을 수 있다.\n",
    "\n",
    "## 딕셔너리 관련 함수\n",
    "---\n",
    "딕셔너리를 자유자재로 사용하기 위해 딕셔너리가 자체적으로 가지고 있는 관련 함수를 사용해 보자.     \n",
    "\n",
    "### Key 리스트 만들기 - keys"
   ]
  },
  {
   "cell_type": "code",
   "execution_count": 38,
   "id": "f64e29a5",
   "metadata": {},
   "outputs": [
    {
     "data": {
      "text/plain": [
       "dict_keys(['name', 'phone', 'birth'])"
      ]
     },
     "execution_count": 38,
     "metadata": {},
     "output_type": "execute_result"
    }
   ],
   "source": [
    "a = {'name' : 'pey', 'phone' : '010-9999-1234', 'birth' : '1118'}\n",
    "a.keys()"
   ]
  },
  {
   "cell_type": "markdown",
   "id": "2d6b8a46",
   "metadata": {},
   "source": [
    "a.keys()는 딕셔너리 a의 Key만을 모아 dict_keys 객체를 리턴한다.   \n",
    "\n",
    "#### 파이썬 3.0 이후 버전의 keys함수, 어떻게 달라졌나?\n",
    "\n",
    "파이썬 2.7버전까지는 a.keys()함수를 호출하면 dict_keys가 아닌 리스트를 리턴한다.    \n",
    "리스트를 리턴하기 위해서는 메모리 낭비가 발생하는데, 파이썬 3.0이후 버전에서는 이러한 메모리 낭비를 줄이기 위해 dict_keys 객체를 리턴하도록 변경되었다.     \n",
    "다음에 소개할 dict_vlaues,dict_items 역시 파이썬 3.0이후 버전에서 추가된 것들이다.    \n",
    "만약 3.0이후 버전에서 리턴값으로 리스트가 필요한 경우에는 list(a.keys())를 사용하면 된다.     \n",
    "dict_keys, dict_values, dict_items 객체는 리스트로 변환하지 않더라도 기본적인 반복 구문(예: for문)에서 사용할 수 있다.     \n",
    "\n",
    "dict_keys 객체는 다음과 같이 사용할 수 있다.   \n",
    "리스트를 사용하는 것과 별 차이는 없지만, 리스트 고유의 append,insert,pop,remove,sort함수는 수행할 수 없다.   \n"
   ]
  },
  {
   "cell_type": "code",
   "execution_count": 39,
   "id": "cb4e25be",
   "metadata": {},
   "outputs": [
    {
     "name": "stdout",
     "output_type": "stream",
     "text": [
      "name\n",
      "phone\n",
      "birth\n"
     ]
    }
   ],
   "source": [
    "for k in a.keys():\n",
    "    print(k)"
   ]
  },
  {
   "cell_type": "markdown",
   "id": "6523f987",
   "metadata": {},
   "source": [
    "> - print(k)를 입력할 때 들여쓰기를 하지 않으면 올가 발생하므로 주의하자.   \n",
    "> - for 문 등 반복 구문에 대해서는 03장에서 자세히 살펴본다.    \n",
    "\n",
    "dict_keys 객체를 리스트로 변환하려면 다음과 같이 하면 된다.   "
   ]
  },
  {
   "cell_type": "code",
   "execution_count": 40,
   "id": "2bfdee3e",
   "metadata": {},
   "outputs": [
    {
     "data": {
      "text/plain": [
       "['name', 'phone', 'birth']"
      ]
     },
     "execution_count": 40,
     "metadata": {},
     "output_type": "execute_result"
    }
   ],
   "source": [
    "list(a.keys())"
   ]
  },
  {
   "cell_type": "markdown",
   "id": "437c7529",
   "metadata": {},
   "source": [
    "## Value 리스트 만들기 - values\n",
    "---"
   ]
  },
  {
   "cell_type": "code",
   "execution_count": 41,
   "id": "c89a2808",
   "metadata": {},
   "outputs": [
    {
     "data": {
      "text/plain": [
       "dict_values(['pey', '010-9999-1234', '1118'])"
      ]
     },
     "execution_count": 41,
     "metadata": {},
     "output_type": "execute_result"
    }
   ],
   "source": [
    "a.values()"
   ]
  },
  {
   "cell_type": "markdown",
   "id": "7fa5d4bd",
   "metadata": {},
   "source": [
    "Key를 얻는 것과 마찬가지로 방법으로 Value만 언고 싶다면 values함수를 사용하면 된다.    \n",
    "values함수를 호출하면 dict_values객체를 리턴한다.    \n",
    "\n",
    "### Key,Value 쌍 얻기 - items"
   ]
  },
  {
   "cell_type": "code",
   "execution_count": 42,
   "id": "b67f595a",
   "metadata": {},
   "outputs": [
    {
     "data": {
      "text/plain": [
       "dict_items([('name', 'pey'), ('phone', '010-9999-1234'), ('birth', '1118')])"
      ]
     },
     "execution_count": 42,
     "metadata": {},
     "output_type": "execute_result"
    }
   ],
   "source": [
    "a.items()"
   ]
  },
  {
   "cell_type": "markdown",
   "id": "424bf33e",
   "metadata": {},
   "source": [
    "items함수는 Key와 Value의 쌍을 튜플로 묶은 값을 dict_items 객체로 리턴한다.     \n",
    "\n",
    "### Key:Value 쌍 모두 지우기 - clear"
   ]
  },
  {
   "cell_type": "code",
   "execution_count": 43,
   "id": "0ff55b6b",
   "metadata": {},
   "outputs": [
    {
     "data": {
      "text/plain": [
       "{}"
      ]
     },
     "execution_count": 43,
     "metadata": {},
     "output_type": "execute_result"
    }
   ],
   "source": [
    "a.clear()\n",
    "a"
   ]
  },
  {
   "cell_type": "markdown",
   "id": "0e953483",
   "metadata": {},
   "source": [
    "clear함수는 딕셔너리 안의 모든 요소를 삭제한다.\n",
    "\n",
    "> 빈 리스트[],빈 튜플을()로 표현하는 것과 마찬가지로 빈 딕셔너리도 {}로 표현한다.    \n",
    "\n",
    "### Key로 Value 얻기 - get"
   ]
  },
  {
   "cell_type": "code",
   "execution_count": 44,
   "id": "9b46bc1d",
   "metadata": {},
   "outputs": [],
   "source": [
    "a = {'name':'pey', 'phone':'010-9999-1234', 'birth' : '1118'}"
   ]
  },
  {
   "cell_type": "code",
   "execution_count": 45,
   "id": "57481a49",
   "metadata": {},
   "outputs": [
    {
     "data": {
      "text/plain": [
       "'pey'"
      ]
     },
     "execution_count": 45,
     "metadata": {},
     "output_type": "execute_result"
    }
   ],
   "source": [
    "a.get('name')"
   ]
  },
  {
   "cell_type": "code",
   "execution_count": 46,
   "id": "4e53b93d",
   "metadata": {},
   "outputs": [
    {
     "data": {
      "text/plain": [
       "'010-9999-1234'"
      ]
     },
     "execution_count": 46,
     "metadata": {},
     "output_type": "execute_result"
    }
   ],
   "source": [
    "a.get('phone')"
   ]
  },
  {
   "cell_type": "markdown",
   "id": "c4de73c8",
   "metadata": {},
   "source": [
    "get(x)함수는 x라는 Key에 대응되는 Value를 리턴한다.   \n",
    "앞에서 살펴보았듯이 a.get('name')은 a['name']을 사용했을 때와 동일한 결괏값을 리턴한다.    \n",
    "\n",
    "다만, 다음 예제에서 볼 수 있듯이 a ['nokey']처럼 딕셔너리에 존재하지 않는 키로 값을 가져오려고 할 경우, a['nokey']방식은 오류를 발생시키고 a.get('nokey')방식은 None을 리턴한다는 차이가 있다.    \n",
    "어떤 것을 사용할 것인지는 여러분의 선택에 달려있다.   \n",
    "\n",
    "> 여기에서 None은 '거짓'이라는 뜻이라고만 알아 두자.    "
   ]
  },
  {
   "cell_type": "code",
   "execution_count": 48,
   "id": "8759697f",
   "metadata": {},
   "outputs": [],
   "source": [
    "a = {'name':'pey', 'phone':'010-9999-1234', 'birth':'1118'}"
   ]
  },
  {
   "cell_type": "code",
   "execution_count": 49,
   "id": "8ec257e4",
   "metadata": {},
   "outputs": [
    {
     "name": "stdout",
     "output_type": "stream",
     "text": [
      "None\n"
     ]
    }
   ],
   "source": [
    "print(a.get('nokey'))"
   ]
  },
  {
   "cell_type": "code",
   "execution_count": 50,
   "id": "bdf6d30a",
   "metadata": {},
   "outputs": [
    {
     "ename": "KeyError",
     "evalue": "'nokey'",
     "output_type": "error",
     "traceback": [
      "\u001b[0;31m---------------------------------------------------------------------------\u001b[0m",
      "\u001b[0;31mKeyError\u001b[0m                                  Traceback (most recent call last)",
      "Cell \u001b[0;32mIn[50], line 1\u001b[0m\n\u001b[0;32m----> 1\u001b[0m \u001b[38;5;28mprint\u001b[39m(\u001b[43ma\u001b[49m\u001b[43m[\u001b[49m\u001b[38;5;124;43m'\u001b[39;49m\u001b[38;5;124;43mnokey\u001b[39;49m\u001b[38;5;124;43m'\u001b[39;49m\u001b[43m]\u001b[49m)\n",
      "\u001b[0;31mKeyError\u001b[0m: 'nokey'"
     ]
    }
   ],
   "source": [
    "print(a['nokey'])"
   ]
  },
  {
   "cell_type": "markdown",
   "id": "4176b8e7",
   "metadata": {},
   "source": [
    "딕셔너리 안에 찾으려는 Key가 없을 경우, 미리 정해 둔 디폴트 값을 대신 가져오게 하고 싶을 때는 get(x,'디폴트값')을 사용하면 편리하다."
   ]
  },
  {
   "cell_type": "code",
   "execution_count": 51,
   "id": "7bc9708a",
   "metadata": {},
   "outputs": [
    {
     "data": {
      "text/plain": [
       "'foo'"
      ]
     },
     "execution_count": 51,
     "metadata": {},
     "output_type": "execute_result"
    }
   ],
   "source": [
    "a.get('nokey','foo')"
   ]
  },
  {
   "cell_type": "markdown",
   "id": "eac07dde",
   "metadata": {},
   "source": [
    "딕셔너리 a에는 'nokey'에 해당하는 Key가 없다.    \n",
    "따라서 디폴트 값인 'foo'를 리턴한다.    \n",
    "\n",
    "### 해당 Key가 딕셔너리 안에 있는지 조사하기 - in"
   ]
  },
  {
   "cell_type": "code",
   "execution_count": 52,
   "id": "bcefeac4",
   "metadata": {},
   "outputs": [],
   "source": [
    "a = {'name':'pey', 'phone':'010-9999-1234', 'birth': '1118'}"
   ]
  },
  {
   "cell_type": "code",
   "execution_count": 53,
   "id": "c8574db4",
   "metadata": {},
   "outputs": [
    {
     "data": {
      "text/plain": [
       "True"
      ]
     },
     "execution_count": 53,
     "metadata": {},
     "output_type": "execute_result"
    }
   ],
   "source": [
    "'name'in a"
   ]
  },
  {
   "cell_type": "code",
   "execution_count": 54,
   "id": "82f56e7a",
   "metadata": {},
   "outputs": [
    {
     "data": {
      "text/plain": [
       "False"
      ]
     },
     "execution_count": 54,
     "metadata": {},
     "output_type": "execute_result"
    }
   ],
   "source": [
    "'email' in a"
   ]
  },
  {
   "cell_type": "markdown",
   "id": "0a1321a7",
   "metadata": {},
   "source": [
    "'name' 문자열은 a 딕셔너리의 Key 중 하나이다.    \n",
    "따라서 'name' in a 를 호출하면 참(True)을 리턴한다.    \n",
    "이와 반대로 'email'은 a 딕셔너리 안에 존재하지 않는 Key이므로 거짓(False)을 리턴한다.  \n",
    "\n",
    "## 02-6 집합 자료형\n",
    "---\n",
    "집합(set)은 집합에 관련된 것을 쉽게 처리하기 위해 만든 자료형이다.    \n",
    "\n",
    "## 집합 자료형은 어떻게 만들까?\n",
    "---\n",
    "집합 자료형은 다음과 같이 set 키워드를 사용해 만들 수 있다.   "
   ]
  },
  {
   "cell_type": "code",
   "execution_count": 1,
   "id": "f035d988",
   "metadata": {},
   "outputs": [
    {
     "data": {
      "text/plain": [
       "{1, 2, 3}"
      ]
     },
     "execution_count": 1,
     "metadata": {},
     "output_type": "execute_result"
    }
   ],
   "source": [
    "s1 = set([1,2,3])\n",
    "s1"
   ]
  },
  {
   "cell_type": "markdown",
   "id": "a4290a56",
   "metadata": {},
   "source": [
    "위와 같이 set()의 괄호 안에 리스트를 입력하여 만들거나 다음과 같이 문자열을 입력하여 만들 수도 있다.  "
   ]
  },
  {
   "cell_type": "code",
   "execution_count": 2,
   "id": "c705b870",
   "metadata": {},
   "outputs": [
    {
     "data": {
      "text/plain": [
       "{'H', 'e', 'l', 'o'}"
      ]
     },
     "execution_count": 2,
     "metadata": {},
     "output_type": "execute_result"
    }
   ],
   "source": [
    "s2 = set(\"Hello\")\n",
    "s2"
   ]
  },
  {
   "cell_type": "markdown",
   "id": "aa9be0e3",
   "metadata": {},
   "source": [
    "> 비어 있는 집합 자료형 s = set()로 만들 수 있다.    \n",
    "\n",
    "## 집합 자료형의 특징\n",
    "----\n",
    "그런데 위에서 살펴본 set(\"Hello\")의 결과가 좀 이상하지 않는가? 분명 \"Hello\" 문자열로 set자려형을 만들었는데 생성된 자료형에는 l문자가 하나 빠져 있고 순서도 뒤죽박죽이다.    \n",
    "그 이유는 set에 다음과 같은 2가지 특징이 있기 때문이다.   \n",
    "\n",
    "- 중복을 허용하지 않는다.  \n",
    "- 순서가 없다 (Unordered)\n",
    "\n",
    "> set은 중복을 허용하지 않는 특징 때문에 데이터의 중복을 제거하기 위한 필터로 종종 사용한다.        \n",
    "\n",
    "리스트나 튜플은 순서가 있기(ordered) 때문에 인덱싱을 통해 요솟값을 얻을 수 있지만, set자료형은 순서가 없기 (unodered) 때문에 인덱싱을 통해 요솟값을 얻을 수 없다.    \n",
    "이는 마치 02-5에서 살펴본 익셔너리와 비슷한다.    \n",
    "딕셔너리 역시 순성가 없는 자료형이므로 인덱싱을 지원하지 않는다.    \n",
    "\n",
    "만약 set자료형에 저장된 값을 인덱싱으로 접근하려면 다음과 같은 리스트나 튜플로 변환한 후에 해야한다.   "
   ]
  },
  {
   "cell_type": "code",
   "execution_count": 4,
   "id": "b6b81cff",
   "metadata": {},
   "outputs": [],
   "source": [
    "s1 = set([1,2,3])\n",
    "l1 = list(s1)"
   ]
  },
  {
   "cell_type": "code",
   "execution_count": 5,
   "id": "497426e1",
   "metadata": {},
   "outputs": [
    {
     "data": {
      "text/plain": [
       "[1, 2, 3]"
      ]
     },
     "execution_count": 5,
     "metadata": {},
     "output_type": "execute_result"
    }
   ],
   "source": [
    "l1"
   ]
  },
  {
   "cell_type": "code",
   "execution_count": 6,
   "id": "882420f6",
   "metadata": {},
   "outputs": [
    {
     "data": {
      "text/plain": [
       "1"
      ]
     },
     "execution_count": 6,
     "metadata": {},
     "output_type": "execute_result"
    }
   ],
   "source": [
    "l1[0]"
   ]
  },
  {
   "cell_type": "code",
   "execution_count": 7,
   "id": "997a81c9",
   "metadata": {},
   "outputs": [],
   "source": [
    "t1 = tuple(s1)"
   ]
  },
  {
   "cell_type": "code",
   "execution_count": 8,
   "id": "01cea984",
   "metadata": {},
   "outputs": [
    {
     "data": {
      "text/plain": [
       "(1, 2, 3)"
      ]
     },
     "execution_count": 8,
     "metadata": {},
     "output_type": "execute_result"
    }
   ],
   "source": [
    "t1"
   ]
  },
  {
   "cell_type": "code",
   "execution_count": 9,
   "id": "c31b6d9c",
   "metadata": {},
   "outputs": [
    {
     "data": {
      "text/plain": [
       "1"
      ]
     },
     "execution_count": 9,
     "metadata": {},
     "output_type": "execute_result"
    }
   ],
   "source": [
    "t1[0]"
   ]
  },
  {
   "cell_type": "markdown",
   "id": "ba97fc74",
   "metadata": {},
   "source": [
    "## 교집합, 합집합, 차집합 구하기\n",
    "---\n",
    "set 자료형을 정말 유용하게 사용하는 경우는 교집합, 합집합, 차집합을 구할 때 이다.   \n",
    "\n",
    "먼저 다음과 같은 2개의 set 자료형을 만든 후 따라 해보자.     \n",
    "s1에는 1부터 6까지의 값, s2에는 4부터 9까지의 값을 주었다.   "
   ]
  },
  {
   "cell_type": "code",
   "execution_count": 20,
   "id": "fdefe606",
   "metadata": {},
   "outputs": [],
   "source": [
    "s1 = set([1,2,3,4,5,6])\n",
    "s2 = set([4,5,6,7,8,9])"
   ]
  },
  {
   "cell_type": "markdown",
   "id": "06cd3d2f",
   "metadata": {},
   "source": [
    "### 교집합 구하기\n",
    "s1과 s2의 교집합 구해보자.   \n",
    "다음과 같이 '&'를 이용하면 교집합을 간단히 구할 수 있다.   "
   ]
  },
  {
   "cell_type": "code",
   "execution_count": 21,
   "id": "e66d801f",
   "metadata": {},
   "outputs": [
    {
     "data": {
      "text/plain": [
       "{4, 5, 6}"
      ]
     },
     "execution_count": 21,
     "metadata": {},
     "output_type": "execute_result"
    }
   ],
   "source": [
    "s1 & s2"
   ]
  },
  {
   "cell_type": "markdown",
   "id": "c8d670ac",
   "metadata": {},
   "source": [
    "또는 다음과 같이 intersection 함수를 사용해도 결과는 동일하다.   "
   ]
  },
  {
   "cell_type": "code",
   "execution_count": 22,
   "id": "f893b8a7",
   "metadata": {},
   "outputs": [
    {
     "data": {
      "text/plain": [
       "{4, 5, 6}"
      ]
     },
     "execution_count": 22,
     "metadata": {},
     "output_type": "execute_result"
    }
   ],
   "source": [
    "s1.intersection(s2)"
   ]
  },
  {
   "cell_type": "markdown",
   "id": "0869096b",
   "metadata": {},
   "source": [
    "s2.intersection(s1)을 사용해도 결과는 동일하다.   \n",
    "\n",
    "### 합집합 구하기\n",
    "이번에는 합집합을 구해보자.        \n",
    "'|'를 사용하면 합집합을 구할 수 있다.    \n",
    "이때 4,5,6 처럼 중복해서 포함된 값은 1 개씩만 표현된다.   "
   ]
  },
  {
   "cell_type": "code",
   "execution_count": 23,
   "id": "6adc2248",
   "metadata": {},
   "outputs": [
    {
     "data": {
      "text/plain": [
       "{1, 2, 3, 4, 5, 6, 7, 8, 9}"
      ]
     },
     "execution_count": 23,
     "metadata": {},
     "output_type": "execute_result"
    }
   ],
   "source": [
    "s1 | s2"
   ]
  },
  {
   "cell_type": "markdown",
   "id": "b881dac1",
   "metadata": {},
   "source": [
    "union 함수를 사용해도 된다.   "
   ]
  },
  {
   "cell_type": "code",
   "execution_count": 24,
   "id": "9dc31513",
   "metadata": {},
   "outputs": [
    {
     "data": {
      "text/plain": [
       "{1, 2, 3, 4, 5, 6, 7, 8, 9}"
      ]
     },
     "execution_count": 24,
     "metadata": {},
     "output_type": "execute_result"
    }
   ],
   "source": [
    "s1.union(s2)"
   ]
  },
  {
   "cell_type": "markdown",
   "id": "b4900e09",
   "metadata": {},
   "source": [
    "s2.union(s1)을 사용해도 결과는 동일하다.    \n",
    "\n",
    "### 차집합 구하기\n",
    "---\n",
    "마지막으로 차집합을 구해보자.    \n",
    "-(빼기)를 사용하면 차집합을 구할 수 있다.   "
   ]
  },
  {
   "cell_type": "code",
   "execution_count": 25,
   "id": "09df01e1",
   "metadata": {},
   "outputs": [
    {
     "data": {
      "text/plain": [
       "{1, 2, 3}"
      ]
     },
     "execution_count": 25,
     "metadata": {},
     "output_type": "execute_result"
    }
   ],
   "source": [
    "s1 - s2"
   ]
  },
  {
   "cell_type": "code",
   "execution_count": 26,
   "id": "230ba872",
   "metadata": {},
   "outputs": [
    {
     "data": {
      "text/plain": [
       "{7, 8, 9}"
      ]
     },
     "execution_count": 26,
     "metadata": {},
     "output_type": "execute_result"
    }
   ],
   "source": [
    "s2 - s1"
   ]
  },
  {
   "cell_type": "markdown",
   "id": "db483be1",
   "metadata": {},
   "source": [
    "difference함수를 사용해도 차집합을 구할 수 있다.   "
   ]
  },
  {
   "cell_type": "code",
   "execution_count": 27,
   "id": "fb8de0b0",
   "metadata": {},
   "outputs": [
    {
     "data": {
      "text/plain": [
       "{1, 2, 3}"
      ]
     },
     "execution_count": 27,
     "metadata": {},
     "output_type": "execute_result"
    }
   ],
   "source": [
    "s1.difference(s2)"
   ]
  },
  {
   "cell_type": "code",
   "execution_count": 29,
   "id": "524c2c45",
   "metadata": {},
   "outputs": [
    {
     "data": {
      "text/plain": [
       "{7, 8, 9}"
      ]
     },
     "execution_count": 29,
     "metadata": {},
     "output_type": "execute_result"
    }
   ],
   "source": [
    "s2.difference(s1)"
   ]
  },
  {
   "cell_type": "markdown",
   "id": "0eac80e4",
   "metadata": {},
   "source": [
    "## 집합 자료형 관련 함수  \n",
    "---\n",
    "이미 만들어진 set 자료형에 추가할 수 있다.     \n",
    "1개의 값만 추가 add할 때는 다음과 같이 하면 된다.    "
   ]
  },
  {
   "cell_type": "code",
   "execution_count": 30,
   "id": "8d7975b6",
   "metadata": {},
   "outputs": [
    {
     "data": {
      "text/plain": [
       "{1, 2, 3, 4}"
      ]
     },
     "execution_count": 30,
     "metadata": {},
     "output_type": "execute_result"
    }
   ],
   "source": [
    "s1 = set([1,2,3])\n",
    "s1.add(4)\n",
    "s1"
   ]
  },
  {
   "cell_type": "markdown",
   "id": "691a29d6",
   "metadata": {},
   "source": [
    "### 값 여러 개 추가하기 - update\n",
    "여러 개의 값을 한꺼번에 추가(update)할 때는 다음과 같이 하면 된다.    "
   ]
  },
  {
   "cell_type": "code",
   "execution_count": 31,
   "id": "f0a07a57",
   "metadata": {},
   "outputs": [
    {
     "data": {
      "text/plain": [
       "{1, 2, 3, 4, 5, 6}"
      ]
     },
     "execution_count": 31,
     "metadata": {},
     "output_type": "execute_result"
    }
   ],
   "source": [
    "s1 = set([1,2,3])\n",
    "s1.update([4,5,6])\n",
    "s1"
   ]
  },
  {
   "cell_type": "markdown",
   "id": "53883af5",
   "metadata": {},
   "source": [
    "### 특정 값 제거하기 - remove\n",
    "특정 값을 제거하고 싶을 때는 다음과 같이 하면 된다.   "
   ]
  },
  {
   "cell_type": "code",
   "execution_count": 32,
   "id": "0814428b",
   "metadata": {},
   "outputs": [
    {
     "data": {
      "text/plain": [
       "{1, 3}"
      ]
     },
     "execution_count": 32,
     "metadata": {},
     "output_type": "execute_result"
    }
   ],
   "source": [
    "s1 =set([1,2,3])\n",
    "s1.remove(2)\n",
    "s1"
   ]
  },
  {
   "cell_type": "code",
   "execution_count": null,
   "id": "f9901aef",
   "metadata": {},
   "outputs": [],
   "source": []
  }
 ],
 "metadata": {
  "kernelspec": {
   "display_name": "Python 3",
   "language": "python",
   "name": "python3"
  },
  "language_info": {
   "codemirror_mode": {
    "name": "ipython",
    "version": 3
   },
   "file_extension": ".py",
   "mimetype": "text/x-python",
   "name": "python",
   "nbconvert_exporter": "python",
   "pygments_lexer": "ipython3",
   "version": "3.9.6"
  }
 },
 "nbformat": 4,
 "nbformat_minor": 5
}
